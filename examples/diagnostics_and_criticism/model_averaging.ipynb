{
 "cells": [
  {
   "cell_type": "markdown",
   "metadata": {},
   "source": [
    "(model_averaging)=\n",
    "# Model Averaging\n",
    "\n",
    ":::{post} Aug 2022\n",
    ":tags: model comparison, model averaging\n",
    ":category: intermediate\n",
    ":author: Osvaldo Martin\n",
    ":::"
   ]
  },
  {
   "cell_type": "code",
   "execution_count": 1,
   "metadata": {
    "papermill": {
     "duration": 4.910288,
     "end_time": "2020-11-29T12:13:07.788552",
     "exception": false,
     "start_time": "2020-11-29T12:13:02.878264",
     "status": "completed"
    },
    "tags": []
   },
   "outputs": [
    {
     "name": "stdout",
     "output_type": "stream",
     "text": [
      "Running on PyMC3 v3.11.5\n"
     ]
    }
   ],
   "source": [
    "import arviz as az\n",
    "import matplotlib.pyplot as plt\n",
    "import numpy as np\n",
    "import pandas as pd\n",
    "import pymc3 as pm\n",
    "\n",
    "print(f\"Running on PyMC3 v{pm.__version__}\")"
   ]
  },
  {
   "cell_type": "code",
   "execution_count": 2,
   "metadata": {
    "papermill": {
     "duration": 0.058811,
     "end_time": "2020-11-29T12:13:07.895012",
     "exception": false,
     "start_time": "2020-11-29T12:13:07.836201",
     "status": "completed"
    },
    "tags": []
   },
   "outputs": [],
   "source": [
    "RANDOM_SEED = 8927\n",
    "np.random.seed(RANDOM_SEED)\n",
    "az.style.use(\"arviz-darkgrid\")"
   ]
  },
  {
   "cell_type": "markdown",
   "metadata": {
    "papermill": {
     "duration": 0.068882,
     "end_time": "2020-11-29T12:13:08.020372",
     "exception": false,
     "start_time": "2020-11-29T12:13:07.951490",
     "status": "completed"
    },
    "tags": []
   },
   "source": [
    "# Model averaging\n",
    "\n",
    "When confronted with more than one model we have several options. One of them is to perform model selection, using for example a given Information Criterion as exemplified the [model comparison notebook](../generalized_linear_models/model_comparison.ipynb) and the [GLM model selection notebook](../generalized_linear_models/GLM-model-selection.ipynb). Model selection is appealing for its simplicity, but we are discarding information about the uncertainty in our models. This is somehow similar to computing the full posterior and then just keep a point-estimate like the posterior mean; we may become overconfident of what we really know.\n",
    "\n",
    "One alternative is to perform model selection but discuss all the different models together with the computed values of a given Information Criterion. It is important to put all these numbers and tests in the context of our problem so that we and our audience can have a better feeling of the possible limitations and shortcomings of our methods. If you are in the academic world you can use this approach to add elements to the discussion section of a paper, presentation, thesis, and so on.\n",
    "\n",
    "Yet another approach is to perform model averaging. The idea now is to generate a meta-model (and meta-predictions) using a weighted average of the models. There are several ways to do this and PyMC includes 3 of them that we are going to briefly discuss, you will find a more thorough explanation in the work by [Yuling Yao et. al.](https://arxiv.org/abs/1704.02030)\n",
    "\n",
    "## Pseudo Bayesian model averaging\n",
    "\n",
    "Bayesian models can be weighted by their marginal likelihood, this is known as Bayesian Model Averaging. While this is theoretically appealing, it is problematic in practice: on the one hand the marginal likelihood is highly sensible to the specification of the prior, in a way that parameter estimation is not, and on the other, computing the marginal likelihood is usually a challenging task. An alternative route is to use the values of WAIC (Widely Applicable Information Criterion) or LOO (pareto-smoothed importance sampling Leave-One-Out cross-validation), which we will call generically IC, to estimate weights. We can do this by using the following formula:\n",
    "\n",
    "$$w_i = \\frac {e^{ - \\frac{1}{2} dIC_i }} {\\sum_j^M e^{ - \\frac{1}{2} dIC_j }}$$\n",
    "\n",
    "Where $dIC_i$ is the difference between the i-esim information criterion value and the lowest one. Remember that the lowest the value of the IC, the better. We can use any information criterion we want to compute a set of weights, but, of course, we cannot mix them. \n",
    "\n",
    "This approach is called pseudo Bayesian model averaging, or Akaike-like weighting and is an heuristic way to compute the relative probability of each model (given a fixed set of models) from the information criteria values. Look how the denominator is just a normalization term to ensure that the weights sum up to one.\n",
    "\n",
    "## Pseudo Bayesian model averaging with Bayesian Bootstrapping\n",
    "\n",
    "The above formula for computing weights is a very nice and simple approach, but with one major caveat it does not take into account the uncertainty in the computation of the IC. We could compute the standard error of the IC (assuming a Gaussian approximation) and modify the above formula accordingly. Or we can do something more robust, like using a [Bayesian Bootstrapping](http://www.sumsar.net/blog/2015/04/the-non-parametric-bootstrap-as-a-bayesian-model/) to estimate, and incorporate this uncertainty.\n",
    "\n",
    "## Stacking\n",
    "\n",
    "The third approach implemented in PyMC is known as [_stacking of predictive distributions_](https://arxiv.org/abs/1704.02030). We want to combine several models in a metamodel in order to minimize the divergence between the meta-model and the _true_ generating model, when using a logarithmic scoring rule this is equivalent to:\n",
    "\n",
    "$$\\max_{w} \\frac{1}{n} \\sum_{i=1}^{n}log\\sum_{k=1}^{K} w_k p(y_i|y_{-i}, M_k)$$\n",
    "\n",
    "Where $n$ is the number of data points and $K$ the number of models. To enforce a solution we constrain $w$ to be $w_k \\ge 0$ and  $\\sum_{k=1}^{K} w_k = 1$. \n",
    "\n",
    "The quantity $p(y_i|y_{-i}, M_k)$ is the leave-one-out predictive distribution for the $M_k$ model. Computing it requires fitting each model $n$ times, each time leaving out one data point. Fortunately we can approximate the exact leave-one-out predictive distribution using LOO (or even WAIC), and that is what we do in practice.\n",
    "\n",
    "## Weighted posterior predictive samples\n",
    "\n",
    "Once we have computed the weights, using any of the above 3 methods,  we can use them to get a weighted posterior predictive samples. PyMC offers functions to perform these steps in a simple way, so let see them in action using an example.\n",
    "\n",
    "The following example is taken from the superb book [Statistical Rethinking](http://xcelab.net/rm/statistical-rethinking/) by Richard McElreath. You will find more PyMC examples from this book in this [repository](https://github.com/aloctavodia/Statistical-Rethinking-with-Python-and-PyMC3). We are going to explore a simplified version of it. Check the book for the whole example and a more thorough discussion of both, the biological motivation for this problem and a theoretical/practical discussion of using Information Criteria to compare, select and average models.\n",
    "\n",
    "Briefly, our problem is as follows: We want to explore the composition of milk across several primate species, it is hypothesized that females from species of primates with larger brains produce more _nutritious_ milk (loosely speaking this is done _in order to_ support the development of such big brains). This is an important question for evolutionary biologists and try to give an answer we will use 3 variables, two predictor variables: the proportion of neocortex compare to the total mass of the brain and the logarithm of the body mass of the mothers. And for predicted variable, the kilocalories per gram of milk. With these variables we are going to build 3 different linear models:\n",
    " \n",
    "1. A model using only the neocortex variable\n",
    "2. A model using only the logarithm of the mass variable\n",
    "3. A model using both variables\n",
    "\n",
    "Let start by uploading the data and centering the `neocortex` and `log mass` variables, for better sampling."
   ]
  },
  {
   "cell_type": "code",
   "execution_count": 3,
   "metadata": {
    "papermill": {
     "duration": 1.114901,
     "end_time": "2020-11-29T12:13:09.196103",
     "exception": false,
     "start_time": "2020-11-29T12:13:08.081202",
     "status": "completed"
    },
    "tags": []
   },
   "outputs": [
    {
     "data": {
      "text/html": [
       "<div>\n",
       "<style scoped>\n",
       "    .dataframe tbody tr th:only-of-type {\n",
       "        vertical-align: middle;\n",
       "    }\n",
       "\n",
       "    .dataframe tbody tr th {\n",
       "        vertical-align: top;\n",
       "    }\n",
       "\n",
       "    .dataframe thead th {\n",
       "        text-align: right;\n",
       "    }\n",
       "</style>\n",
       "<table border=\"1\" class=\"dataframe\">\n",
       "  <thead>\n",
       "    <tr style=\"text-align: right;\">\n",
       "      <th></th>\n",
       "      <th>kcal.per.g</th>\n",
       "      <th>neocortex</th>\n",
       "      <th>log_mass</th>\n",
       "    </tr>\n",
       "  </thead>\n",
       "  <tbody>\n",
       "    <tr>\n",
       "      <th>0</th>\n",
       "      <td>0.49</td>\n",
       "      <td>-12.415882</td>\n",
       "      <td>-0.831486</td>\n",
       "    </tr>\n",
       "    <tr>\n",
       "      <th>5</th>\n",
       "      <td>0.47</td>\n",
       "      <td>-3.035882</td>\n",
       "      <td>0.158913</td>\n",
       "    </tr>\n",
       "    <tr>\n",
       "      <th>6</th>\n",
       "      <td>0.56</td>\n",
       "      <td>-3.035882</td>\n",
       "      <td>0.181513</td>\n",
       "    </tr>\n",
       "    <tr>\n",
       "      <th>7</th>\n",
       "      <td>0.89</td>\n",
       "      <td>0.064118</td>\n",
       "      <td>-0.579032</td>\n",
       "    </tr>\n",
       "    <tr>\n",
       "      <th>9</th>\n",
       "      <td>0.92</td>\n",
       "      <td>1.274118</td>\n",
       "      <td>-1.884978</td>\n",
       "    </tr>\n",
       "  </tbody>\n",
       "</table>\n",
       "</div>"
      ],
      "text/plain": [
       "   kcal.per.g  neocortex  log_mass\n",
       "0        0.49 -12.415882 -0.831486\n",
       "5        0.47  -3.035882  0.158913\n",
       "6        0.56  -3.035882  0.181513\n",
       "7        0.89   0.064118 -0.579032\n",
       "9        0.92   1.274118 -1.884978"
      ]
     },
     "execution_count": 3,
     "metadata": {},
     "output_type": "execute_result"
    }
   ],
   "source": [
    "d = pd.read_csv(\n",
    "    \"https://raw.githubusercontent.com/pymc-devs/resources/master/Rethinking_2/Data/milk.csv\",\n",
    "    sep=\";\",\n",
    ")\n",
    "d = d[[\"kcal.per.g\", \"neocortex.perc\", \"mass\"]].rename({\"neocortex.perc\": \"neocortex\"}, axis=1)\n",
    "d[\"log_mass\"] = np.log(d[\"mass\"])\n",
    "d = d[~d.isna().any(axis=1)].drop(\"mass\", axis=1)\n",
    "d.iloc[:, 1:] = d.iloc[:, 1:] - d.iloc[:, 1:].mean()\n",
    "d.head()"
   ]
  },
  {
   "cell_type": "markdown",
   "metadata": {
    "papermill": {
     "duration": 0.048113,
     "end_time": "2020-11-29T12:13:09.292526",
     "exception": false,
     "start_time": "2020-11-29T12:13:09.244413",
     "status": "completed"
    },
    "tags": []
   },
   "source": [
    "Now that we have the data we are going to build our first model using only the `neocortex`."
   ]
  },
  {
   "cell_type": "code",
   "execution_count": 4,
   "metadata": {
    "papermill": {
     "duration": 75.962348,
     "end_time": "2020-11-29T12:14:25.303027",
     "exception": false,
     "start_time": "2020-11-29T12:13:09.340679",
     "status": "completed"
    },
    "tags": []
   },
   "outputs": [
    {
     "name": "stderr",
     "output_type": "stream",
     "text": [
      "Auto-assigning NUTS sampler...\n",
      "Initializing NUTS using jitter+adapt_diag...\n",
      "Multiprocess sampling (2 chains in 2 jobs)\n",
      "NUTS: [sigma, beta, alpha]\n"
     ]
    },
    {
     "data": {
      "text/html": [
       "\n",
       "<style>\n",
       "    /* Turns off some styling */\n",
       "    progress {\n",
       "        /* gets rid of default border in Firefox and Opera. */\n",
       "        border: none;\n",
       "        /* Needs to be in here for Safari polyfill so background images work as expected. */\n",
       "        background-size: auto;\n",
       "    }\n",
       "    .progress-bar-interrupted, .progress-bar-interrupted::-webkit-progress-bar {\n",
       "        background: #F44336;\n",
       "    }\n",
       "</style>\n"
      ],
      "text/plain": [
       "<IPython.core.display.HTML object>"
      ]
     },
     "metadata": {},
     "output_type": "display_data"
    },
    {
     "data": {
      "text/html": [
       "\n",
       "    <div>\n",
       "      <progress value='6000' class='' max='6000' style='width:300px; height:20px; vertical-align: middle;'></progress>\n",
       "      100.00% [6000/6000 00:13<00:00 Sampling 2 chains, 0 divergences]\n",
       "    </div>\n",
       "    "
      ],
      "text/plain": [
       "<IPython.core.display.HTML object>"
      ]
     },
     "metadata": {},
     "output_type": "display_data"
    },
    {
     "name": "stderr",
     "output_type": "stream",
     "text": [
      "Sampling 2 chains for 1_000 tune and 2_000 draw iterations (2_000 + 4_000 draws total) took 22 seconds.\n"
     ]
    }
   ],
   "source": [
    "with pm.Model() as model_0:\n",
    "    alpha = pm.Normal(\"alpha\", mu=0, sigma=10)\n",
    "    beta = pm.Normal(\"beta\", mu=0, sigma=10)\n",
    "    sigma = pm.HalfNormal(\"sigma\", 10)\n",
    "\n",
    "    mu = alpha + beta * d[\"neocortex\"]\n",
    "\n",
    "    kcal = pm.Normal(\"kcal\", mu=mu, sigma=sigma, observed=d[\"kcal.per.g\"])\n",
    "    trace_0 = pm.sample(2000, return_inferencedata=True)"
   ]
  },
  {
   "cell_type": "markdown",
   "metadata": {
    "papermill": {
     "duration": 0.049578,
     "end_time": "2020-11-29T12:14:25.401979",
     "exception": false,
     "start_time": "2020-11-29T12:14:25.352401",
     "status": "completed"
    },
    "tags": []
   },
   "source": [
    "The second model is exactly the same as the first one, except we now use the logarithm of the mass"
   ]
  },
  {
   "cell_type": "code",
   "execution_count": 5,
   "metadata": {
    "papermill": {
     "duration": 8.996265,
     "end_time": "2020-11-29T12:14:34.447153",
     "exception": false,
     "start_time": "2020-11-29T12:14:25.450888",
     "status": "completed"
    },
    "tags": []
   },
   "outputs": [
    {
     "name": "stderr",
     "output_type": "stream",
     "text": [
      "Auto-assigning NUTS sampler...\n",
      "Initializing NUTS using jitter+adapt_diag...\n",
      "Multiprocess sampling (2 chains in 2 jobs)\n",
      "NUTS: [sigma, beta, alpha]\n"
     ]
    },
    {
     "data": {
      "text/html": [
       "\n",
       "<style>\n",
       "    /* Turns off some styling */\n",
       "    progress {\n",
       "        /* gets rid of default border in Firefox and Opera. */\n",
       "        border: none;\n",
       "        /* Needs to be in here for Safari polyfill so background images work as expected. */\n",
       "        background-size: auto;\n",
       "    }\n",
       "    .progress-bar-interrupted, .progress-bar-interrupted::-webkit-progress-bar {\n",
       "        background: #F44336;\n",
       "    }\n",
       "</style>\n"
      ],
      "text/plain": [
       "<IPython.core.display.HTML object>"
      ]
     },
     "metadata": {},
     "output_type": "display_data"
    },
    {
     "data": {
      "text/html": [
       "\n",
       "    <div>\n",
       "      <progress value='6000' class='' max='6000' style='width:300px; height:20px; vertical-align: middle;'></progress>\n",
       "      100.00% [6000/6000 00:06<00:00 Sampling 2 chains, 0 divergences]\n",
       "    </div>\n",
       "    "
      ],
      "text/plain": [
       "<IPython.core.display.HTML object>"
      ]
     },
     "metadata": {},
     "output_type": "display_data"
    },
    {
     "name": "stderr",
     "output_type": "stream",
     "text": [
      "Sampling 2 chains for 1_000 tune and 2_000 draw iterations (2_000 + 4_000 draws total) took 17 seconds.\n",
      "The acceptance probability does not match the target. It is 0.8826043398520717, but should be close to 0.8. Try to increase the number of tuning steps.\n"
     ]
    }
   ],
   "source": [
    "with pm.Model() as model_1:\n",
    "    alpha = pm.Normal(\"alpha\", mu=0, sigma=10)\n",
    "    beta = pm.Normal(\"beta\", mu=0, sigma=1)\n",
    "    sigma = pm.HalfNormal(\"sigma\", 10)\n",
    "\n",
    "    mu = alpha + beta * d[\"log_mass\"]\n",
    "\n",
    "    kcal = pm.Normal(\"kcal\", mu=mu, sigma=sigma, observed=d[\"kcal.per.g\"])\n",
    "\n",
    "    trace_1 = pm.sample(2000, return_inferencedata=True)"
   ]
  },
  {
   "cell_type": "markdown",
   "metadata": {
    "papermill": {
     "duration": 0.049839,
     "end_time": "2020-11-29T12:14:34.547268",
     "exception": false,
     "start_time": "2020-11-29T12:14:34.497429",
     "status": "completed"
    },
    "tags": []
   },
   "source": [
    "And finally the third model using the `neocortex` and `log_mass` variables"
   ]
  },
  {
   "cell_type": "code",
   "execution_count": 6,
   "metadata": {
    "papermill": {
     "duration": 19.373847,
     "end_time": "2020-11-29T12:14:53.971081",
     "exception": false,
     "start_time": "2020-11-29T12:14:34.597234",
     "status": "completed"
    },
    "tags": []
   },
   "outputs": [
    {
     "name": "stderr",
     "output_type": "stream",
     "text": [
      "Auto-assigning NUTS sampler...\n",
      "Initializing NUTS using jitter+adapt_diag...\n",
      "Multiprocess sampling (2 chains in 2 jobs)\n",
      "NUTS: [sigma, beta, alpha]\n"
     ]
    },
    {
     "data": {
      "text/html": [
       "\n",
       "<style>\n",
       "    /* Turns off some styling */\n",
       "    progress {\n",
       "        /* gets rid of default border in Firefox and Opera. */\n",
       "        border: none;\n",
       "        /* Needs to be in here for Safari polyfill so background images work as expected. */\n",
       "        background-size: auto;\n",
       "    }\n",
       "    .progress-bar-interrupted, .progress-bar-interrupted::-webkit-progress-bar {\n",
       "        background: #F44336;\n",
       "    }\n",
       "</style>\n"
      ],
      "text/plain": [
       "<IPython.core.display.HTML object>"
      ]
     },
     "metadata": {},
     "output_type": "display_data"
    },
    {
     "data": {
      "text/html": [
       "\n",
       "    <div>\n",
       "      <progress value='6000' class='' max='6000' style='width:300px; height:20px; vertical-align: middle;'></progress>\n",
       "      100.00% [6000/6000 00:07<00:00 Sampling 2 chains, 0 divergences]\n",
       "    </div>\n",
       "    "
      ],
      "text/plain": [
       "<IPython.core.display.HTML object>"
      ]
     },
     "metadata": {},
     "output_type": "display_data"
    },
    {
     "name": "stderr",
     "output_type": "stream",
     "text": [
      "Sampling 2 chains for 1_000 tune and 2_000 draw iterations (2_000 + 4_000 draws total) took 15 seconds.\n"
     ]
    }
   ],
   "source": [
    "with pm.Model() as model_2:\n",
    "    alpha = pm.Normal(\"alpha\", mu=0, sigma=10)\n",
    "    beta = pm.Normal(\"beta\", mu=0, sigma=1, shape=2)\n",
    "    sigma = pm.HalfNormal(\"sigma\", 10)\n",
    "\n",
    "    mu = alpha + pm.math.dot(beta, d[[\"neocortex\", \"log_mass\"]].T)\n",
    "\n",
    "    kcal = pm.Normal(\"kcal\", mu=mu, sigma=sigma, observed=d[\"kcal.per.g\"])\n",
    "\n",
    "    trace_2 = pm.sample(2000, return_inferencedata=True)"
   ]
  },
  {
   "cell_type": "markdown",
   "metadata": {
    "papermill": {
     "duration": 0.050236,
     "end_time": "2020-11-29T12:14:54.072799",
     "exception": false,
     "start_time": "2020-11-29T12:14:54.022563",
     "status": "completed"
    },
    "tags": []
   },
   "source": [
    "Now that we have sampled the posterior for the 3 models, we are going to compare them visually. One option is to use the `forestplot` function that supports plotting more than one trace."
   ]
  },
  {
   "cell_type": "code",
   "execution_count": 7,
   "metadata": {
    "papermill": {
     "duration": 0.967337,
     "end_time": "2020-11-29T12:14:55.090748",
     "exception": false,
     "start_time": "2020-11-29T12:14:54.123411",
     "status": "completed"
    },
    "tags": []
   },
   "outputs": [
    {
     "data": {
      "image/png": "[encoded data removed]",
      "text/plain": [
       "<Figure size 720x360 with 1 Axes>"
      ]
     },
     "metadata": {
      "needs_background": "light"
     },
     "output_type": "display_data"
    }
   ],
   "source": [
    "traces = [trace_0, trace_1, trace_2]\n",
    "az.plot_forest(traces, figsize=(10, 5));"
   ]
  },
  {
   "cell_type": "markdown",
   "metadata": {
    "papermill": {
     "duration": 0.052958,
     "end_time": "2020-11-29T12:14:55.196722",
     "exception": false,
     "start_time": "2020-11-29T12:14:55.143764",
     "status": "completed"
    },
    "tags": []
   },
   "source": [
    "Another option is to plot several traces in a same plot is to use `densityplot`. This plot is somehow similar to a forestplot, but we get truncated KDE (kernel density estimation) plots (by default 95% credible intervals) grouped by variable names together with a point estimate (by default the mean)."
   ]
  },
  {
   "cell_type": "code",
   "execution_count": 8,
   "metadata": {
    "papermill": {
     "duration": 2.61715,
     "end_time": "2020-11-29T12:14:57.866426",
     "exception": false,
     "start_time": "2020-11-29T12:14:55.249276",
     "status": "completed"
    },
    "tags": []
   },
   "outputs": [
    {
     "data": {
      "text/plain": [
       "Text(0.5, 1.0, '95% Credible Intervals: sigma')"
      ]
     },
     "execution_count": 8,
     "metadata": {},
     "output_type": "execute_result"
    },
    {
     "data": {
      "image/png": "[encoded data removed]",
      "text/plain": [
       "<Figure size 993.6x331.2 with 2 Axes>"
      ]
     },
     "metadata": {
      "needs_background": "light"
     },
     "output_type": "display_data"
    }
   ],
   "source": [
    "ax = az.plot_density(\n",
    "    traces,\n",
    "    var_names=[\"alpha\", \"sigma\"],\n",
    "    shade=0.1,\n",
    "    data_labels=[\"Model 0 (neocortex)\", \"Model 1 (log_mass)\", \"Model 2 (neocortex+log_mass)\"],\n",
    ")\n",
    "\n",
    "ax[0, 0].set_xlabel(\"Density\")\n",
    "ax[0, 0].set_ylabel(\"\")\n",
    "ax[0, 0].set_title(\"95% Credible Intervals: alpha\")\n",
    "\n",
    "ax[0, 1].set_xlabel(\"Density\")\n",
    "ax[0, 1].set_ylabel(\"\")\n",
    "ax[0, 1].set_title(\"95% Credible Intervals: sigma\")"
   ]
  },
  {
   "cell_type": "markdown",
   "metadata": {
    "papermill": {
     "duration": 0.055089,
     "end_time": "2020-11-29T12:14:57.977616",
     "exception": false,
     "start_time": "2020-11-29T12:14:57.922527",
     "status": "completed"
    },
    "tags": []
   },
   "source": [
    "Now that we have sampled the posterior for the 3 models, we are going to use WAIC (Widely applicable information criterion) to compare the 3 models. We can do this using the `compare` function included with PyMC."
   ]
  },
  {
   "cell_type": "code",
   "execution_count": 9,
   "metadata": {
    "papermill": {
     "duration": 0.239084,
     "end_time": "2020-11-29T12:14:58.272998",
     "exception": false,
     "start_time": "2020-11-29T12:14:58.033914",
     "status": "completed"
    },
    "tags": []
   },
   "outputs": [
    {
     "data": {
      "text/html": [
       "<div>\n",
       "<style scoped>\n",
       "    .dataframe tbody tr th:only-of-type {\n",
       "        vertical-align: middle;\n",
       "    }\n",
       "\n",
       "    .dataframe tbody tr th {\n",
       "        vertical-align: top;\n",
       "    }\n",
       "\n",
       "    .dataframe thead th {\n",
       "        text-align: right;\n",
       "    }\n",
       "</style>\n",
       "<table border=\"1\" class=\"dataframe\">\n",
       "  <thead>\n",
       "    <tr style=\"text-align: right;\">\n",
       "      <th></th>\n",
       "      <th>rank</th>\n",
       "      <th>loo</th>\n",
       "      <th>p_loo</th>\n",
       "      <th>d_loo</th>\n",
       "      <th>weight</th>\n",
       "      <th>se</th>\n",
       "      <th>dse</th>\n",
       "      <th>warning</th>\n",
       "      <th>loo_scale</th>\n",
       "    </tr>\n",
       "  </thead>\n",
       "  <tbody>\n",
       "    <tr>\n",
       "      <th>model_2</th>\n",
       "      <td>0</td>\n",
       "      <td>8.365702</td>\n",
       "      <td>3.159733</td>\n",
       "      <td>0.000000</td>\n",
       "      <td>1.000000e+00</td>\n",
       "      <td>2.523747</td>\n",
       "      <td>0.000000</td>\n",
       "      <td>False</td>\n",
       "      <td>log</td>\n",
       "    </tr>\n",
       "    <tr>\n",
       "      <th>model_1</th>\n",
       "      <td>1</td>\n",
       "      <td>4.485976</td>\n",
       "      <td>2.017674</td>\n",
       "      <td>3.879726</td>\n",
       "      <td>5.162537e-15</td>\n",
       "      <td>2.054953</td>\n",
       "      <td>1.705681</td>\n",
       "      <td>False</td>\n",
       "      <td>log</td>\n",
       "    </tr>\n",
       "    <tr>\n",
       "      <th>model_0</th>\n",
       "      <td>2</td>\n",
       "      <td>3.419154</td>\n",
       "      <td>2.078996</td>\n",
       "      <td>4.946548</td>\n",
       "      <td>0.000000e+00</td>\n",
       "      <td>1.577262</td>\n",
       "      <td>2.453546</td>\n",
       "      <td>False</td>\n",
       "      <td>log</td>\n",
       "    </tr>\n",
       "  </tbody>\n",
       "</table>\n",
       "</div>"
      ],
      "text/plain": [
       "         rank       loo     p_loo     d_loo        weight        se       dse  \\\n",
       "model_2     0  8.365702  3.159733  0.000000  1.000000e+00  2.523747  0.000000   \n",
       "model_1     1  4.485976  2.017674  3.879726  5.162537e-15  2.054953  1.705681   \n",
       "model_0     2  3.419154  2.078996  4.946548  0.000000e+00  1.577262  2.453546   \n",
       "\n",
       "         warning loo_scale  \n",
       "model_2    False       log  \n",
       "model_1    False       log  \n",
       "model_0    False       log  "
      ]
     },
     "execution_count": 9,
     "metadata": {},
     "output_type": "execute_result"
    }
   ],
   "source": [
    "model_dict = dict(zip([\"model_0\", \"model_1\", \"model_2\"], traces))\n",
    "comp = az.compare(model_dict)\n",
    "comp"
   ]
  },
  {
   "cell_type": "markdown",
   "metadata": {
    "papermill": {
     "duration": 0.056609,
     "end_time": "2020-11-29T12:14:58.387481",
     "exception": false,
     "start_time": "2020-11-29T12:14:58.330872",
     "status": "completed"
    },
    "tags": []
   },
   "source": [
    "We can see that the best model is `model_2`, the one with both predictor variables. Notice the DataFrame is ordered from lowest to highest WAIC (_i.e_ from _better_ to _worst_ model). Check [model_comparison notebook](model_comparison.ipynb) for a more detailed discussion on model comparison.\n",
    "\n",
    "We can also see that we get a column with the relative `weight` for each model (according to the first equation at the beginning of this notebook). This weights can be _vaguely_ interpreted as the probability that each model will make the correct predictions on future data. Of course this interpretation is conditional on the models used to compute the weights, if we add or remove models the weights will change. And also is dependent on the assumptions behind WAIC (or any other Information Criterion used). So try to not overinterpret these `weights`. \n",
    "\n",
    "Now we are going to use computed `weights` to generate predictions based not on a single model, but on the weighted set of models. This is one way to perform model averaging. Using PyMC we can call the `sample_posterior_predictive_w` function as follows:"
   ]
  },
  {
   "cell_type": "code",
   "execution_count": 10,
   "metadata": {
    "papermill": {
     "duration": 31.463179,
     "end_time": "2020-11-29T12:15:29.907492",
     "exception": false,
     "start_time": "2020-11-29T12:14:58.444313",
     "status": "completed"
    },
    "tags": []
   },
   "outputs": [
    {
     "data": {
      "text/html": [
       "\n",
       "<style>\n",
       "    /* Turns off some styling */\n",
       "    progress {\n",
       "        /* gets rid of default border in Firefox and Opera. */\n",
       "        border: none;\n",
       "        /* Needs to be in here for Safari polyfill so background images work as expected. */\n",
       "        background-size: auto;\n",
       "    }\n",
       "    .progress-bar-interrupted, .progress-bar-interrupted::-webkit-progress-bar {\n",
       "        background: #F44336;\n",
       "    }\n",
       "</style>\n"
      ],
      "text/plain": [
       "<IPython.core.display.HTML object>"
      ]
     },
     "metadata": {},
     "output_type": "display_data"
    },
    {
     "data": {
      "text/html": [
       "\n",
       "    <div>\n",
       "      <progress value='4000' class='' max='4000' style='width:300px; height:20px; vertical-align: middle;'></progress>\n",
       "      100.00% [4000/4000 00:08<00:00]\n",
       "    </div>\n",
       "    "
      ],
      "text/plain": [
       "<IPython.core.display.HTML object>"
      ]
     },
     "metadata": {},
     "output_type": "display_data"
    }
   ],
   "source": [
    "ppc_w = pm.sample_posterior_predictive_w(\n",
    "    traces=traces,\n",
    "    models=[model_0, model_1, model_2],\n",
    "    weights=comp.weight.sort_index(ascending=True),\n",
    "    progressbar=True,\n",
    ")"
   ]
  },
  {
   "cell_type": "markdown",
   "metadata": {
    "papermill": {
     "duration": 0.058454,
     "end_time": "2020-11-29T12:15:30.024455",
     "exception": false,
     "start_time": "2020-11-29T12:15:29.966001",
     "status": "completed"
    },
    "tags": []
   },
   "source": [
    "Notice that we are passing the weights ordered by their index. We are doing this because we pass `traces` and `models` ordered from model 0 to 2, but the computed weights are ordered from lowest to highest WAIC (or equivalently from larger to lowest weight). In summary, we must be sure that we are correctly pairing the weights and models.\n",
    "\n",
    "We are also going to compute PPCs for the lowest-WAIC model."
   ]
  },
  {
   "cell_type": "code",
   "execution_count": 11,
   "metadata": {
    "papermill": {
     "duration": 25.204481,
     "end_time": "2020-11-29T12:15:55.287049",
     "exception": false,
     "start_time": "2020-11-29T12:15:30.082568",
     "status": "completed"
    },
    "tags": []
   },
   "outputs": [],
   "source": [
    "ppc_2 = pm.sample_posterior_predictive(trace=trace_2, model=model_2, progressbar=False)"
   ]
  },
  {
   "cell_type": "markdown",
   "metadata": {
    "papermill": {
     "duration": 0.058214,
     "end_time": "2020-11-29T12:15:55.404271",
     "exception": false,
     "start_time": "2020-11-29T12:15:55.346057",
     "status": "completed"
    },
    "tags": []
   },
   "source": [
    "A simple way to compare both kind of predictions is to plot their mean and hpd interval."
   ]
  },
  {
   "cell_type": "code",
   "execution_count": 12,
   "metadata": {
    "papermill": {
     "duration": 0.301319,
     "end_time": "2020-11-29T12:15:55.764128",
     "exception": false,
     "start_time": "2020-11-29T12:15:55.462809",
     "status": "completed"
    },
    "tags": []
   },
   "outputs": [
    {
     "data": {
      "image/png": "[encoded data removed]",
      "text/plain": [
       "<Figure size 432x288 with 1 Axes>"
      ]
     },
     "metadata": {
      "needs_background": "light"
     },
     "output_type": "display_data"
    }
   ],
   "source": [
    "mean_w = ppc_w[\"kcal\"].mean()\n",
    "hpd_w = az.hdi(ppc_w[\"kcal\"].flatten())\n",
    "\n",
    "mean = ppc_2[\"kcal\"].mean()\n",
    "hpd = az.hdi(ppc_2[\"kcal\"].flatten())\n",
    "\n",
    "plt.plot(mean_w, 1, \"C0o\", label=\"weighted models\")\n",
    "plt.hlines(1, *hpd_w, \"C0\")\n",
    "plt.plot(mean, 0, \"C1o\", label=\"model 2\")\n",
    "plt.hlines(0, *hpd, \"C1\")\n",
    "\n",
    "plt.yticks([])\n",
    "plt.ylim(-1, 2)\n",
    "plt.xlabel(\"kcal per g\")\n",
    "plt.legend();"
   ]
  },
  {
   "cell_type": "markdown",
   "metadata": {
    "papermill": {
     "duration": 0.05969,
     "end_time": "2020-11-29T12:15:55.884685",
     "exception": false,
     "start_time": "2020-11-29T12:15:55.824995",
     "status": "completed"
    },
    "tags": []
   },
   "source": [
    "As we can see the mean value is almost the same for both predictions but the uncertainty in the weighted model is larger. We have effectively propagated the uncertainty about which model we should select to the posterior predictive samples. You can now try with the other two methods for computing weights `stacking` (the default and recommended method) and `pseudo-BMA`.\n",
    "\n",
    "**Final notes:** \n",
    "\n",
    "There are other ways to average models such as, for example, explicitly building a meta-model that includes all the models we have. We then perform parameter inference while jumping between the models. One problem with this approach is that jumping between models could hamper the proper sampling of the posterior.\n",
    "\n",
    "Besides averaging discrete models we can sometimes think of continuous versions of them. A toy example is to imagine that we have a coin and we want to estimated its degree of bias, a number between 0 and 1 having a 0.5 equal chance of head and tails (fair coin). We could think of two separate models one with a prior biased towards heads and one towards tails. We could fit both separate models and then average them using, for example, IC-derived weights. An alternative, is to build a hierarchical model to estimate the prior distribution, instead of contemplating two discrete models we will be computing a continuous model that includes these the discrete ones as particular cases. Which approach is better? That depends on our concrete problem. Do we have good reasons to think about two discrete models, or is our problem better represented with a continuous bigger model?"
   ]
  },
  {
   "cell_type": "markdown",
   "metadata": {},
   "source": [
    "## Authors\n",
    "\n",
    "* Authored by Osvaldo Martin in June 2017 ([pymc#2273](https://github.com/pymc-devs/pymc/pull/2273))\n",
    "* Updated by Osvaldo Martin in December 2017 ([pymc#2741](https://github.com/pymc-devs/pymc/pull/2741))\n",
    "* Updated by Marco Gorelli in November 2020 ([pymc#4271](https://github.com/pymc-devs/pymc/pull/4271))\n",
    "* Moved from pymc to pymc-examples repo in December 2020 ([pymc-examples#8](https://github.com/pymc-devs/pymc-examples/pull/8))\n",
    "* Updated by Raul Maldonado in February 2021 ([pymc#25](https://github.com/pymc-devs/pymc-examples/pull/25))\n",
    "* Updated Markdown and styling by @reshamas in August 2022, ([pymc-examples#411](https://github.com/pymc-devs/pymc-examples/pull/411))"
   ]
  },
  {
   "cell_type": "markdown",
   "metadata": {},
   "source": [
    "## Watermark"
   ]
  },
  {
   "cell_type": "code",
   "execution_count": 13,
   "metadata": {
    "papermill": {
     "duration": 0.127595,
     "end_time": "2020-11-29T12:16:06.392237",
     "exception": false,
     "start_time": "2020-11-29T12:16:06.264642",
     "status": "completed"
    },
    "tags": []
   },
   "outputs": [
    {
     "name": "stdout",
     "output_type": "stream",
     "text": [
      "Last updated: Mon Aug 15 2022\n",
      "\n",
      "Python implementation: CPython\n",
      "Python version       : 3.10.5\n",
      "IPython version      : 8.4.0\n",
      "\n",
      "arviz     : 0.12.1\n",
      "pandas    : 1.4.3\n",
      "matplotlib: 3.5.2\n",
      "numpy     : 1.22.1\n",
      "pymc3     : 3.11.5\n",
      "\n",
      "Watermark: 2.3.1\n",
      "\n"
     ]
    }
   ],
   "source": [
    "%load_ext watermark\n",
    "%watermark -n -u -v -iv -w"
   ]
  },
  {
   "cell_type": "markdown",
   "metadata": {},
   "source": [
    ":::{include} ../page_footer.md\n",
    ":::"
   ]
  }
 ],
 "metadata": {
  "kernelspec": {
   "display_name": "Python 3 (ipykernel)",
   "language": "python",
   "name": "python3"
  },
  "language_info": {
   "codemirror_mode": {
    "name": "ipython",
    "version": 3
   },
   "file_extension": ".py",
   "mimetype": "text/x-python",
   "name": "python",
   "nbconvert_exporter": "python",
   "pygments_lexer": "ipython3",
   "version": "3.10.5"
  }
 },
 "nbformat": 4,
 "nbformat_minor": 4
}
