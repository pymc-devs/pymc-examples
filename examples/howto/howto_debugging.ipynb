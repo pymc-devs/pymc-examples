{
 "cells": [
  {
   "cell_type": "markdown",
   "metadata": {},
   "source": [
    "# How to debug a model\n",
    "\n",
    "There are various levels on which to debug a model. One of the simplest is to just print out the values that different variables are taking on.\n",
    "\n",
    "Because `PyMC3` uses `Theano` expressions to build the model, and not functions, there is no way to place a `print` statement into a likelihood function. Instead, you can use the `Theano` `Print` operatator. For more information, see:  theano Print operator for this before: http://deeplearning.net/software/theano/tutorial/debug_faq.html#how-do-i-print-an-intermediate-value-in-a-function.\n",
    "\n",
    "Let's build a simple model with just two parameters:"
   ]
  },
  {
   "cell_type": "code",
   "execution_count": 1,
   "metadata": {},
   "outputs": [
    {
     "name": "stderr",
     "output_type": "stream",
     "text": [
      "Multiprocess sampling (4 chains in 4 jobs)\n",
      "CompoundStep\n",
      ">Metropolis: [sd]\n",
      ">Metropolis: [mu]\n"
     ]
    },
    {
     "data": {
      "text/html": [
       "\n",
       "    <div>\n",
       "        <style>\n",
       "            /* Turns off some styling */\n",
       "            progress {\n",
       "                /* gets rid of default border in Firefox and Opera. */\n",
       "                border: none;\n",
       "                /* Needs to be in here for Safari polyfill so background images work as expected. */\n",
       "                background-size: auto;\n",
       "            }\n",
       "            .progress-bar-interrupted, .progress-bar-interrupted::-webkit-progress-bar {\n",
       "                background: #F44336;\n",
       "            }\n",
       "        </style>\n",
       "      <progress value='24000' class='' max='24000' style='width:300px; height:20px; vertical-align: middle;'></progress>\n",
       "      100.00% [24000/24000 00:14<00:00 Sampling 4 chains, 0 divergences]\n",
       "    </div>\n",
       "    "
      ],
      "text/plain": [
       "<IPython.core.display.HTML object>"
      ]
     },
     "metadata": {},
     "output_type": "display_data"
    },
    {
     "name": "stderr",
     "output_type": "stream",
     "text": [
      "Sampling 4 chains for 1_000 tune and 5_000 draw iterations (4_000 + 20_000 draws total) took 15 seconds.\n",
      "/env/miniconda3/lib/python3.7/site-packages/xarray/core/nputils.py:215: RuntimeWarning: All-NaN slice encountered\n",
      "  result = getattr(npmodule, name)(values, axis=axis, **kwargs)\n"
     ]
    }
   ],
   "source": [
    "%matplotlib inline\n",
    "\n",
    "import matplotlib.pyplot as plt\n",
    "import numpy as np\n",
    "import pandas as pd\n",
    "import pymc3 as pm\n",
    "import seaborn as sns\n",
    "import theano.tensor as tt\n",
    "\n",
    "x = np.random.randn(100)\n",
    "\n",
    "with pm.Model() as model:\n",
    "    mu = pm.Normal(\"mu\", mu=0, sigma=1)\n",
    "    sd = pm.Normal(\"sd\", mu=0, sigma=1)\n",
    "\n",
    "    obs = pm.Normal(\"obs\", mu=mu, sigma=sd, observed=x)\n",
    "    step = pm.Metropolis()\n",
    "    trace = pm.sample(5000, step)"
   ]
  },
  {
   "cell_type": "code",
   "execution_count": 2,
   "metadata": {},
   "outputs": [
    {
     "data": {
      "text/plain": [
       "array([0., 0., 0., ..., 0., 0., 0.])"
      ]
     },
     "execution_count": 2,
     "metadata": {},
     "output_type": "execute_result"
    }
   ],
   "source": [
    "trace[\"mu\"]"
   ]
  },
  {
   "cell_type": "markdown",
   "metadata": {},
   "source": [
    "Hm, looks like something has gone wrong, but what? Let's look at the values getting proposed using the `Print` operator:"
   ]
  },
  {
   "cell_type": "code",
   "execution_count": 3,
   "metadata": {},
   "outputs": [
    {
     "name": "stdout",
     "output_type": "stream",
     "text": [
      "mu __str__ = 0.0\n",
      "sd __str__ = 0.0\n"
     ]
    },
    {
     "name": "stderr",
     "output_type": "stream",
     "text": [
      "Only 3 samples in chain.\n",
      "Sequential sampling (1 chains in 1 job)\n",
      "CompoundStep\n",
      ">Metropolis: [sd]\n",
      ">Metropolis: [mu]\n",
      "Sampling 1 chain for 0 tune and 3 draw iterations (0 + 3 draws total) took 0 seconds.\n",
      "/dependencies/arviz/arviz/data/base.py:146: UserWarning: More chains (3) than draws (2). Passed array should have shape (chains, draws, *shape)\n",
      "  UserWarning,\n"
     ]
    },
    {
     "name": "stdout",
     "output_type": "stream",
     "text": [
      "sd __str__ = 1.753782660690967\n",
      "mu __str__ = 0.0\n",
      "sd __str__ = 0.0\n",
      "sd __str__ = 0.0\n",
      "mu __str__ = -1.179953715933347\n",
      "mu __str__ = 0.0\n",
      "sd __str__ = -0.7921743241812005\n",
      "mu __str__ = 0.0\n",
      "sd __str__ = 0.0\n",
      "sd __str__ = 0.0\n",
      "mu __str__ = -1.6164899771368246\n",
      "mu __str__ = 0.0\n",
      "sd __str__ = 1.7649365130019956\n",
      "mu __str__ = 0.0\n",
      "sd __str__ = 0.0\n",
      "sd __str__ = 0.0\n",
      "mu __str__ = 0.5633904409221188\n",
      "mu __str__ = 0.0\n",
      "sd __str__ = 0.0\n",
      "mu __str__ = 0.0\n",
      "sd __str__ = 0.0\n",
      "mu __str__ = 0.0\n",
      "sd __str__ = 0.0\n",
      "mu __str__ = 0.0\n"
     ]
    },
    {
     "name": "stderr",
     "output_type": "stream",
     "text": [
      "/dependencies/pymc3/pymc3/sampling.py:603: UserWarning: The number of samples is too small to check convergence reliably.\n",
      "  warnings.warn(\"The number of samples is too small to check convergence reliably.\")\n"
     ]
    }
   ],
   "source": [
    "with pm.Model() as model:\n",
    "    mu = pm.Normal(\"mu\", mu=0, sigma=1)\n",
    "    sd = pm.Normal(\"sd\", mu=0, sigma=1)\n",
    "\n",
    "    mu_print = tt.printing.Print(\"mu\")(mu)\n",
    "    sd_print = tt.printing.Print(\"sd\")(sd)\n",
    "\n",
    "    obs = pm.Normal(\"obs\", mu=mu_print, sigma=sd_print, observed=x)\n",
    "    step = pm.Metropolis()\n",
    "    trace = pm.sample(\n",
    "        3, step, tune=0, chains=1, progressbar=False\n",
    "    )  # Make sure not to draw too many samples"
   ]
  },
  {
   "cell_type": "markdown",
   "metadata": {},
   "source": [
    "In the code above, we set the `tune=0, chains=1, progressbar=False` in the `pm.sample`, this is done so that the output is cleaner.\n",
    "\n",
    "Looks like `sd` is always `0` which will cause the logp to go to `-inf`. Of course, we should not have used a prior that has negative mass for `sd` but instead something like a `HalfNormal`.\n",
    "\n",
    "We can also redirect the output to a string buffer and access the proposed values later on (thanks to [Lindley Lentati](https://github.com/LindleyLentati) for providing this example):"
   ]
  },
  {
   "cell_type": "code",
   "execution_count": 4,
   "metadata": {},
   "outputs": [
    {
     "name": "stderr",
     "output_type": "stream",
     "text": [
      "Only 5 samples in chain.\n",
      "Sequential sampling (1 chains in 1 job)\n",
      "CompoundStep\n",
      ">Metropolis: [sd]\n",
      ">Metropolis: [mu]\n",
      "Sampling 1 chain for 0 tune and 5 draw iterations (0 + 5 draws total) took 0 seconds.\n",
      "/dependencies/arviz/arviz/data/base.py:146: UserWarning: More chains (5) than draws (2). Passed array should have shape (chains, draws, *shape)\n",
      "  UserWarning,\n"
     ]
    },
    {
     "data": {
      "image/png": "[encoded data removed]",
      "text/plain": [
       "<Figure size 432x288 with 1 Axes>"
      ]
     },
     "metadata": {
      "needs_background": "light"
     },
     "output_type": "display_data"
    }
   ],
   "source": [
    "import sys\n",
    "\n",
    "from io import StringIO\n",
    "\n",
    "x = np.random.randn(100)\n",
    "\n",
    "old_stdout = sys.stdout\n",
    "mystdout = sys.stdout = StringIO()\n",
    "\n",
    "with pm.Model() as model:\n",
    "    mu = pm.Normal(\"mu\", mu=0, sigma=1)\n",
    "    sd = pm.Normal(\"sd\", mu=0, sigma=1)\n",
    "\n",
    "    mu_print = tt.printing.Print(\"mu\")(mu)\n",
    "    sd_print = tt.printing.Print(\"sd\")(sd)\n",
    "\n",
    "    obs = pm.Normal(\"obs\", mu=mu_print, sigma=sd_print, observed=x)\n",
    "    step = pm.Metropolis()\n",
    "    trace = pm.sample(\n",
    "        5, step, tune=0, chains=1, progressbar=False\n",
    "    )  # Make sure not to draw too many samples\n",
    "\n",
    "sys.stdout = old_stdout\n",
    "\n",
    "output = mystdout.getvalue().split(\"\\n\")\n",
    "mulines = [s for s in output if \"mu\" in s]\n",
    "\n",
    "muvals = [line.split()[-1] for line in mulines]\n",
    "plt.plot(np.arange(0, len(muvals)), muvals)\n",
    "plt.xlabel(\"proposal iteration\")\n",
    "plt.ylabel(\"mu value\");"
   ]
  },
  {
   "cell_type": "code",
   "execution_count": 5,
   "metadata": {},
   "outputs": [
    {
     "data": {
      "text/plain": [
       "array([0., 0., 0., 0., 0.])"
      ]
     },
     "execution_count": 5,
     "metadata": {},
     "output_type": "execute_result"
    }
   ],
   "source": [
    "trace[\"mu\"]"
   ]
  },
  {
   "cell_type": "markdown",
   "metadata": {},
   "source": [
    "Notice that for each iteration, 3 values were printed and recorded. The printed values are the original value (last sample), the proposed value and the accepted value. Plus the starting value in the very beginning, we recorded in total `1+3*5=16` value above."
   ]
  },
  {
   "cell_type": "code",
   "execution_count": 6,
   "metadata": {},
   "outputs": [
    {
     "name": "stdout",
     "output_type": "stream",
     "text": [
      "seaborn 0.10.1\n",
      "pandas  1.0.4\n",
      "pymc3   3.9.0\n",
      "numpy   1.18.5\n",
      "last updated: Fri Jun 12 2020 \n",
      "\n",
      "CPython 3.7.7\n",
      "IPython 7.15.0\n",
      "watermark 2.0.2\n"
     ]
    }
   ],
   "source": [
    "%load_ext watermark\n",
    "%watermark -n -u -v -iv -w"
   ]
  }
 ],
 "metadata": {
  "kernelspec": {
   "display_name": "Python 3",
   "language": "python",
   "name": "python3"
  },
  "language_info": {
   "codemirror_mode": {
    "name": "ipython",
    "version": 3
   },
   "file_extension": ".py",
   "mimetype": "text/x-python",
   "name": "python",
   "nbconvert_exporter": "python",
   "pygments_lexer": "ipython3",
   "version": "3.6.10"
  }
 },
 "nbformat": 4,
 "nbformat_minor": 4
}
