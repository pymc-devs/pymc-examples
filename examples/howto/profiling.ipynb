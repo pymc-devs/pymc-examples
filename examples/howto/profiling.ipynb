{
 "cells": [
  {
   "cell_type": "markdown",
   "metadata": {},
   "source": [
    "(profiling)=\n",
    "# Profiling\n",
    "Sometimes computing the likelihood is not as fast as we would like. Theano provides handy profiling tools which are wrapped in PyMC by {func}`model.profile <pymc.model.core.Model.profile>`. This function returns a `ProfileStats` object conveying information about the underlying Theano operations. Here we'll profile the likelihood and gradient for the stochastic volatility example.\n",
    "\n",
    "First we build the model."
   ]
  },
  {
   "cell_type": "code",
   "execution_count": 1,
   "metadata": {},
   "outputs": [
    {
     "name": "stderr",
     "output_type": "stream",
     "text": [
      "WARNING (pytensor.tensor.blas): Using NumPy C-API based implementation for BLAS functions.\n"
     ]
    },
    {
     "name": "stdout",
     "output_type": "stream",
     "text": [
      "Running on PyMC v5.10.0\n"
     ]
    }
   ],
   "source": [
    "import numpy as np\n",
    "import pandas as pd\n",
    "import pymc as pm\n",
    "\n",
    "print(f\"Running on PyMC v{pm.__version__}\")"
   ]
  },
  {
   "cell_type": "code",
   "execution_count": 2,
   "metadata": {},
   "outputs": [],
   "source": [
    "RANDOM_SEED = 8927\n",
    "np.random.seed(RANDOM_SEED)"
   ]
  },
  {
   "cell_type": "code",
   "execution_count": 3,
   "metadata": {
    "scrolled": true
   },
   "outputs": [],
   "source": [
    "# Load the data\n",
    "returns = pd.read_csv(pm.get_data(\"SP500.csv\"), index_col=0, parse_dates=True)"
   ]
  },
  {
   "cell_type": "code",
   "execution_count": 4,
   "metadata": {},
   "outputs": [
    {
     "name": "stderr",
     "output_type": "stream",
     "text": [
      "C:\\Users\\Divya Tiwari\\anaconda3\\envs\\pymc_env\\Lib\\site-packages\\pymc\\distributions\\timeseries.py:293: UserWarning: Initial distribution not specified, defaulting to `Normal.dist(0, 100)`.You can specify an init_dist manually to suppress this warning.\n",
      "  warnings.warn(\n"
     ]
    }
   ],
   "source": [
    "# Stochastic volatility example\n",
    "with pm.Model() as model:\n",
    "    sigma = pm.Exponential(\"sigma\", 1.0 / 0.02, initval=0.1)\n",
    "    nu = pm.Exponential(\"nu\", 1.0 / 10)\n",
    "    s = pm.GaussianRandomWalk(\"s\", sigma**-2, shape=returns.shape[0])\n",
    "    r = pm.StudentT(\"r\", nu, lam=np.exp(-2 * s), observed=returns[\"change\"])"
   ]
  },
  {
   "cell_type": "markdown",
   "metadata": {},
   "source": [
    "Then we call the `profile` function and summarize its return values."
   ]
  },
  {
   "cell_type": "code",
   "execution_count": 5,
   "metadata": {},
   "outputs": [
    {
     "name": "stderr",
     "output_type": "stream",
     "text": [
      "Function profiling\n",
      "==================\n",
      "  Message: C:\\Users\\Divya Tiwari\\anaconda3\\envs\\pymc_env\\Lib\\site-packages\\pymc\\pytensorf.py:990\n",
      "  Time in 1000 calls to Function.__call__: 1.331489e-01s\n",
      "  Time in Function.vm.__call__: 0.10964459989918396s (82.347%)\n",
      "  Time in thunks: 0.1032404899597168s (77.538%)\n",
      "  Total compilation time: 9.425617e-01s\n",
      "    Number of Apply nodes: 26\n",
      "    PyTensor rewrite time: 8.539493e-01s\n",
      "       PyTensor validate time: 2.782300e-03s\n",
      "    PyTensor Linker time (includes C, CUDA code generation/compiling): 0.07904159999452531s\n",
      "       Import time 3.465450e-02s\n",
      "       Node make_thunk time 7.485420e-02s\n",
      "           Node Composite{...}(s, [1.0435322 ... 54666e-07], ExpandDims{axis=0}.0, Composite{...}.0, Composite{...}.1, Composite{gammaln((0.5 * i0))}.0) time 4.614200e-03s\n",
      "           Node Composite{...}(sigma_log__, 50.00000111758712, 0.0, 3.912023027779888, -inf) time 4.260600e-03s\n",
      "           Node Composite{reciprocal(sqr(i0))}(ExpandDims{axis=0}.0) time 4.128100e-03s\n",
      "           Node MakeVector{dtype='bool'}(All{axes=None}.0, Composite{...}.1) time 4.086700e-03s\n",
      "           Node Composite{...}(nu_log__, 0, 0.1, 0.0, -2.302585092994046, -inf) time 3.909600e-03s\n",
      "\n",
      "Time in all call to pytensor.grad() 0.000000e+00s\n",
      "Time since pytensor import 4.949s\n",
      "Class\n",
      "---\n",
      "<% time> <sum %> <apply time> <time per call> <type> <#call> <#apply> <Class name>\n",
      "  86.3%    86.3%       0.089s       8.10e-06s     C    11000      11   pytensor.tensor.elemwise.Elemwise\n",
      "   7.7%    94.0%       0.008s       3.98e-06s     C     2000       2   pytensor.tensor.math.Sum\n",
      "   2.9%    96.9%       0.003s       7.51e-07s     C     4000       4   pytensor.tensor.elemwise.DimShuffle\n",
      "   2.1%    99.0%       0.002s       1.06e-06s     C     2000       2   pytensor.tensor.basic.Join\n",
      "   1.0%    99.9%       0.001s       3.28e-07s     C     3000       3   pytensor.tensor.subtensor.Subtensor\n",
      "   0.1%   100.0%       0.000s       4.35e-08s     C     2000       2   pytensor.tensor.math.All\n",
      "   0.0%   100.0%       0.000s       0.00e+00s     C     1000       1   pytensor.tensor.basic.Split\n",
      "   0.0%   100.0%       0.000s       0.00e+00s     C     1000       1   pytensor.tensor.basic.MakeVector\n",
      "   ... (remaining 0 Classes account for   0.00%(0.00s) of the runtime)\n",
      "\n",
      "Ops\n",
      "---\n",
      "<% time> <sum %> <apply time> <time per call> <type> <#call> <#apply> <Op name>\n",
      "  77.4%    77.4%       0.080s       7.99e-05s     C     1000        1   Composite{...}\n",
      "   7.7%    85.1%       0.008s       3.98e-06s     C     2000        2   Sum{axes=None}\n",
      "   3.9%    89.0%       0.004s       4.00e-06s     C     1000        1   Composite{((-0.5 * sqr((i0 - i1))) - 0.9189385332046727)}\n",
      "   3.1%    92.1%       0.003s       3.17e-06s     C     1000        1   Sub\n",
      "   2.9%    95.0%       0.003s       7.51e-07s     C     4000        4   ExpandDims{axis=0}\n",
      "   2.1%    97.0%       0.002s       1.06e-06s     C     2000        2   Join\n",
      "   1.9%    99.0%       0.002s       1.98e-06s     C     1000        1   Switch\n",
      "   1.0%    99.9%       0.001s       9.83e-07s     C     1000        1   Subtensor{i}\n",
      "   0.1%   100.0%       0.000s       4.35e-08s     C     2000        2   All{axes=None}\n",
      "   0.0%   100.0%       0.000s       0.00e+00s     C     1000        1   Composite{...}\n",
      "   0.0%   100.0%       0.000s       0.00e+00s     C     1000        1   Subtensor{:stop}\n",
      "   0.0%   100.0%       0.000s       0.00e+00s     C     1000        1   Subtensor{start:}\n",
      "   0.0%   100.0%       0.000s       0.00e+00s     C     1000        1   Composite{...}\n",
      "   0.0%   100.0%       0.000s       0.00e+00s     C     1000        1   Composite{gammaln((0.5 * i0))}\n",
      "   0.0%   100.0%       0.000s       0.00e+00s     C     1000        1   Composite{...}\n",
      "   0.0%   100.0%       0.000s       0.00e+00s     C     1000        1   Composite{reciprocal(sqr(i0))}\n",
      "   0.0%   100.0%       0.000s       0.00e+00s     C     1000        1   Split{2}\n",
      "   0.0%   100.0%       0.000s       0.00e+00s     C     1000        1   Composite{((-0.5 * sqr((0.01 * i0))) - 5.524108719192764)}\n",
      "   0.0%   100.0%       0.000s       0.00e+00s     C     1000        1   MakeVector{dtype='bool'}\n",
      "   0.0%   100.0%       0.000s       0.00e+00s     C     1000        1   Add\n",
      "   ... (remaining 0 Ops account for   0.00%(0.00s) of the runtime)\n",
      "\n",
      "Apply\n",
      "------\n",
      "<% time> <sum %> <apply time> <time per call> <#call> <id> <Apply name>\n",
      "  77.4%    77.4%       0.080s       7.99e-05s   1000    13   Composite{...}(s, [1.0435322 ... 54666e-07], ExpandDims{axis=0}.0, Composite{...}.0, Composite{...}.1, Composite{gammaln((0.5 * i0))}.0)\n",
      "   4.7%    82.2%       0.005s       4.89e-06s   1000    24   Sum{axes=None}(lam > 0, nu > 0)\n",
      "   3.9%    86.0%       0.004s       4.00e-06s   1000    17   Composite{((-0.5 * sqr((i0 - i1))) - 0.9189385332046727)}(Split{2}.1, Composite{reciprocal(sqr(i0))}.0)\n",
      "   3.1%    89.1%       0.003s       3.17e-06s   1000     6   Sub(Subtensor{start:}.0, Subtensor{:stop}.0)\n",
      "   3.0%    92.1%       0.003s       3.08e-06s   1000    21   Sum{axes=None}(s_logprob)\n",
      "   2.0%    94.0%       0.002s       2.02e-06s   1000    19   Join(0, sigma > 0, sigma > 0)\n",
      "   1.9%    96.0%       0.002s       2.00e-06s   1000    22   ExpandDims{axis=0}(All{axes=None}.0)\n",
      "   1.9%    97.9%       0.002s       1.98e-06s   1000    23   Switch(ExpandDims{axis=0}.0, Composite{...}.1, [-inf])\n",
      "   1.0%    98.9%       0.001s       1.00e-06s   1000     8   ExpandDims{axis=0}(Composite{...}.0)\n",
      "   1.0%    99.8%       0.001s       9.83e-07s   1000     3   Subtensor{i}(s, 0)\n",
      "   0.1%    99.9%       0.000s       1.07e-07s   1000    11   Join(0, ExpandDims{axis=0}.0, Sub.0)\n",
      "   0.1%   100.0%       0.000s       8.70e-08s   1000    15   All{axes=None}(Composite{...}.0)\n",
      "   0.0%   100.0%       0.000s       0.00e+00s   1000    25   Add(mu >= 0, sigma_log__, mu >= 0, nu_log__, s_logprob, Sum{axes=None}.0)\n",
      "   0.0%   100.0%       0.000s       0.00e+00s   1000    20   All{axes=None}(MakeVector{dtype='bool'}.0)\n",
      "   0.0%   100.0%       0.000s       0.00e+00s   1000    18   MakeVector{dtype='bool'}(All{axes=None}.0, Composite{...}.1)\n",
      "   0.0%   100.0%       0.000s       0.00e+00s   1000    16   Composite{((-0.5 * sqr((0.01 * i0))) - 5.524108719192764)}(Split{2}.0)\n",
      "   0.0%   100.0%       0.000s       0.00e+00s   1000    14   Split{2}(Join.0, 0, [   1 2905])\n",
      "   0.0%   100.0%       0.000s       0.00e+00s   1000    12   Composite{reciprocal(sqr(i0))}(ExpandDims{axis=0}.0)\n",
      "   0.0%   100.0%       0.000s       0.00e+00s   1000    10   Composite{...}(ExpandDims{axis=0}.0)\n",
      "   0.0%   100.0%       0.000s       0.00e+00s   1000     9   Composite{gammaln((0.5 * i0))}(ExpandDims{axis=0}.0)\n",
      "   ... (remaining 6 Apply instances account for 0.00%(0.00s) of the runtime)\n",
      "\n",
      "Here are tips to potentially make your code run faster\n",
      "                 (if you think of new ones, suggest them on the mailing list).\n",
      "                 Test them first, as they are not guaranteed to always provide a speedup.\n",
      "  - Try the PyTensor flag floatX=float32\n",
      "  - Try installing amdlibm and set the PyTensor flag lib__amblibm=True. This speeds up only some Elemwise operation.\n"
     ]
    }
   ],
   "source": [
    "# Profiling of the logp call\n",
    "model.profile(model.logp()).summary()"
   ]
  },
  {
   "cell_type": "code",
   "execution_count": 6,
   "metadata": {},
   "outputs": [
    {
     "name": "stderr",
     "output_type": "stream",
     "text": [
      "Function profiling\n",
      "==================\n",
      "  Message: C:\\Users\\Divya Tiwari\\anaconda3\\envs\\pymc_env\\Lib\\site-packages\\pymc\\pytensorf.py:990\n",
      "  Time in 1000 calls to Function.__call__: 1.622821e-01s\n",
      "  Time in Function.vm.__call__: 0.13946900120936334s (85.942%)\n",
      "  Time in thunks: 0.13289427757263184s (81.891%)\n",
      "  Total compilation time: 9.082990e-01s\n",
      "    Number of Apply nodes: 34\n",
      "    PyTensor rewrite time: 8.388561e-01s\n",
      "       PyTensor validate time: 8.517501e-03s\n",
      "    PyTensor Linker time (includes C, CUDA code generation/compiling): 0.059757000009994954s\n",
      "       Import time 2.345270e-02s\n",
      "       Node make_thunk time 5.872960e-02s\n",
      "           Node Composite{...}(s, ExpandDims{axis=0}.0, [1.0435322 ... 54666e-07], ExpandDims{axis=0}.0) time 4.175900e-03s\n",
      "           Node Composite{...}(nu_log__, 1.0, 0.5, -1453.0, 1453.0, -0.1, 0.0, 0) time 4.137400e-03s\n",
      "           Node Composite{(i4 + i5 + (i0 * i1 * i2 * i3))}(-2.0, Sum{axes=None}.0, Composite{...}.1, Composite{...}.0, Composite{...}.2, 1.0) time 3.595000e-03s\n",
      "           Node Composite{reciprocal(sqr(i0))}(ExpandDims{axis=0}.0) time 3.540400e-03s\n",
      "           Node Composite{...}(sigma_log__, -50.00000111758712, 0.0, 0) time 3.315400e-03s\n",
      "\n",
      "Time in all call to pytensor.grad() 2.053549e-01s\n",
      "Time since pytensor import 6.475s\n",
      "Class\n",
      "---\n",
      "<% time> <sum %> <apply time> <time per call> <type> <#call> <#apply> <Class name>\n",
      "  72.1%    72.1%       0.096s       9.58e-06s     C    10000      10   pytensor.tensor.elemwise.Elemwise\n",
      "   6.8%    78.9%       0.009s       1.81e-06s     C     5000       5   pytensor.tensor.elemwise.DimShuffle\n",
      "   6.8%    85.7%       0.009s       3.00e-06s     C     3000       3   pytensor.tensor.math.Sum\n",
      "   6.0%    91.7%       0.008s       2.67e-06s     C     3000       3   pytensor.tensor.basic.Join\n",
      "   3.8%    95.5%       0.005s       1.67e-06s     C     3000       3   pytensor.tensor.subtensor.IncSubtensor\n",
      "   2.3%    97.7%       0.003s       1.50e-06s     C     2000       2   pytensor.tensor.basic.Split\n",
      "   1.5%    99.2%       0.002s       1.01e-06s     C     2000       2   pytensor.tensor.shape.Reshape\n",
      "   0.8%   100.0%       0.001s       3.34e-07s     C     3000       3   pytensor.tensor.subtensor.Subtensor\n",
      "   0.0%   100.0%       0.000s       0.00e+00s     C     3000       3   pytensor.tensor.shape.SpecifyShape\n",
      "   ... (remaining 0 Classes account for   0.00%(0.00s) of the runtime)\n",
      "\n",
      "Ops\n",
      "---\n",
      "<% time> <sum %> <apply time> <time per call> <type> <#call> <#apply> <Op name>\n",
      "  65.3%    65.3%       0.087s       8.68e-05s     C     1000        1   Composite{...}\n",
      "   6.8%    72.1%       0.009s       3.00e-06s     C     3000        3   Sum{axes=None}\n",
      "   6.0%    78.1%       0.008s       2.67e-06s     C     3000        3   Join\n",
      "   3.8%    81.9%       0.005s       1.26e-06s     C     4000        4   ExpandDims{axis=0}\n",
      "   3.0%    84.9%       0.004s       4.00e-06s     C     1000        1   DropDims{axis=0}\n",
      "   3.0%    87.9%       0.004s       4.00e-06s     C     1000        1   Composite{...}\n",
      "   2.3%    90.2%       0.003s       1.50e-06s     C     2000        2   Split{2}\n",
      "   1.5%    91.7%       0.002s       1.01e-06s     C     2000        2   Reshape{1}\n",
      "   1.5%    93.2%       0.002s       2.00e-06s     C     1000        1   IncSubtensor{i}\n",
      "   1.5%    94.7%       0.002s       2.00e-06s     C     1000        1   Sub\n",
      "   1.5%    96.2%       0.002s       2.00e-06s     C     1000        1   IncSubtensor{:stop}\n",
      "   1.5%    97.7%       0.002s       2.00e-06s     C     1000        1   Composite{...}\n",
      "   0.8%    98.5%       0.001s       1.00e-06s     C     1000        1   Subtensor{:stop}\n",
      "   0.8%    99.2%       0.001s       1.00e-06s     C     1000        1   IncSubtensor{start:}\n",
      "   0.8%   100.0%       0.001s       1.00e-06s     C     1000        1   Composite{(i4 + i5 + i6 + i7 + (i0 * i1 * i2 * i3) + i8 + i9)}\n",
      "   0.0%   100.0%       0.000s       0.00e+00s     C     3000        3   SpecifyShape\n",
      "   0.0%   100.0%       0.000s       0.00e+00s     C     1000        1   Composite{...}\n",
      "   0.0%   100.0%       0.000s       0.00e+00s     C     1000        1   Subtensor{start:}\n",
      "   0.0%   100.0%       0.000s       0.00e+00s     C     1000        1   Subtensor{i}\n",
      "   0.0%   100.0%       0.000s       0.00e+00s     C     1000        1   Composite{reciprocal(sqr(i0))}\n",
      "   ... (remaining 3 Ops account for   0.00%(0.00s) of the runtime)\n",
      "\n",
      "Apply\n",
      "------\n",
      "<% time> <sum %> <apply time> <time per call> <#call> <id> <Apply name>\n",
      "  65.3%    65.3%       0.087s       8.68e-05s   1000    12   Composite{...}(s, ExpandDims{axis=0}.0, [1.0435322 ... 54666e-07], ExpandDims{axis=0}.0)\n",
      "   3.8%    69.1%       0.005s       5.00e-06s   1000    33   Join(0, SpecifyShape.0, SpecifyShape.0, (d__logp/ds))\n",
      "   3.0%    72.1%       0.004s       4.00e-06s   1000    28   DropDims{axis=0}(SpecifyShape.0)\n",
      "   3.0%    75.1%       0.004s       4.00e-06s   1000    15   Sum{axes=None}(Composite{...}.2)\n",
      "   3.0%    78.1%       0.004s       4.00e-06s   1000    16   Composite{...}(Split{2}.1, Composite{reciprocal(sqr(i0))}.0)\n",
      "   2.3%    80.4%       0.003s       3.03e-06s   1000     9   ExpandDims{axis=0}(Composite{...}.1)\n",
      "   2.3%    82.7%       0.003s       3.00e-06s   1000    13   Split{2}(Join.0, 0, [   1 2905])\n",
      "   2.3%    84.9%       0.003s       3.00e-06s   1000    14   Sum{axes=None}(Composite{...}.1)\n",
      "   1.5%    86.5%       0.002s       2.03e-06s   1000    25   Reshape{1}((d__logp/dsigma_log__), [-1])\n",
      "   1.5%    88.0%       0.002s       2.00e-06s   1000    29   IncSubtensor{i}(Composite{...}.0, DropDims{axis=0}.0, 0)\n",
      "   1.5%    89.5%       0.002s       2.00e-06s   1000    32   IncSubtensor{:stop}(IncSubtensor{start:}.0, Neg.0, -1)\n",
      "   1.5%    91.0%       0.002s       2.00e-06s   1000     6   Sub(Subtensor{start:}.0, Subtensor{:stop}.0)\n",
      "   1.5%    92.5%       0.002s       2.00e-06s   1000    11   Join(0, ExpandDims{axis=0}.0, Sub.0)\n",
      "   1.5%    94.0%       0.002s       2.00e-06s   1000    19   Sum{axes=None}(Composite{...}.0)\n",
      "   1.5%    95.5%       0.002s       2.00e-06s   1000     4   Composite{...}(nu_log__, 1.0, 0.5, -1453.0, 1453.0, -0.1, 0.0, 0)\n",
      "   0.8%    96.2%       0.001s       1.00e-06s   1000     1   Subtensor{:stop}(s, -1)\n",
      "   0.8%    97.0%       0.001s       1.00e-06s   1000    30   IncSubtensor{start:}(IncSubtensor{i}.0, Split{2}.1, 1)\n",
      "   0.8%    97.7%       0.001s       1.00e-06s   1000    21   Join(0, Mul.0, Composite{...}.1)\n",
      "   0.8%    98.5%       0.001s       1.00e-06s   1000    17   Composite{(i4 + i5 + i6 + i7 + (i0 * i1 * i2 * i3) + i8 + i9)}(-1.0, 0.5, Sum{axes=None}.0, Composite{...}.1, Composite{...}.4, Composite{...}.3, -1452.9999999999736, Composite{...}.2, Sum{axes=None}.0, 1.0)\n",
      "   0.8%    99.2%       0.001s       1.00e-06s   1000     7   ExpandDims{axis=0}(Subtensor{i}.0)\n",
      "   ... (remaining 14 Apply instances account for 0.75%(0.00s) of the runtime)\n",
      "\n",
      "Here are tips to potentially make your code run faster\n",
      "                 (if you think of new ones, suggest them on the mailing list).\n",
      "                 Test them first, as they are not guaranteed to always provide a speedup.\n",
      "  - Try the PyTensor flag floatX=float32\n",
      "  - Try installing amdlibm and set the PyTensor flag lib__amblibm=True. This speeds up only some Elemwise operation.\n"
     ]
    }
   ],
   "source": [
    "# Profiling of the gradient call dlogp/dx\n",
    "model.profile(pm.gradient(model.logp(), vars=None)).summary()"
   ]
  },
  {
   "cell_type": "code",
   "execution_count": 7,
   "metadata": {},
   "outputs": [
    {
     "name": "stdout",
     "output_type": "stream",
     "text": [
      "Last updated: Mon Dec 04 2023\n",
      "\n",
      "Python implementation: CPython\n",
      "Python version       : 3.11.6\n",
      "IPython version      : 8.15.0\n",
      "\n",
      "pandas: 2.1.3\n",
      "pymc  : 5.10.0\n",
      "numpy : 1.26.2\n",
      "\n",
      "Watermark: 2.4.3\n",
      "\n"
     ]
    }
   ],
   "source": [
    "%load_ext watermark\n",
    "%watermark -n -u -v -iv -w"
   ]
  },
  {
   "cell_type": "code",
   "execution_count": null,
   "metadata": {},
   "outputs": [],
   "source": []
  }
 ],
 "metadata": {
  "anaconda-cloud": {},
  "kernelspec": {
   "display_name": "Python 3 (ipykernel)",
   "language": "python",
   "name": "python3"
  },
  "language_info": {
   "codemirror_mode": {
    "name": "ipython",
    "version": 3
   },
   "file_extension": ".py",
   "mimetype": "text/x-python",
   "name": "python",
   "nbconvert_exporter": "python",
   "pygments_lexer": "ipython3",
   "version": "3.11.6"
  }
 },
 "nbformat": 4,
 "nbformat_minor": 4
}
