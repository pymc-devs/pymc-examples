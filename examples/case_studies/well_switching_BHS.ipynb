{
 "cells": [
  {
   "cell_type": "markdown",
   "id": "f1d51e31",
   "metadata": {
    "papermill": {
     "duration": 0.052042,
     "end_time": "2021-09-18T10:51:56.464794",
     "exception": false,
     "start_time": "2021-09-18T10:51:56.412752",
     "status": "completed"
    },
    "tags": []
   },
   "source": [
    "# Bayesian Hierarchical Stacking: Well Switching Case Study\n",
    "\n",
    "<img src=\"stacking.jpg\" alt=\"centered image\" width=800/>\n",
    "\n",
    "\n",
    "## Intro\n",
    "\n",
    "Suppose you have just fit 6 models to a dataset, and need to choose which one to use to make predictions on your test set. How do you choose which one to use? A couple of common tactics are:\n",
    "- choose the best model based on cross-validation;\n",
    "- average the models, using weights based on cross-validation scores.\n",
    "\n",
    "In the paper \"Bayesian hierarchical stacking: Some models are (somewhere) useful\" {cite:t}`yaopirsvehtarigelman2021bhs`, a new technique is introduced: average models based on weights which are allowed to vary across according to the input data, based on a hierarchical structure.\n",
    "\n",
    "Here, we'll implement the first case study from that paper - readers are nonetheless encouraged to look at the original paper to find other cases studies, as well as theoretical results. Code from the article (in R / Stan) can be found [here](https://github.com/yao-yl/hierarchical-stacking-code).\n",
    "\n",
    ":::{post} Sep 18, 2021\n",
    ":tags: case study, hierarchical model, pymc3.Bernoulli, pymc3.Deterministic, pymc3.HalfNormal, pymc3.Model, pymc3.Normal, pymc3.Potential, regression\n",
    ":category: intermediate\n",
    ":::"
   ]
  },
  {
   "cell_type": "code",
   "execution_count": 1,
   "id": "7a71e927",
   "metadata": {
    "papermill": {
     "duration": 4.069199,
     "end_time": "2021-09-18T10:52:00.594720",
     "exception": false,
     "start_time": "2021-09-18T10:51:56.525521",
     "status": "completed"
    },
    "tags": []
   },
   "outputs": [
    {
     "name": "stderr",
     "output_type": "stream",
     "text": [
      "You are running the v4 development version of PyMC3 which currently still lacks key features. You probably want to use the stable v3 instead which you can either install via conda or find on the v3 GitHub branch: https://github.com/pymc-devs/pymc3/tree/v3\n"
     ]
    }
   ],
   "source": [
    "import os\n",
    "\n",
    "import aesara\n",
    "import arviz as az\n",
    "import matplotlib.pyplot as plt\n",
    "import numpy as np\n",
    "import pandas as pd\n",
    "import pymc3 as pm\n",
    "import scipy\n",
    "import scipy.stats as stats\n",
    "import seaborn as sns\n",
    "\n",
    "from aesara.tensor.nnet.basic import softmax\n",
    "from scipy.interpolate import BSpline"
   ]
  },
  {
   "cell_type": "code",
   "execution_count": 2,
   "id": "aab47d23-9ad8-4ee4-8f6a-46ad9b528369",
   "metadata": {},
   "outputs": [],
   "source": [
    "%matplotlib inline"
   ]
  },
  {
   "cell_type": "code",
   "execution_count": 3,
   "id": "212becca",
   "metadata": {
    "papermill": {
     "duration": 0.051638,
     "end_time": "2021-09-18T10:52:00.693211",
     "exception": false,
     "start_time": "2021-09-18T10:52:00.641573",
     "status": "completed"
    },
    "tags": []
   },
   "outputs": [],
   "source": [
    "RANDOM_SEED = 8927\n",
    "rng = np.random.default_rng(RANDOM_SEED)\n",
    "az.style.use(\"arviz-darkgrid\")"
   ]
  },
  {
   "cell_type": "markdown",
   "id": "255e8d79",
   "metadata": {
    "papermill": {
     "duration": 0.043256,
     "end_time": "2021-09-18T10:52:00.780796",
     "exception": false,
     "start_time": "2021-09-18T10:52:00.737540",
     "status": "completed"
    },
    "tags": []
   },
   "source": [
    "## 1. Load data, split into train and test sets\n",
    "\n",
    "The data we have to work with looks at households in Bangladesh, some of which were affected by high levels of arsenic in their water. Would affected households want to switch to a neighbour's well?\n",
    "\n",
    "We'll split the data into a train and test set, and then we'll train six different models to try to predict whether households would switch wells. Then, we'll see how we can stack them when predicting on the test set!\n",
    "\n",
    "But first, let's load it in and visualise it! Each row represents a household, and the features we have available to us are:\n",
    "\n",
    "- switch: whether a household switched to another well;\n",
    "- arsenic: level of arsenic in drinking water;\n",
    "- educ: level of education of \"head of household\";\n",
    "- dist100: distance to nearest safe-drinking well;\n",
    "- assoc: whether the household participates in any community activities."
   ]
  },
  {
   "cell_type": "code",
   "execution_count": 4,
   "id": "01d1703b",
   "metadata": {
    "papermill": {
     "duration": 0.078754,
     "end_time": "2021-09-18T10:52:00.905455",
     "exception": false,
     "start_time": "2021-09-18T10:52:00.826701",
     "status": "completed"
    },
    "tags": []
   },
   "outputs": [],
   "source": [
    "try:\n",
    "    wells = pd.read_csv(os.path.join(\"..\", \"data\", \"wells.dat\"), sep=\" \")\n",
    "except:\n",
    "    wells = pd.read_csv(pm.get_data(\"wells.dat\"))"
   ]
  },
  {
   "cell_type": "code",
   "execution_count": 5,
   "id": "2bf6c000-cb9a-4c81-898f-5ac4cdd1020a",
   "metadata": {},
   "outputs": [
    {
     "data": {
      "text/html": [
       "<div>\n",
       "<style scoped>\n",
       "    .dataframe tbody tr th:only-of-type {\n",
       "        vertical-align: middle;\n",
       "    }\n",
       "\n",
       "    .dataframe tbody tr th {\n",
       "        vertical-align: top;\n",
       "    }\n",
       "\n",
       "    .dataframe thead th {\n",
       "        text-align: right;\n",
       "    }\n",
       "</style>\n",
       "<table border=\"1\" class=\"dataframe\">\n",
       "  <thead>\n",
       "    <tr style=\"text-align: right;\">\n",
       "      <th></th>\n",
       "      <th>id</th>\n",
       "      <th>switch</th>\n",
       "      <th>arsenic</th>\n",
       "      <th>dist</th>\n",
       "      <th>assoc</th>\n",
       "      <th>educ</th>\n",
       "    </tr>\n",
       "  </thead>\n",
       "  <tbody>\n",
       "    <tr>\n",
       "      <th>0</th>\n",
       "      <td>1</td>\n",
       "      <td>1</td>\n",
       "      <td>2.36</td>\n",
       "      <td>16.826000</td>\n",
       "      <td>0</td>\n",
       "      <td>0</td>\n",
       "    </tr>\n",
       "    <tr>\n",
       "      <th>1</th>\n",
       "      <td>2</td>\n",
       "      <td>1</td>\n",
       "      <td>0.71</td>\n",
       "      <td>47.321999</td>\n",
       "      <td>0</td>\n",
       "      <td>0</td>\n",
       "    </tr>\n",
       "    <tr>\n",
       "      <th>2</th>\n",
       "      <td>3</td>\n",
       "      <td>0</td>\n",
       "      <td>2.07</td>\n",
       "      <td>20.966999</td>\n",
       "      <td>0</td>\n",
       "      <td>10</td>\n",
       "    </tr>\n",
       "    <tr>\n",
       "      <th>3</th>\n",
       "      <td>4</td>\n",
       "      <td>1</td>\n",
       "      <td>1.15</td>\n",
       "      <td>21.486000</td>\n",
       "      <td>0</td>\n",
       "      <td>12</td>\n",
       "    </tr>\n",
       "    <tr>\n",
       "      <th>4</th>\n",
       "      <td>5</td>\n",
       "      <td>1</td>\n",
       "      <td>1.10</td>\n",
       "      <td>40.874001</td>\n",
       "      <td>1</td>\n",
       "      <td>14</td>\n",
       "    </tr>\n",
       "  </tbody>\n",
       "</table>\n",
       "</div>"
      ],
      "text/plain": [
       "   id  switch  arsenic       dist  assoc  educ\n",
       "0   1       1     2.36  16.826000      0     0\n",
       "1   2       1     0.71  47.321999      0     0\n",
       "2   3       0     2.07  20.966999      0    10\n",
       "3   4       1     1.15  21.486000      0    12\n",
       "4   5       1     1.10  40.874001      1    14"
      ]
     },
     "execution_count": 5,
     "metadata": {},
     "output_type": "execute_result"
    }
   ],
   "source": [
    "wells.head()"
   ]
  },
  {
   "cell_type": "code",
   "execution_count": 6,
   "id": "5dec77a2",
   "metadata": {
    "papermill": {
     "duration": 1.122344,
     "end_time": "2021-09-18T10:52:02.072825",
     "exception": false,
     "start_time": "2021-09-18T10:52:00.950481",
     "status": "completed"
    },
    "tags": []
   },
   "outputs": [
    {
     "data": {
      "image/png": "[encoded data removed]",
      "text/plain": [
       "<Figure size 1000x600 with 4 Axes>"
      ]
     },
     "metadata": {},
     "output_type": "display_data"
    }
   ],
   "source": [
    "fig, ax = plt.subplots(2, 2, figsize=(10, 6))\n",
    "fig.suptitle(\"Target variable plotted against various predictors\")\n",
    "sns.scatterplot(data=wells, x=\"arsenic\", y=\"switch\", ax=ax[0][0])\n",
    "sns.scatterplot(data=wells, x=\"dist\", y=\"switch\", ax=ax[0][1])\n",
    "sns.barplot(\n",
    "    data=wells.groupby(\"assoc\")[\"switch\"].mean().reset_index(), x=\"assoc\", y=\"switch\", ax=ax[1][0]\n",
    ")\n",
    "ax[1][0].set_ylabel(\"Proportion switch\")\n",
    "sns.barplot(\n",
    "    data=wells.groupby(\"educ\")[\"switch\"].mean().reset_index(), x=\"educ\", y=\"switch\", ax=ax[1][1]\n",
    ")\n",
    "ax[1][1].set_ylabel(\"Proportion switch\");"
   ]
  },
  {
   "cell_type": "markdown",
   "id": "05c9daff",
   "metadata": {
    "papermill": {
     "duration": 0.046834,
     "end_time": "2021-09-18T10:52:02.167845",
     "exception": false,
     "start_time": "2021-09-18T10:52:02.121011",
     "status": "completed"
    },
    "tags": []
   },
   "source": [
    "Next, we'll choose 100 observations to be part of our train set, and 1500 to be part of our test set."
   ]
  },
  {
   "cell_type": "code",
   "execution_count": 7,
   "id": "e6b41da0",
   "metadata": {
    "papermill": {
     "duration": 0.058671,
     "end_time": "2021-09-18T10:52:02.274078",
     "exception": false,
     "start_time": "2021-09-18T10:52:02.215407",
     "status": "completed"
    },
    "tags": []
   },
   "outputs": [],
   "source": [
    "np.random.seed(1)\n",
    "train_id = wells.sample(n=100).index\n",
    "test_id = wells.loc[~wells.index.isin(train_id)].sample(n=1500).index\n",
    "y_train = wells.loc[train_id, \"switch\"].to_numpy()\n",
    "y_test = wells.loc[test_id, \"switch\"].to_numpy()"
   ]
  },
  {
   "cell_type": "markdown",
   "id": "01c56e27",
   "metadata": {
    "papermill": {
     "duration": 0.047031,
     "end_time": "2021-09-18T10:52:02.368998",
     "exception": false,
     "start_time": "2021-09-18T10:52:02.321967",
     "status": "completed"
    },
    "tags": []
   },
   "source": [
    "## 2. Prepare 6 different candidate models\n",
    "\n",
    "### 2.1 Feature Engineering\n",
    "\n",
    "First, let's add a few new columns:\n",
    "- `edu0`: whether `educ` is `0`,\n",
    "- `edu1`: whether `educ` is between `1` and `5`,\n",
    "- `edu2`: whether `educ` is between `6` and `11`,\n",
    "- `edu3`: whether `educ` is between `12` and `17`,\n",
    "- `logarsenic`: natural logarithm of `arsenic`,\n",
    "- `assoc_half`: half of `assoc`,\n",
    "- `as_square`: natural logarithm of `arsenic`, squared,\n",
    "- `as_third`: natural logarithm of `arsenic`, cubed,\n",
    "- `dist100`: `dist` divided by `100`,\n",
    " - `intercept`: just a columns of `1`s.\n",
    "\n",
    "We're going to start by fitting 6 different models to our train set:\n",
    "\n",
    "- logistic regression using `intercept`, `arsenic`, `assoc`, `edu1`, `edu2`, and `edu3`;\n",
    "- same as above, but with `logarsenic` instead of `arsenic`;\n",
    "- same as the first one, but with square and cubic features as well;\n",
    "- same as the first one, but with spline features derived from `logarsenic` as well;\n",
    "- same as the first one, but with spline features derived from `dist100` as well;\n",
    "- same as the first one, but with `educ` instead of the binary `edu` variables."
   ]
  },
  {
   "cell_type": "code",
   "execution_count": 8,
   "id": "fa79c0ee-54b9-458d-9f97-c9e91ae83e7a",
   "metadata": {},
   "outputs": [],
   "source": [
    "wells[\"edu0\"] = wells[\"educ\"].isin(np.arange(0, 1)).astype(int)\n",
    "wells[\"edu1\"] = wells[\"educ\"].isin(np.arange(1, 6)).astype(int)\n",
    "wells[\"edu2\"] = wells[\"educ\"].isin(np.arange(6, 12)).astype(int)\n",
    "wells[\"edu3\"] = wells[\"educ\"].isin(np.arange(12, 18)).astype(int)\n",
    "wells[\"logarsenic\"] = np.log(wells[\"arsenic\"])\n",
    "wells[\"assoc_half\"] = wells[\"assoc\"] / 2.0\n",
    "wells[\"as_square\"] = wells[\"logarsenic\"] ** 2\n",
    "wells[\"as_third\"] = wells[\"logarsenic\"] ** 3\n",
    "wells[\"dist100\"] = wells[\"dist\"] / 100.0\n",
    "wells[\"intercept\"] = 1"
   ]
  },
  {
   "cell_type": "code",
   "execution_count": 9,
   "id": "6726d0fa",
   "metadata": {
    "papermill": {
     "duration": 0.062523,
     "end_time": "2021-09-18T10:52:02.478421",
     "exception": false,
     "start_time": "2021-09-18T10:52:02.415898",
     "status": "completed"
    },
    "tags": []
   },
   "outputs": [],
   "source": [
    "def bs(x, knots, degree):\n",
    "    \"\"\"Replicates bs from splines package in R.\"\"\"\n",
    "    padded_knots = np.hstack([[x.min()] * (degree + 1), knots, [x.max()] * (degree + 1)])\n",
    "    return pd.DataFrame(\n",
    "        BSpline(padded_knots, np.eye(len(padded_knots) - degree - 1), degree)(x)[:, 1:],\n",
    "        index=x.index,\n",
    "    )\n",
    "\n",
    "\n",
    "knots = np.quantile(wells.loc[train_id, \"logarsenic\"], np.linspace(0.1, 0.9, num=10))\n",
    "spline_arsenic = bs(wells[\"logarsenic\"], knots=knots, degree=3)\n",
    "knots = np.quantile(wells.loc[train_id, \"dist100\"], np.linspace(0.1, 0.9, num=10))\n",
    "spline_dist = bs(wells[\"dist100\"], knots=knots, degree=3)"
   ]
  },
  {
   "cell_type": "code",
   "execution_count": 10,
   "id": "064a3de6",
   "metadata": {
    "papermill": {
     "duration": 0.081958,
     "end_time": "2021-09-18T10:52:02.608879",
     "exception": false,
     "start_time": "2021-09-18T10:52:02.526921",
     "status": "completed"
    },
    "tags": []
   },
   "outputs": [],
   "source": [
    "features_0 = [\"intercept\", \"dist100\", \"arsenic\", \"assoc\", \"edu1\", \"edu2\", \"edu3\"]\n",
    "features_1 = [\"intercept\", \"dist100\", \"logarsenic\", \"assoc\", \"edu1\", \"edu2\", \"edu3\"]\n",
    "features_2 = [\n",
    "    \"intercept\",\n",
    "    \"dist100\",\n",
    "    \"arsenic\",\n",
    "    \"as_third\",\n",
    "    \"as_square\",\n",
    "    \"assoc\",\n",
    "    \"edu1\",\n",
    "    \"edu2\",\n",
    "    \"edu3\",\n",
    "]\n",
    "features_3 = [\"intercept\", \"dist100\", \"assoc\", \"edu1\", \"edu2\", \"edu3\"]\n",
    "features_4 = [\"intercept\", \"logarsenic\", \"assoc\", \"edu1\", \"edu2\", \"edu3\"]\n",
    "features_5 = [\"intercept\", \"dist100\", \"logarsenic\", \"assoc\", \"educ\"]\n",
    "\n",
    "X0 = wells.loc[train_id, features_0].to_numpy()\n",
    "X1 = wells.loc[train_id, features_1].to_numpy()\n",
    "X2 = wells.loc[train_id, features_2].to_numpy()\n",
    "X3 = pd.concat([wells.loc[:, features_3], spline_arsenic], axis=1).loc[train_id].to_numpy()\n",
    "X4 = pd.concat([wells.loc[:, features_4], spline_dist], axis=1).loc[train_id].to_numpy()\n",
    "X5 = wells.loc[train_id, features_5].to_numpy()\n",
    "\n",
    "X0_test = wells.loc[test_id, features_0].to_numpy()\n",
    "X1_test = wells.loc[test_id, features_1].to_numpy()\n",
    "X2_test = wells.loc[test_id, features_2].to_numpy()\n",
    "X3_test = pd.concat([wells.loc[:, features_3], spline_arsenic], axis=1).loc[test_id].to_numpy()\n",
    "X4_test = pd.concat([wells.loc[:, features_4], spline_dist], axis=1).loc[test_id].to_numpy()\n",
    "X5_test = wells.loc[test_id, features_5].to_numpy()"
   ]
  },
  {
   "cell_type": "code",
   "execution_count": 11,
   "id": "64fa1b43",
   "metadata": {
    "papermill": {
     "duration": 0.055757,
     "end_time": "2021-09-18T10:52:02.713347",
     "exception": false,
     "start_time": "2021-09-18T10:52:02.657590",
     "status": "completed"
    },
    "tags": []
   },
   "outputs": [],
   "source": [
    "train_x_list = [X0, X1, X2, X3, X4, X5]\n",
    "test_x_list = [X0_test, X1_test, X2_test, X3_test, X4_test, X5_test]\n",
    "K = len(train_x_list)"
   ]
  },
  {
   "cell_type": "markdown",
   "id": "e7d1a65d",
   "metadata": {
    "papermill": {
     "duration": 0.049466,
     "end_time": "2021-09-18T10:52:02.811950",
     "exception": false,
     "start_time": "2021-09-18T10:52:02.762484",
     "status": "completed"
    },
    "tags": []
   },
   "source": [
    "### 2.2 Training\n",
    "\n",
    "Each model will be trained in the same way - with a Bernoulli likelihood and a logit link function."
   ]
  },
  {
   "cell_type": "code",
   "execution_count": 12,
   "id": "c070567f",
   "metadata": {
    "papermill": {
     "duration": 0.056796,
     "end_time": "2021-09-18T10:52:02.917713",
     "exception": false,
     "start_time": "2021-09-18T10:52:02.860917",
     "status": "completed"
    },
    "tags": []
   },
   "outputs": [],
   "source": [
    "def logistic(X_train, y_train):\n",
    "    coords = {\"features\": np.arange(X_train.shape[1])}\n",
    "    with pm.Model(check_bounds=False, coords=coords) as model:\n",
    "        beta = pm.Normal(\n",
    "            \"beta\",\n",
    "            mu=0,\n",
    "            sigma=3,\n",
    "            dims=\"features\",\n",
    "        )\n",
    "        probs = pm.Deterministic(\"probs\", pm.math.invlogit(pm.math.matrix_dot(X_train, beta)))\n",
    "        pm.Bernoulli(\"obs\", p=probs, observed=y_train)\n",
    "    return model"
   ]
  },
  {
   "cell_type": "code",
   "execution_count": 13,
   "id": "b29ed6c2",
   "metadata": {
    "papermill": {
     "duration": 820.388941,
     "end_time": "2021-09-18T11:05:43.355092",
     "exception": false,
     "start_time": "2021-09-18T10:52:02.966151",
     "status": "completed"
    },
    "tags": []
   },
   "outputs": [
    {
     "name": "stderr",
     "output_type": "stream",
     "text": [
      "Auto-assigning NUTS sampler...\n",
      "Initializing NUTS using jitter+adapt_diag...\n",
      "Multiprocess sampling (4 chains in 4 jobs)\n",
      "NUTS: [beta]\n"
     ]
    },
    {
     "data": {
      "text/html": [
       "\n",
       "    <div>\n",
       "        <style>\n",
       "            /* Turns off some styling */\n",
       "            progress {\n",
       "                /* gets rid of default border in Firefox and Opera. */\n",
       "                border: none;\n",
       "                /* Needs to be in here for Safari polyfill so background images work as expected. */\n",
       "                background-size: auto;\n",
       "            }\n",
       "            .progress-bar-interrupted, .progress-bar-interrupted::-webkit-progress-bar {\n",
       "                background: #F44336;\n",
       "            }\n",
       "        </style>\n",
       "      <progress value='8000' class='' max='8000' style='width:300px; height:20px; vertical-align: middle;'></progress>\n",
       "      100.00% [8000/8000 00:02<00:00 Sampling 4 chains, 0 divergences]\n",
       "    </div>\n",
       "    "
      ],
      "text/plain": [
       "<IPython.core.display.HTML object>"
      ]
     },
     "metadata": {},
     "output_type": "display_data"
    },
    {
     "name": "stderr",
     "output_type": "stream",
     "text": [
      "Sampling 4 chains for 1_000 tune and 1_000 draw iterations (4_000 + 4_000 draws total) took 3 seconds.\n",
      "Auto-assigning NUTS sampler...\n",
      "Initializing NUTS using jitter+adapt_diag...\n",
      "Multiprocess sampling (4 chains in 4 jobs)\n",
      "NUTS: [beta]\n"
     ]
    },
    {
     "data": {
      "text/html": [
       "\n",
       "    <div>\n",
       "        <style>\n",
       "            /* Turns off some styling */\n",
       "            progress {\n",
       "                /* gets rid of default border in Firefox and Opera. */\n",
       "                border: none;\n",
       "                /* Needs to be in here for Safari polyfill so background images work as expected. */\n",
       "                background-size: auto;\n",
       "            }\n",
       "            .progress-bar-interrupted, .progress-bar-interrupted::-webkit-progress-bar {\n",
       "                background: #F44336;\n",
       "            }\n",
       "        </style>\n",
       "      <progress value='8000' class='' max='8000' style='width:300px; height:20px; vertical-align: middle;'></progress>\n",
       "      100.00% [8000/8000 00:02<00:00 Sampling 4 chains, 0 divergences]\n",
       "    </div>\n",
       "    "
      ],
      "text/plain": [
       "<IPython.core.display.HTML object>"
      ]
     },
     "metadata": {},
     "output_type": "display_data"
    },
    {
     "name": "stderr",
     "output_type": "stream",
     "text": [
      "Sampling 4 chains for 1_000 tune and 1_000 draw iterations (4_000 + 4_000 draws total) took 3 seconds.\n",
      "Auto-assigning NUTS sampler...\n",
      "Initializing NUTS using jitter+adapt_diag...\n",
      "Multiprocess sampling (4 chains in 4 jobs)\n",
      "NUTS: [beta]\n"
     ]
    },
    {
     "data": {
      "text/html": [
       "\n",
       "    <div>\n",
       "        <style>\n",
       "            /* Turns off some styling */\n",
       "            progress {\n",
       "                /* gets rid of default border in Firefox and Opera. */\n",
       "                border: none;\n",
       "                /* Needs to be in here for Safari polyfill so background images work as expected. */\n",
       "                background-size: auto;\n",
       "            }\n",
       "            .progress-bar-interrupted, .progress-bar-interrupted::-webkit-progress-bar {\n",
       "                background: #F44336;\n",
       "            }\n",
       "        </style>\n",
       "      <progress value='8000' class='' max='8000' style='width:300px; height:20px; vertical-align: middle;'></progress>\n",
       "      100.00% [8000/8000 00:05<00:00 Sampling 4 chains, 0 divergences]\n",
       "    </div>\n",
       "    "
      ],
      "text/plain": [
       "<IPython.core.display.HTML object>"
      ]
     },
     "metadata": {},
     "output_type": "display_data"
    },
    {
     "name": "stderr",
     "output_type": "stream",
     "text": [
      "Sampling 4 chains for 1_000 tune and 1_000 draw iterations (4_000 + 4_000 draws total) took 6 seconds.\n",
      "Auto-assigning NUTS sampler...\n",
      "Initializing NUTS using jitter+adapt_diag...\n",
      "Multiprocess sampling (4 chains in 4 jobs)\n",
      "NUTS: [beta]\n"
     ]
    },
    {
     "data": {
      "text/html": [
       "\n",
       "    <div>\n",
       "        <style>\n",
       "            /* Turns off some styling */\n",
       "            progress {\n",
       "                /* gets rid of default border in Firefox and Opera. */\n",
       "                border: none;\n",
       "                /* Needs to be in here for Safari polyfill so background images work as expected. */\n",
       "                background-size: auto;\n",
       "            }\n",
       "            .progress-bar-interrupted, .progress-bar-interrupted::-webkit-progress-bar {\n",
       "                background: #F44336;\n",
       "            }\n",
       "        </style>\n",
       "      <progress value='8000' class='' max='8000' style='width:300px; height:20px; vertical-align: middle;'></progress>\n",
       "      100.00% [8000/8000 00:03<00:00 Sampling 4 chains, 0 divergences]\n",
       "    </div>\n",
       "    "
      ],
      "text/plain": [
       "<IPython.core.display.HTML object>"
      ]
     },
     "metadata": {},
     "output_type": "display_data"
    },
    {
     "name": "stderr",
     "output_type": "stream",
     "text": [
      "Sampling 4 chains for 1_000 tune and 1_000 draw iterations (4_000 + 4_000 draws total) took 4 seconds.\n",
      "Auto-assigning NUTS sampler...\n",
      "Initializing NUTS using jitter+adapt_diag...\n",
      "Multiprocess sampling (4 chains in 4 jobs)\n",
      "NUTS: [beta]\n"
     ]
    },
    {
     "data": {
      "text/html": [
       "\n",
       "    <div>\n",
       "        <style>\n",
       "            /* Turns off some styling */\n",
       "            progress {\n",
       "                /* gets rid of default border in Firefox and Opera. */\n",
       "                border: none;\n",
       "                /* Needs to be in here for Safari polyfill so background images work as expected. */\n",
       "                background-size: auto;\n",
       "            }\n",
       "            .progress-bar-interrupted, .progress-bar-interrupted::-webkit-progress-bar {\n",
       "                background: #F44336;\n",
       "            }\n",
       "        </style>\n",
       "      <progress value='8000' class='' max='8000' style='width:300px; height:20px; vertical-align: middle;'></progress>\n",
       "      100.00% [8000/8000 00:04<00:00 Sampling 4 chains, 0 divergences]\n",
       "    </div>\n",
       "    "
      ],
      "text/plain": [
       "<IPython.core.display.HTML object>"
      ]
     },
     "metadata": {},
     "output_type": "display_data"
    },
    {
     "name": "stderr",
     "output_type": "stream",
     "text": [
      "Sampling 4 chains for 1_000 tune and 1_000 draw iterations (4_000 + 4_000 draws total) took 4 seconds.\n",
      "Auto-assigning NUTS sampler...\n",
      "Initializing NUTS using jitter+adapt_diag...\n",
      "Multiprocess sampling (4 chains in 4 jobs)\n",
      "NUTS: [beta]\n"
     ]
    },
    {
     "data": {
      "text/html": [
       "\n",
       "    <div>\n",
       "        <style>\n",
       "            /* Turns off some styling */\n",
       "            progress {\n",
       "                /* gets rid of default border in Firefox and Opera. */\n",
       "                border: none;\n",
       "                /* Needs to be in here for Safari polyfill so background images work as expected. */\n",
       "                background-size: auto;\n",
       "            }\n",
       "            .progress-bar-interrupted, .progress-bar-interrupted::-webkit-progress-bar {\n",
       "                background: #F44336;\n",
       "            }\n",
       "        </style>\n",
       "      <progress value='8000' class='' max='8000' style='width:300px; height:20px; vertical-align: middle;'></progress>\n",
       "      100.00% [8000/8000 00:02<00:00 Sampling 4 chains, 0 divergences]\n",
       "    </div>\n",
       "    "
      ],
      "text/plain": [
       "<IPython.core.display.HTML object>"
      ]
     },
     "metadata": {},
     "output_type": "display_data"
    },
    {
     "name": "stderr",
     "output_type": "stream",
     "text": [
      "Sampling 4 chains for 1_000 tune and 1_000 draw iterations (4_000 + 4_000 draws total) took 3 seconds.\n"
     ]
    }
   ],
   "source": [
    "fit_list = []\n",
    "for k in range(K):\n",
    "    model = logistic(train_x_list[k], y_train)\n",
    "    with model:\n",
    "        idata = pm.sample(draws=1000, tune=1000, return_inferencedata=True)\n",
    "    fit_list.append(idata)"
   ]
  },
  {
   "cell_type": "markdown",
   "id": "c2ac5012",
   "metadata": {
    "papermill": {
     "duration": 0.051074,
     "end_time": "2021-09-18T11:05:43.479751",
     "exception": false,
     "start_time": "2021-09-18T11:05:43.428677",
     "status": "completed"
    },
    "tags": []
   },
   "source": [
    "### 2.3 Estimate leave-one-out cross-validated score for each training point\n",
    "\n",
    "Rather than refitting each model 100 times, we will estimate the leave-one-out cross-validated score using LOO {cite-t}`pmlr-v108-magnusson20a`."
   ]
  },
  {
   "cell_type": "code",
   "execution_count": 14,
   "id": "0dfe6166",
   "metadata": {
    "papermill": {
     "duration": 14.787853,
     "end_time": "2021-09-18T11:05:58.318434",
     "exception": false,
     "start_time": "2021-09-18T11:05:43.530581",
     "status": "completed"
    },
    "tags": []
   },
   "outputs": [],
   "source": [
    "def find_point_wise_loo_score(fit):\n",
    "    return az.loo(fit, pointwise=True, scale=\"log\").loo_i.values\n",
    "\n",
    "\n",
    "lpd_point = np.vstack([find_point_wise_loo_score(fit) for fit in fit_list]).T\n",
    "exp_lpd_point = np.exp(lpd_point)"
   ]
  },
  {
   "cell_type": "markdown",
   "id": "e3f7a74a",
   "metadata": {
    "papermill": {
     "duration": 0.051972,
     "end_time": "2021-09-18T11:05:58.422802",
     "exception": false,
     "start_time": "2021-09-18T11:05:58.370830",
     "status": "completed"
    },
    "tags": []
   },
   "source": [
    "## 3. Bayesian Hierarchical Stacking\n",
    "\n",
    "### 3.1 Prepare stacking datasets\n",
    "\n",
    "To determine how the stacking weights should vary across training and test sets, we will need to create stacking datasets. For discrete features, this is easy, we just one-hot-encode them. But for continuous features, we need a trick. In Equation (16), the authors recommend the following: if you have a continuous feature `f`, then replace it with the following two features:\n",
    "\n",
    "- `f_l`: `f` minus the median of `f`, clipped above at 0;\n",
    "- `f_r`: `f` minus the median of `f`, clipped below at 0;"
   ]
  },
  {
   "cell_type": "code",
   "execution_count": 15,
   "id": "8450ac11",
   "metadata": {
    "papermill": {
     "duration": 0.078407,
     "end_time": "2021-09-18T11:05:58.566113",
     "exception": false,
     "start_time": "2021-09-18T11:05:58.487706",
     "status": "completed"
    },
    "tags": []
   },
   "outputs": [],
   "source": [
    "dist100_median = wells.loc[wells.index[train_id], \"dist100\"].median()\n",
    "logarsenic_median = wells.loc[wells.index[train_id], \"logarsenic\"].median()\n",
    "wells[\"dist100_l\"] = (wells[\"dist100\"] - dist100_median).clip(upper=0)\n",
    "wells[\"dist100_r\"] = (wells[\"dist100\"] - dist100_median).clip(lower=0)\n",
    "wells[\"logarsenic_l\"] = (wells[\"logarsenic\"] - logarsenic_median).clip(upper=0)\n",
    "wells[\"logarsenic_r\"] = (wells[\"logarsenic\"] - logarsenic_median).clip(lower=0)\n",
    "\n",
    "stacking_features = [\n",
    "    \"edu0\",\n",
    "    \"edu1\",\n",
    "    \"edu2\",\n",
    "    \"edu3\",\n",
    "    \"assoc_half\",\n",
    "    \"dist100_l\",\n",
    "    \"dist100_r\",\n",
    "    \"logarsenic_l\",\n",
    "    \"logarsenic_r\",\n",
    "]\n",
    "X_stacking_train = wells.loc[train_id, stacking_features].to_numpy()\n",
    "X_stacking_test = wells.loc[test_id, stacking_features].to_numpy()"
   ]
  },
  {
   "cell_type": "markdown",
   "id": "cb323c68",
   "metadata": {
    "papermill": {
     "duration": 0.052318,
     "end_time": "2021-09-18T11:05:58.671602",
     "exception": false,
     "start_time": "2021-09-18T11:05:58.619284",
     "status": "completed"
    },
    "tags": []
   },
   "source": [
    "### 3.2 Define stacking model\n",
    "\n",
    "What we seek to find is a matrix of weights $W$ with which to multiply the models' predictions. Let's define a matrix $Pred$ such that $Pred_{i, k}$ represents the prediction made for point $i$ by model $k$. Then the final prediction for point $i$ will then be:\n",
    "\n",
    "$$ \\sum_k W_{i, k}Pred_{i, k} $$\n",
    "\n",
    "Such a matrix $W$ would be required to have each column sum to $1$. Hence, we calculate each row $W_i$ of $W$ as:\n",
    "\n",
    "$$ W_i = \\text{softmax}(X\\text{_stacking}_i \\cdot \\beta), $$\n",
    "\n",
    "where $\\beta$ is a matrix whose values we seek to determine. For the discrete features, $\\beta$ is given a hierarchical structure over the possible inputs. Continuous features, on the other hand, get no hierarchical structure and just vary according to the input values.\n",
    "\n",
    "Notice how, for the discrete features, a non-centered parametrisation is used (see [Why hierarchical models are awesome, tricky, and Bayesian](https://twiecki.io/blog/2017/02/08/bayesian-hierchical-non-centered/)). Also note that we only need to estimate `K-1` columns of $\\beta$, because the weights `W_{i, k}` will have to sum to `1` for each `i`."
   ]
  },
  {
   "cell_type": "code",
   "execution_count": 16,
   "id": "f2203a8c",
   "metadata": {
    "papermill": {
     "duration": 0.075301,
     "end_time": "2021-09-18T11:05:58.799743",
     "exception": false,
     "start_time": "2021-09-18T11:05:58.724442",
     "status": "completed"
    },
    "tags": []
   },
   "outputs": [],
   "source": [
    "def stacking(\n",
    "    X,\n",
    "    d_discrete,\n",
    "    X_test,\n",
    "    exp_lpd_point,\n",
    "    tau_mu,\n",
    "    tau_sigma,\n",
    "):\n",
    "    N = X.shape[0]\n",
    "    d = X.shape[1]\n",
    "    N_test = X_test.shape[0]\n",
    "    K = lpd_point.shape[1]\n",
    "    coords = {\n",
    "        \"continuous_features\": np.arange(d - d_discrete),\n",
    "        \"discrete_features\": np.arange(d_discrete),\n",
    "        \"models\": np.arange(K - 1),\n",
    "    }\n",
    "\n",
    "    with pm.Model(check_bounds=False, coords=coords) as model:\n",
    "        beta_con = pm.Normal(\"beta_con\", mu=0, sigma=1, dims=(\"models\", \"continuous_features\"))\n",
    "        tau = pm.Normal(\n",
    "            \"tau\",\n",
    "            mu=0,\n",
    "            sigma=1,\n",
    "            dims=(\"models\", \"discrete_features\"),\n",
    "        )\n",
    "        mu = pm.Normal(\n",
    "            \"mu\",\n",
    "            mu=0,\n",
    "            sigma=tau_mu,\n",
    "            dims=\"models\",\n",
    "        )\n",
    "        sigma = pm.HalfNormal(\n",
    "            \"sigma\",\n",
    "            sigma=tau_sigma,\n",
    "            dims=\"models\",\n",
    "        )\n",
    "\n",
    "        beta = pm.Deterministic(\n",
    "            \"beta\",\n",
    "            pm.math.stack(\n",
    "                [\n",
    "                    pm.math.concatenate([mu[k] + sigma[k] * tau[k], beta_con[k]])\n",
    "                    for k in range(K - 1)\n",
    "                ],\n",
    "            ),\n",
    "        )\n",
    "\n",
    "        f = pm.Deterministic(\n",
    "            \"f\",\n",
    "            pm.math.concatenate(\n",
    "                [\n",
    "                    pm.math.stack(\n",
    "                        [pm.math.matrix_dot(X, beta[k]) for k in range(K - 1)],\n",
    "                        axis=1,\n",
    "                    ),\n",
    "                    aesara.tensor.zeros((N, 1)),\n",
    "                ],\n",
    "                axis=1,\n",
    "            ),\n",
    "        )\n",
    "        w = pm.Deterministic(\"w\", softmax(f))\n",
    "\n",
    "        logp = pm.math.log((exp_lpd_point * w).sum(axis=1))\n",
    "        pm.Potential(\"logp\", pm.math.sum(logp))\n",
    "\n",
    "        f_test = pm.Deterministic(\n",
    "            \"f_test\",\n",
    "            pm.math.concatenate(\n",
    "                [\n",
    "                    pm.math.stack(\n",
    "                        [pm.math.matrix_dot(X_test, beta[k]) for k in range(K - 1)],\n",
    "                        axis=1,\n",
    "                    ),\n",
    "                    aesara.tensor.zeros((N_test, 1)),\n",
    "                ],\n",
    "                axis=1,\n",
    "            ),\n",
    "        )\n",
    "        w_test = pm.Deterministic(\n",
    "            \"w_test\",\n",
    "            softmax(f_test),\n",
    "        )\n",
    "\n",
    "    return model"
   ]
  },
  {
   "cell_type": "code",
   "execution_count": 17,
   "id": "9827977d",
   "metadata": {
    "papermill": {
     "duration": 296.084187,
     "end_time": "2021-09-18T11:10:54.936288",
     "exception": false,
     "start_time": "2021-09-18T11:05:58.852101",
     "status": "completed"
    },
    "tags": []
   },
   "outputs": [
    {
     "name": "stderr",
     "output_type": "stream",
     "text": [
      "Auto-assigning NUTS sampler...\n",
      "Initializing NUTS using jitter+adapt_diag...\n",
      "Multiprocess sampling (4 chains in 4 jobs)\n",
      "NUTS: [beta_con, tau, mu, sigma]\n"
     ]
    },
    {
     "data": {
      "text/html": [
       "\n",
       "    <div>\n",
       "        <style>\n",
       "            /* Turns off some styling */\n",
       "            progress {\n",
       "                /* gets rid of default border in Firefox and Opera. */\n",
       "                border: none;\n",
       "                /* Needs to be in here for Safari polyfill so background images work as expected. */\n",
       "                background-size: auto;\n",
       "            }\n",
       "            .progress-bar-interrupted, .progress-bar-interrupted::-webkit-progress-bar {\n",
       "                background: #F44336;\n",
       "            }\n",
       "        </style>\n",
       "      <progress value='8000' class='' max='8000' style='width:300px; height:20px; vertical-align: middle;'></progress>\n",
       "      100.00% [8000/8000 00:08<00:00 Sampling 4 chains, 0 divergences]\n",
       "    </div>\n",
       "    "
      ],
      "text/plain": [
       "<IPython.core.display.HTML object>"
      ]
     },
     "metadata": {},
     "output_type": "display_data"
    },
    {
     "name": "stderr",
     "output_type": "stream",
     "text": [
      "Sampling 4 chains for 1_000 tune and 1_000 draw iterations (4_000 + 4_000 draws total) took 10 seconds.\n"
     ]
    }
   ],
   "source": [
    "model = stacking(\n",
    "    X=X_stacking_train,\n",
    "    d_discrete=4,\n",
    "    X_test=X_stacking_test,\n",
    "    exp_lpd_point=exp_lpd_point,\n",
    "    tau_mu=1.0,\n",
    "    tau_sigma=0.5,\n",
    ")\n",
    "with model:\n",
    "    idata = pm.sample(draws=1000, tune=1000, return_inferencedata=True, target_accept=0.9)"
   ]
  },
  {
   "cell_type": "markdown",
   "id": "c7ede764",
   "metadata": {
    "papermill": {
     "duration": 0.052553,
     "end_time": "2021-09-18T11:10:55.042375",
     "exception": false,
     "start_time": "2021-09-18T11:10:54.989822",
     "status": "completed"
    },
    "tags": []
   },
   "source": [
    "We can now extract the weights with which to weight the different models from the posterior, and then visualise how they vary across the training set.\n",
    "\n",
    "Let's compare them with what the weights would've been if we'd just used fixed stacking weights derived from the LOO scores. Notice how Bayesian Hierarchical Stacking induces a shrinkage effect - the weights are not allowed to vary too much from each model's mean weight."
   ]
  },
  {
   "cell_type": "code",
   "execution_count": 18,
   "id": "ebff0cfd",
   "metadata": {
    "papermill": {
     "duration": 0.308565,
     "end_time": "2021-09-18T11:10:55.402627",
     "exception": false,
     "start_time": "2021-09-18T11:10:55.094062",
     "status": "completed"
    },
    "tags": []
   },
   "outputs": [],
   "source": [
    "w = idata.posterior.w.mean(dim=(\"chain\", \"draw\"))"
   ]
  },
  {
   "cell_type": "code",
   "execution_count": 19,
   "id": "812117cb",
   "metadata": {
    "papermill": {
     "duration": 2.523295,
     "end_time": "2021-09-18T11:10:57.979955",
     "exception": false,
     "start_time": "2021-09-18T11:10:55.456660",
     "status": "completed"
    },
    "tags": []
   },
   "outputs": [
    {
     "data": {
      "image/png": "[encoded data removed]",
      "text/plain": [
       "<Figure size 1600x600 with 2 Axes>"
      ]
     },
     "metadata": {},
     "output_type": "display_data"
    }
   ],
   "source": [
    "fig, ax = plt.subplots(nrows=1, ncols=2, figsize=(16, 6), sharey=True)\n",
    "sns.scatterplot(data=pd.DataFrame(w.values), ax=ax[0])\n",
    "sns.scatterplot(\n",
    "    data=pd.DataFrame(\n",
    "        np.hstack(\n",
    "            [scipy.special.softmax(lpd_point.sum(axis=0))[:, np.newaxis] for _ in range(2000)]\n",
    "        ).T\n",
    "    ),\n",
    "    ax=ax[1],\n",
    ")\n",
    "ax[0].set_title(\"Training weights from Bayesian Hierarchical stacking\")\n",
    "ax[1].set_title(\"Fixed weights derived from lpd_point\")\n",
    "ax[0].set_xlabel(\"Index\")\n",
    "ax[1].set_xlabel(\"Index\");"
   ]
  },
  {
   "cell_type": "markdown",
   "id": "c60e0c01",
   "metadata": {
    "papermill": {
     "duration": 0.065143,
     "end_time": "2021-09-18T11:10:58.110931",
     "exception": false,
     "start_time": "2021-09-18T11:10:58.045788",
     "status": "completed"
    },
    "tags": []
   },
   "source": [
    "## 4. Evaluate on test set\n",
    "\n",
    "### 4.1 Stack predictions\n",
    "\n",
    "Now, for each model, let's evaluate the log predictive density for each point in the test set. Once we have predictions for each model, we need to think about how to combine them, such that for each test point, we get a single prediction.\n",
    "\n",
    "We decided we'd do this in three ways:\n",
    "- Bayesian Hierarchical Stacking (`bhs_pred`);\n",
    "- choosing the model with the best training set LOO score (`model_selection_preds`);\n",
    "- fixed-weights stacking based on LOO scores (`fixed_weights_preds`)."
   ]
  },
  {
   "cell_type": "code",
   "execution_count": 20,
   "id": "a44794e1",
   "metadata": {
    "papermill": {
     "duration": 0.911131,
     "end_time": "2021-09-18T11:10:59.088087",
     "exception": false,
     "start_time": "2021-09-18T11:10:58.176956",
     "status": "completed"
    },
    "tags": []
   },
   "outputs": [],
   "source": [
    "train_preds = []\n",
    "for k in range(K):\n",
    "    train_pred = scipy.special.expit(\n",
    "        np.matmul(\n",
    "            train_x_list[k], fit_list[k].posterior.beta.stack(samples=(\"chain\", \"draw\")).values\n",
    "        )\n",
    "    )\n",
    "    train_preds.append(train_pred.mean(axis=1))\n",
    "train_preds = np.vstack(train_preds).T"
   ]
  },
  {
   "cell_type": "code",
   "execution_count": 21,
   "id": "5b686b7c",
   "metadata": {
    "papermill": {
     "duration": 0.54285,
     "end_time": "2021-09-18T11:10:59.694998",
     "exception": false,
     "start_time": "2021-09-18T11:10:59.152148",
     "status": "completed"
    },
    "tags": []
   },
   "outputs": [],
   "source": [
    "preds = []\n",
    "for k in range(K):\n",
    "    post_pred = scipy.special.expit(\n",
    "        np.matmul(\n",
    "            test_x_list[k], fit_list[k].posterior.beta.stack(samples=(\"chain\", \"draw\")).values\n",
    "        )\n",
    "    )\n",
    "    preds.append(post_pred.mean(axis=1))\n",
    "preds = np.vstack(preds).T"
   ]
  },
  {
   "cell_type": "code",
   "execution_count": 22,
   "id": "436f8789",
   "metadata": {
    "papermill": {
     "duration": 0.145066,
     "end_time": "2021-09-18T11:11:00.042707",
     "exception": false,
     "start_time": "2021-09-18T11:10:59.897641",
     "status": "completed"
    },
    "tags": []
   },
   "outputs": [],
   "source": [
    "w_test = idata.posterior.w_test.mean(dim=(\"chain\", \"draw\"))\n",
    "bhs_predictions = (w_test * preds).sum(axis=1)\n",
    "model_selection_preds = preds[:, lpd_point.sum(axis=0).argmax()]\n",
    "fixed_weights_preds = (scipy.special.softmax(lpd_point.sum(axis=0)) * preds).sum(axis=1)"
   ]
  },
  {
   "cell_type": "markdown",
   "id": "76233762",
   "metadata": {
    "papermill": {
     "duration": 0.064289,
     "end_time": "2021-09-18T11:11:00.170538",
     "exception": false,
     "start_time": "2021-09-18T11:11:00.106249",
     "status": "completed"
    },
    "tags": []
   },
   "source": [
    "### 4.2 Compare methods"
   ]
  },
  {
   "cell_type": "markdown",
   "id": "c2d889c2",
   "metadata": {
    "papermill": {
     "duration": 0.06178,
     "end_time": "2021-09-18T11:11:00.293209",
     "exception": false,
     "start_time": "2021-09-18T11:11:00.231429",
     "status": "completed"
    },
    "tags": []
   },
   "source": [
    "Let's compare the log predictive density scores on the test set (note: higher is better):"
   ]
  },
  {
   "cell_type": "code",
   "execution_count": 23,
   "id": "33e15689",
   "metadata": {
    "papermill": {
     "duration": 0.463508,
     "end_time": "2021-09-18T11:11:00.819086",
     "exception": false,
     "start_time": "2021-09-18T11:11:00.355578",
     "status": "completed"
    },
    "tags": []
   },
   "outputs": [
    {
     "data": {
      "image/png": "[encoded data removed]",
      "text/plain": [
       "<Figure size 720x480 with 1 Axes>"
      ]
     },
     "metadata": {},
     "output_type": "display_data"
    }
   ],
   "source": [
    "logpms = pd.DataFrame(\n",
    "    np.vstack(\n",
    "        [\n",
    "            stats.bernoulli(p=bhs_predictions).logpmf(y_test),\n",
    "            stats.bernoulli(p=model_selection_preds).logpmf(y_test),\n",
    "            stats.bernoulli(p=fixed_weights_preds).logpmf(y_test),\n",
    "        ]\n",
    "    ).T,\n",
    "    columns=[\"bhs\", \"model selection\", \"fixed stacking weights\"],\n",
    ")\n",
    "sns.barplot(data=logpms);"
   ]
  },
  {
   "cell_type": "code",
   "execution_count": 24,
   "id": "cf3faaae",
   "metadata": {
    "papermill": {
     "duration": 0.088841,
     "end_time": "2021-09-18T11:11:00.971661",
     "exception": false,
     "start_time": "2021-09-18T11:11:00.882820",
     "status": "completed"
    },
    "tags": []
   },
   "outputs": [
    {
     "data": {
      "text/html": [
       "<div>\n",
       "<style scoped>\n",
       "    .dataframe tbody tr th:only-of-type {\n",
       "        vertical-align: middle;\n",
       "    }\n",
       "\n",
       "    .dataframe tbody tr th {\n",
       "        vertical-align: top;\n",
       "    }\n",
       "\n",
       "    .dataframe thead th {\n",
       "        text-align: right;\n",
       "    }\n",
       "</style>\n",
       "<table border=\"1\" class=\"dataframe\">\n",
       "  <thead>\n",
       "    <tr style=\"text-align: right;\">\n",
       "      <th></th>\n",
       "      <th>bhs</th>\n",
       "      <th>model selection</th>\n",
       "      <th>fixed stacking weights</th>\n",
       "    </tr>\n",
       "  </thead>\n",
       "  <tbody>\n",
       "    <tr>\n",
       "      <th>count</th>\n",
       "      <td>1500.000000</td>\n",
       "      <td>1500.000000</td>\n",
       "      <td>1500.000000</td>\n",
       "    </tr>\n",
       "    <tr>\n",
       "      <th>mean</th>\n",
       "      <td>-0.673136</td>\n",
       "      <td>-0.720829</td>\n",
       "      <td>-0.720863</td>\n",
       "    </tr>\n",
       "    <tr>\n",
       "      <th>std</th>\n",
       "      <td>0.481563</td>\n",
       "      <td>0.639492</td>\n",
       "      <td>0.636385</td>\n",
       "    </tr>\n",
       "    <tr>\n",
       "      <th>min</th>\n",
       "      <td>-2.391262</td>\n",
       "      <td>-3.336544</td>\n",
       "      <td>-3.137605</td>\n",
       "    </tr>\n",
       "    <tr>\n",
       "      <th>25%</th>\n",
       "      <td>-0.930911</td>\n",
       "      <td>-1.056551</td>\n",
       "      <td>-1.058814</td>\n",
       "    </tr>\n",
       "    <tr>\n",
       "      <th>50%</th>\n",
       "      <td>-0.530677</td>\n",
       "      <td>-0.492359</td>\n",
       "      <td>-0.488751</td>\n",
       "    </tr>\n",
       "    <tr>\n",
       "      <th>75%</th>\n",
       "      <td>-0.309170</td>\n",
       "      <td>-0.234249</td>\n",
       "      <td>-0.237065</td>\n",
       "    </tr>\n",
       "    <tr>\n",
       "      <th>max</th>\n",
       "      <td>-0.078845</td>\n",
       "      <td>-0.018073</td>\n",
       "      <td>-0.022431</td>\n",
       "    </tr>\n",
       "  </tbody>\n",
       "</table>\n",
       "</div>"
      ],
      "text/plain": [
       "               bhs  model selection  fixed stacking weights\n",
       "count  1500.000000      1500.000000             1500.000000\n",
       "mean     -0.673136        -0.720829               -0.720863\n",
       "std       0.481563         0.639492                0.636385\n",
       "min      -2.391262        -3.336544               -3.137605\n",
       "25%      -0.930911        -1.056551               -1.058814\n",
       "50%      -0.530677        -0.492359               -0.488751\n",
       "75%      -0.309170        -0.234249               -0.237065\n",
       "max      -0.078845        -0.018073               -0.022431"
      ]
     },
     "execution_count": 24,
     "metadata": {},
     "output_type": "execute_result"
    }
   ],
   "source": [
    "logpms.describe()"
   ]
  },
  {
   "cell_type": "markdown",
   "id": "dc7517ce",
   "metadata": {
    "papermill": {
     "duration": 0.066707,
     "end_time": "2021-09-18T11:11:01.178051",
     "exception": false,
     "start_time": "2021-09-18T11:11:01.111344",
     "status": "completed"
    },
    "tags": []
   },
   "source": [
    "So, in this dataset, with this particular train-test split, Bayesian Hierarchical Stacking does indeed bring a small gain compared with model selection and compared with fixed-weight stacking.\n",
    "\n",
    "### Does this prove that Bayesian Hierarchical Stacking works?\n",
    "\n",
    "No, a single train-test split doesn't prove anything. Check the original paper for results with varying training set sizes, repeated with different train-test splits, in which they show that Bayesian Hierarchical Stacking consistently outperforms model selection and fixed-weight stacking.\n",
    "\n",
    "The goal of this notebook was just to show how to implement this technique in PyMC3."
   ]
  },
  {
   "cell_type": "markdown",
   "id": "29cf8140",
   "metadata": {
    "papermill": {
     "duration": 0.066367,
     "end_time": "2021-09-18T11:11:01.310721",
     "exception": false,
     "start_time": "2021-09-18T11:11:01.244354",
     "status": "completed"
    },
    "tags": []
   },
   "source": [
    "## Conclusion\n",
    "\n",
    "We've seen how Bayesian Hierarchical Stacking can help us average models with input-dependent weights, in a manner which doesn't overfit. We only implemented the first case study from the paper, but readers are encouraged to check out the other two as well. Also check the paper for theoretical results and results from more experiments.\n",
    "\n",
    "## References\n",
    "\n",
    ":::{bibliography}\n",
    ":filter: docname in docnames\n",
    "\n",
    "yaopirsvehtarigelman2021bhs\n",
    "pmlr-v108-magnusson20a\n",
    ":::"
   ]
  },
  {
   "cell_type": "code",
   "execution_count": 25,
   "id": "2fe1d1f3",
   "metadata": {
    "papermill": {
     "duration": 0.139223,
     "end_time": "2021-09-18T11:11:01.515795",
     "exception": false,
     "start_time": "2021-09-18T11:11:01.376572",
     "status": "completed"
    },
    "tags": []
   },
   "outputs": [
    {
     "name": "stdout",
     "output_type": "stream",
     "text": [
      "Last updated: Sun Sep 19 2021\n",
      "\n",
      "Python implementation: CPython\n",
      "Python version       : 3.8.10\n",
      "IPython version      : 7.26.0\n",
      "\n",
      "aesara: 2.1.3\n",
      "xarray: 0.19.0\n",
      "\n",
      "aesara    : 2.1.3\n",
      "arviz     : 0.11.2\n",
      "matplotlib: 3.4.3\n",
      "numpy     : 1.21.1\n",
      "seaborn   : 0.11.2\n",
      "scipy     : 1.7.1\n",
      "pandas    : 1.3.1\n",
      "pymc3     : 4.0\n",
      "\n",
      "Watermark: 2.2.0\n",
      "\n"
     ]
    }
   ],
   "source": [
    "%load_ext watermark\n",
    "%watermark -n -u -v -iv -w -p aesara,xarray"
   ]
  },
  {
   "cell_type": "code",
   "execution_count": null,
   "id": "32694722",
   "metadata": {
    "papermill": {
     "duration": 0.068268,
     "end_time": "2021-09-18T11:11:03.218672",
     "exception": false,
     "start_time": "2021-09-18T11:11:03.150404",
     "status": "completed"
    },
    "tags": []
   },
   "outputs": [],
   "source": []
  }
 ],
 "metadata": {
  "kernelspec": {
   "display_name": "pymc3-dev-py38",
   "language": "python",
   "name": "pymc3-dev-py38"
  },
  "language_info": {
   "codemirror_mode": {
    "name": "ipython",
    "version": 3
   },
   "file_extension": ".py",
   "mimetype": "text/x-python",
   "name": "python",
   "nbconvert_exporter": "python",
   "pygments_lexer": "ipython3",
   "version": "3.8.10"
  },
  "papermill": {
   "default_parameters": {},
   "duration": 1224.415684,
   "end_time": "2021-09-18T11:11:05.150406",
   "environment_variables": {},
   "exception": null,
   "input_path": "__notebook__.ipynb",
   "output_path": "__notebook__.ipynb",
   "parameters": {},
   "start_time": "2021-09-18T10:50:40.734722",
   "version": "2.3.3"
  }
 },
 "nbformat": 4,
 "nbformat_minor": 5
}
