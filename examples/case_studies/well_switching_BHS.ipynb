{
 "cells": [
  {
   "cell_type": "code",
   "execution_count": 13,
   "metadata": {},
   "outputs": [],
   "source": [
    "import os\n",
    "\n",
    "import aesara\n",
    "import arviz as az\n",
    "import matplotlib.pyplot as plt\n",
    "import numpy as np\n",
    "import pandas as pd\n",
    "import pymc3 as pm\n",
    "import scipy\n",
    "import scipy.stats as stats\n",
    "\n",
    "from aesara.tensor.nnet.basic import softmax\n",
    "from scipy.interpolate import BSpline"
   ]
  },
  {
   "cell_type": "markdown",
   "metadata": {},
   "source": [
    "## 1. Load data, split into train and test sets"
   ]
  },
  {
   "cell_type": "code",
   "execution_count": 2,
   "metadata": {},
   "outputs": [],
   "source": [
    "try:\n",
    "    wells = pd.read_csv(os.path.join(\"..\", \"data\", \"wells.csv\"))\n",
    "except:\n",
    "    wells = pd.read_csv(pm.get_data(\"wells.csv\"))"
   ]
  },
  {
   "cell_type": "code",
   "execution_count": 3,
   "metadata": {},
   "outputs": [],
   "source": [
    "np.random.seed(1)\n",
    "train_id = wells.sample(n=2000).index\n",
    "test_id = wells.index[~wells.index.isin(train_id)]\n",
    "y_train = wells.loc[train_id, \"switch\"].to_numpy()\n",
    "y_test = wells.loc[test_id, \"switch\"].to_numpy()"
   ]
  },
  {
   "cell_type": "markdown",
   "metadata": {},
   "source": [
    "## 2. Feature engineering"
   ]
  },
  {
   "cell_type": "code",
   "execution_count": 4,
   "metadata": {},
   "outputs": [],
   "source": [
    "def bs(x, knots, degree):\n",
    "    \"\"\"Replicates bs from splines package in R.\"\"\"\n",
    "    padded_knots = np.hstack([[x.min()] * (degree + 1), knots, [x.max()] * (degree + 1)])\n",
    "    return pd.DataFrame(\n",
    "        BSpline(padded_knots, np.eye(len(padded_knots) - degree - 1), degree)(x)[:, 1:],\n",
    "        index=x.index,\n",
    "    )\n",
    "\n",
    "\n",
    "knots = np.quantile(wells.loc[train_id, \"logarsenic\"], np.linspace(0.1, 0.9, num=10))\n",
    "B1 = bs(wells[\"logarsenic\"], knots=knots, degree=3)\n",
    "knots = np.quantile(wells.loc[train_id, \"logarsenic\"], np.linspace(0.05, 0.95, num=10))\n",
    "B2 = bs(wells[\"logarsenic\"], knots=knots, degree=3)\n",
    "knots = np.quantile(wells.loc[train_id, \"dist100\"], np.linspace(0.1, 0.9, num=10))\n",
    "B3 = bs(wells[\"dist100\"], knots=knots, degree=3)"
   ]
  },
  {
   "cell_type": "code",
   "execution_count": 5,
   "metadata": {},
   "outputs": [],
   "source": [
    "wells[\"intercept\"] = 1\n",
    "X = wells.loc[\n",
    "    train_id,\n",
    "    [\"intercept\", \"dist100\", \"arsenic\", \"assoc\", \"edu1\", \"edu2\", \"edu3\"],\n",
    "].to_numpy()\n",
    "X2 = wells.loc[\n",
    "    train_id,\n",
    "    [\"intercept\", \"dist100\", \"logarsenic\", \"assoc\", \"edu1\", \"edu2\", \"edu3\"],\n",
    "].to_numpy()\n",
    "X3 = wells.loc[\n",
    "    train_id,\n",
    "    [\n",
    "        \"intercept\",\n",
    "        \"dist100\",\n",
    "        \"arsenic\",\n",
    "        \"asthird\",\n",
    "        \"asSquare\",\n",
    "        \"assoc\",\n",
    "        \"edu1\",\n",
    "        \"edu2\",\n",
    "        \"edu3\",\n",
    "    ],\n",
    "].to_numpy()\n",
    "X4 = pd.concat(\n",
    "    [\n",
    "        wells.loc[\n",
    "            train_id,\n",
    "            [\"intercept\", \"dist100\", \"assoc\", \"edu1\", \"edu2\", \"edu3\"],\n",
    "        ],\n",
    "        B1.loc[train_id],\n",
    "    ],\n",
    "    axis=1,\n",
    ").to_numpy()\n",
    "X5 = pd.concat(\n",
    "    [\n",
    "        wells.loc[\n",
    "            train_id,\n",
    "            [\"intercept\", \"logarsenic\", \"assoc\", \"edu1\", \"edu2\", \"edu3\"],\n",
    "        ],\n",
    "        B3.loc[train_id],\n",
    "    ],\n",
    "    axis=1,\n",
    ").to_numpy()\n",
    "X6 = wells.loc[train_id, [\"intercept\", \"dist100\", \"logarsenic\", \"assoc\", \"educ\"]].to_numpy()\n",
    "\n",
    "X_test = wells.loc[\n",
    "    test_id,\n",
    "    [\"intercept\", \"dist100\", \"arsenic\", \"assoc\", \"edu1\", \"edu2\", \"edu3\"],\n",
    "].to_numpy()\n",
    "X2_test = wells.loc[\n",
    "    test_id,\n",
    "    [\"intercept\", \"dist100\", \"logarsenic\", \"assoc\", \"edu1\", \"edu2\", \"edu3\"],\n",
    "].to_numpy()\n",
    "X3_test = wells.loc[\n",
    "    test_id,\n",
    "    [\n",
    "        \"intercept\",\n",
    "        \"dist100\",\n",
    "        \"arsenic\",\n",
    "        \"asthird\",\n",
    "        \"asSquare\",\n",
    "        \"assoc\",\n",
    "        \"edu1\",\n",
    "        \"edu2\",\n",
    "        \"edu3\",\n",
    "    ],\n",
    "].to_numpy()\n",
    "X4_test = pd.concat(\n",
    "    [\n",
    "        wells.loc[\n",
    "            test_id,\n",
    "            [\"intercept\", \"dist100\", \"assoc\", \"edu1\", \"edu2\", \"edu3\"],\n",
    "        ],\n",
    "        B1.loc[test_id],\n",
    "    ],\n",
    "    axis=1,\n",
    ").to_numpy()\n",
    "X5_test = pd.concat(\n",
    "    [\n",
    "        wells.loc[\n",
    "            test_id,\n",
    "            [\"intercept\", \"logarsenic\", \"assoc\", \"edu1\", \"edu2\", \"edu3\"],\n",
    "        ],\n",
    "        B3.loc[test_id],\n",
    "    ],\n",
    "    axis=1,\n",
    ").to_numpy()\n",
    "X6_test = wells.loc[test_id, [\"intercept\", \"dist100\", \"logarsenic\", \"assoc\", \"educ\"]].to_numpy()"
   ]
  },
  {
   "cell_type": "code",
   "execution_count": 6,
   "metadata": {},
   "outputs": [],
   "source": [
    "train_x_list = [X, X2, X3, X4, X5, X6]\n",
    "train_x_test_list = [X_test, X2_test, X3_test, X4_test, X5_test, X6_test]\n",
    "K = len(train_x_list)"
   ]
  },
  {
   "cell_type": "markdown",
   "metadata": {},
   "source": [
    "## 3. Train six different models"
   ]
  },
  {
   "cell_type": "code",
   "execution_count": 9,
   "metadata": {},
   "outputs": [],
   "source": [
    "def logistic(X_train, y_train):\n",
    "    coords = {\"features\": np.arange(X_train.shape[1])}\n",
    "    with pm.Model(check_bounds=False, coords=coords) as model:\n",
    "        beta = pm.Normal(\n",
    "            \"beta\",\n",
    "            mu=0,\n",
    "            sigma=3,\n",
    "            dims=\"features\",\n",
    "        )\n",
    "        X = pm.Data(\"X\", X_train)\n",
    "\n",
    "        probs = pm.Deterministic(\"probs\", pm.math.invlogit(pm.math.matrix_dot(X_train, beta)))\n",
    "\n",
    "        pm.Bernoulli(\"obs\", p=probs, observed=y_train)\n",
    "\n",
    "    return model"
   ]
  },
  {
   "cell_type": "code",
   "execution_count": 10,
   "metadata": {},
   "outputs": [
    {
     "name": "stderr",
     "output_type": "stream",
     "text": [
      "Auto-assigning NUTS sampler...\n",
      "Initializing NUTS using jitter+adapt_diag...\n",
      "Multiprocess sampling (4 chains in 4 jobs)\n",
      "NUTS: [beta]\n"
     ]
    },
    {
     "data": {
      "text/html": [
       "\n",
       "    <div>\n",
       "        <style>\n",
       "            /* Turns off some styling */\n",
       "            progress {\n",
       "                /* gets rid of default border in Firefox and Opera. */\n",
       "                border: none;\n",
       "                /* Needs to be in here for Safari polyfill so background images work as expected. */\n",
       "                background-size: auto;\n",
       "            }\n",
       "            .progress-bar-interrupted, .progress-bar-interrupted::-webkit-progress-bar {\n",
       "                background: #F44336;\n",
       "            }\n",
       "        </style>\n",
       "      <progress value='8000' class='' max='8000' style='width:300px; height:20px; vertical-align: middle;'></progress>\n",
       "      100.00% [8000/8000 00:05<00:00 Sampling 4 chains, 0 divergences]\n",
       "    </div>\n",
       "    "
      ],
      "text/plain": [
       "<IPython.core.display.HTML object>"
      ]
     },
     "metadata": {},
     "output_type": "display_data"
    },
    {
     "name": "stderr",
     "output_type": "stream",
     "text": [
      "Sampling 4 chains for 1_000 tune and 1_000 draw iterations (4_000 + 4_000 draws total) took 6 seconds.\n",
      "Auto-assigning NUTS sampler...\n",
      "Initializing NUTS using jitter+adapt_diag...\n",
      "Multiprocess sampling (4 chains in 4 jobs)\n",
      "NUTS: [beta]\n"
     ]
    },
    {
     "data": {
      "text/html": [
       "\n",
       "    <div>\n",
       "        <style>\n",
       "            /* Turns off some styling */\n",
       "            progress {\n",
       "                /* gets rid of default border in Firefox and Opera. */\n",
       "                border: none;\n",
       "                /* Needs to be in here for Safari polyfill so background images work as expected. */\n",
       "                background-size: auto;\n",
       "            }\n",
       "            .progress-bar-interrupted, .progress-bar-interrupted::-webkit-progress-bar {\n",
       "                background: #F44336;\n",
       "            }\n",
       "        </style>\n",
       "      <progress value='8000' class='' max='8000' style='width:300px; height:20px; vertical-align: middle;'></progress>\n",
       "      100.00% [8000/8000 00:05<00:00 Sampling 4 chains, 0 divergences]\n",
       "    </div>\n",
       "    "
      ],
      "text/plain": [
       "<IPython.core.display.HTML object>"
      ]
     },
     "metadata": {},
     "output_type": "display_data"
    },
    {
     "name": "stderr",
     "output_type": "stream",
     "text": [
      "Sampling 4 chains for 1_000 tune and 1_000 draw iterations (4_000 + 4_000 draws total) took 6 seconds.\n",
      "Auto-assigning NUTS sampler...\n",
      "Initializing NUTS using jitter+adapt_diag...\n",
      "Multiprocess sampling (4 chains in 4 jobs)\n",
      "NUTS: [beta]\n"
     ]
    },
    {
     "data": {
      "text/html": [
       "\n",
       "    <div>\n",
       "        <style>\n",
       "            /* Turns off some styling */\n",
       "            progress {\n",
       "                /* gets rid of default border in Firefox and Opera. */\n",
       "                border: none;\n",
       "                /* Needs to be in here for Safari polyfill so background images work as expected. */\n",
       "                background-size: auto;\n",
       "            }\n",
       "            .progress-bar-interrupted, .progress-bar-interrupted::-webkit-progress-bar {\n",
       "                background: #F44336;\n",
       "            }\n",
       "        </style>\n",
       "      <progress value='8000' class='' max='8000' style='width:300px; height:20px; vertical-align: middle;'></progress>\n",
       "      100.00% [8000/8000 00:12<00:00 Sampling 4 chains, 0 divergences]\n",
       "    </div>\n",
       "    "
      ],
      "text/plain": [
       "<IPython.core.display.HTML object>"
      ]
     },
     "metadata": {},
     "output_type": "display_data"
    },
    {
     "name": "stderr",
     "output_type": "stream",
     "text": [
      "Sampling 4 chains for 1_000 tune and 1_000 draw iterations (4_000 + 4_000 draws total) took 12 seconds.\n",
      "Auto-assigning NUTS sampler...\n",
      "Initializing NUTS using jitter+adapt_diag...\n",
      "Multiprocess sampling (4 chains in 4 jobs)\n",
      "NUTS: [beta]\n"
     ]
    },
    {
     "data": {
      "text/html": [
       "\n",
       "    <div>\n",
       "        <style>\n",
       "            /* Turns off some styling */\n",
       "            progress {\n",
       "                /* gets rid of default border in Firefox and Opera. */\n",
       "                border: none;\n",
       "                /* Needs to be in here for Safari polyfill so background images work as expected. */\n",
       "                background-size: auto;\n",
       "            }\n",
       "            .progress-bar-interrupted, .progress-bar-interrupted::-webkit-progress-bar {\n",
       "                background: #F44336;\n",
       "            }\n",
       "        </style>\n",
       "      <progress value='8000' class='' max='8000' style='width:300px; height:20px; vertical-align: middle;'></progress>\n",
       "      100.00% [8000/8000 01:14<00:00 Sampling 4 chains, 0 divergences]\n",
       "    </div>\n",
       "    "
      ],
      "text/plain": [
       "<IPython.core.display.HTML object>"
      ]
     },
     "metadata": {},
     "output_type": "display_data"
    },
    {
     "name": "stderr",
     "output_type": "stream",
     "text": [
      "Sampling 4 chains for 1_000 tune and 1_000 draw iterations (4_000 + 4_000 draws total) took 74 seconds.\n",
      "The number of effective samples is smaller than 25% for some parameters.\n",
      "Auto-assigning NUTS sampler...\n",
      "Initializing NUTS using jitter+adapt_diag...\n",
      "Multiprocess sampling (4 chains in 4 jobs)\n",
      "NUTS: [beta]\n"
     ]
    },
    {
     "data": {
      "text/html": [
       "\n",
       "    <div>\n",
       "        <style>\n",
       "            /* Turns off some styling */\n",
       "            progress {\n",
       "                /* gets rid of default border in Firefox and Opera. */\n",
       "                border: none;\n",
       "                /* Needs to be in here for Safari polyfill so background images work as expected. */\n",
       "                background-size: auto;\n",
       "            }\n",
       "            .progress-bar-interrupted, .progress-bar-interrupted::-webkit-progress-bar {\n",
       "                background: #F44336;\n",
       "            }\n",
       "        </style>\n",
       "      <progress value='8000' class='' max='8000' style='width:300px; height:20px; vertical-align: middle;'></progress>\n",
       "      100.00% [8000/8000 01:27<00:00 Sampling 4 chains, 0 divergences]\n",
       "    </div>\n",
       "    "
      ],
      "text/plain": [
       "<IPython.core.display.HTML object>"
      ]
     },
     "metadata": {},
     "output_type": "display_data"
    },
    {
     "name": "stderr",
     "output_type": "stream",
     "text": [
      "Sampling 4 chains for 1_000 tune and 1_000 draw iterations (4_000 + 4_000 draws total) took 88 seconds.\n",
      "The number of effective samples is smaller than 25% for some parameters.\n",
      "Auto-assigning NUTS sampler...\n",
      "Initializing NUTS using jitter+adapt_diag...\n",
      "Multiprocess sampling (4 chains in 4 jobs)\n",
      "NUTS: [beta]\n"
     ]
    },
    {
     "data": {
      "text/html": [
       "\n",
       "    <div>\n",
       "        <style>\n",
       "            /* Turns off some styling */\n",
       "            progress {\n",
       "                /* gets rid of default border in Firefox and Opera. */\n",
       "                border: none;\n",
       "                /* Needs to be in here for Safari polyfill so background images work as expected. */\n",
       "                background-size: auto;\n",
       "            }\n",
       "            .progress-bar-interrupted, .progress-bar-interrupted::-webkit-progress-bar {\n",
       "                background: #F44336;\n",
       "            }\n",
       "        </style>\n",
       "      <progress value='8000' class='' max='8000' style='width:300px; height:20px; vertical-align: middle;'></progress>\n",
       "      100.00% [8000/8000 00:06<00:00 Sampling 4 chains, 0 divergences]\n",
       "    </div>\n",
       "    "
      ],
      "text/plain": [
       "<IPython.core.display.HTML object>"
      ]
     },
     "metadata": {},
     "output_type": "display_data"
    },
    {
     "name": "stderr",
     "output_type": "stream",
     "text": [
      "Sampling 4 chains for 1_000 tune and 1_000 draw iterations (4_000 + 4_000 draws total) took 7 seconds.\n"
     ]
    }
   ],
   "source": [
    "fit_list = []\n",
    "for k in range(K):\n",
    "    model = logistic(train_x_list[k], y_train)\n",
    "    with model:\n",
    "        idata = pm.sample(draws=1000, tune=1000, return_inferencedata=True)\n",
    "    fit_list.append(idata)"
   ]
  },
  {
   "cell_type": "markdown",
   "metadata": {},
   "source": [
    "## 4. Get estimates of leave-one-out cross-validated score for each training point"
   ]
  },
  {
   "cell_type": "code",
   "execution_count": 14,
   "metadata": {},
   "outputs": [
    {
     "name": "stderr",
     "output_type": "stream",
     "text": [
      "/home/marco/miniconda3/envs/pymc3-dev-py38/lib/python3.8/site-packages/arviz/stats/stats.py:655: UserWarning: Estimated shape parameter of Pareto distribution is greater than 0.7 for one or more samples. You should consider using a more robust model, this is because importance sampling is less likely to work well if the marginal posterior and LOO posterior are very different. This is more likely to happen with a non-robust model and highly influential observations.\n",
      "  warnings.warn(\n"
     ]
    },
    {
     "data": {
      "text/plain": [
       "(2000, 6)"
      ]
     },
     "execution_count": 14,
     "metadata": {},
     "output_type": "execute_result"
    }
   ],
   "source": [
    "def find_point_wise_loo_score(fit):\n",
    "    return az.loo(fit, pointwise=True, scale=\"log\").loo_i.values\n",
    "\n",
    "\n",
    "lpd_point = np.vstack([find_point_wise_loo_score(fit) for fit in fit_list]).T\n",
    "\n",
    "lpd_point.shape"
   ]
  },
  {
   "cell_type": "code",
   "execution_count": 15,
   "metadata": {},
   "outputs": [],
   "source": [
    "dist100_median = wells.loc[wells.index[train_id], \"dist100\"].median()\n",
    "logarsenic_median = wells.loc[wells.index[train_id], \"logarsenic\"].median()\n",
    "wells[\"dist100_l\"] = (wells[\"dist100\"] - dist100_median).clip(upper=0)\n",
    "wells[\"dist100_r\"] = (wells[\"dist100\"] - dist100_median).clip(lower=0)\n",
    "wells[\"logarsenic_l\"] = (wells[\"logarsenic\"] - logarsenic_median).clip(upper=0)\n",
    "wells[\"logarsenic_r\"] = (wells[\"logarsenic\"] - logarsenic_median).clip(lower=0)\n",
    "\n",
    "X_stacking_train = wells.loc[\n",
    "    train_id,\n",
    "    [\n",
    "        \"edu0\",\n",
    "        \"edu1\",\n",
    "        \"edu2\",\n",
    "        \"edu3\",\n",
    "        \"assoc_half\",\n",
    "        \"dist100_l\",\n",
    "        \"dist100_r\",\n",
    "        \"logarsenic_l\",\n",
    "        \"logarsenic_r\",\n",
    "    ],\n",
    "].to_numpy()\n",
    "X_stacking_test = wells.loc[\n",
    "    test_id,\n",
    "    [\n",
    "        \"edu0\",\n",
    "        \"edu1\",\n",
    "        \"edu2\",\n",
    "        \"edu3\",\n",
    "        \"assoc_half\",\n",
    "        \"dist100_l\",\n",
    "        \"dist100_r\",\n",
    "        \"logarsenic_l\",\n",
    "        \"logarsenic_r\",\n",
    "    ],\n",
    "].to_numpy()"
   ]
  },
  {
   "cell_type": "markdown",
   "metadata": {},
   "source": [
    "## 6. Define stacking model"
   ]
  },
  {
   "cell_type": "code",
   "execution_count": 16,
   "metadata": {},
   "outputs": [],
   "source": [
    "def stacking(\n",
    "    X,\n",
    "    N,\n",
    "    d,\n",
    "    d_discrete,\n",
    "    X_test,\n",
    "    N_test,\n",
    "    lpd_point,\n",
    "    K,\n",
    "    tau_mu,\n",
    "    tau_sigma,\n",
    "):\n",
    "    coords = {\n",
    "        \"continuous_features\": np.arange(d - d_discrete),\n",
    "        \"discrete_features\": np.arange(d_discrete),\n",
    "        \"features\": np.arange(d),\n",
    "        \"models\": np.arange(K),\n",
    "        \"models_minus_1\": np.arange(K - 1),\n",
    "    }\n",
    "    with pm.Model(check_bounds=False, coords=coords) as model:\n",
    "        exp_lpd_point = pm.math.exp(lpd_point)\n",
    "\n",
    "        beta_con = pm.Normal(\n",
    "            \"beta_con\", mu=0, sigma=1, dims=(\"models_minus_1\", \"continuous_features\")\n",
    "        )\n",
    "        tau = pm.Normal(\n",
    "            \"tau\",\n",
    "            mu=0,\n",
    "            sigma=1,\n",
    "            dims=(\"models_minus_1\", \"discrete_features\"),\n",
    "        )\n",
    "\n",
    "        mu = pm.Normal(\n",
    "            \"mu\",\n",
    "            mu=0,\n",
    "            sigma=tau_mu,\n",
    "            dims=\"models_minus_1\",\n",
    "        )\n",
    "        sigma = pm.HalfNormal(\n",
    "            \"sigma\",\n",
    "            sigma=tau_sigma,\n",
    "            dims=\"models_minus_1\",\n",
    "        )\n",
    "\n",
    "        beta = pm.Deterministic(\n",
    "            \"beta\",\n",
    "            pm.math.stack(\n",
    "                [\n",
    "                    pm.math.concatenate([mu[k] + sigma[k] * tau[k], beta_con[k]])\n",
    "                    for k in range(K - 1)\n",
    "                ],\n",
    "            ),\n",
    "        )\n",
    "\n",
    "        f = pm.Deterministic(\n",
    "            \"f\",\n",
    "            pm.math.concatenate(\n",
    "                [\n",
    "                    pm.math.stack(\n",
    "                        [pm.math.matrix_dot(X, beta[k]) for k in range(K - 1)],\n",
    "                        axis=1,\n",
    "                    ),\n",
    "                    aesara.tensor.zeros((N, 1)),\n",
    "                ],\n",
    "                axis=1,\n",
    "            ),\n",
    "        )\n",
    "        w = pm.Deterministic(\"w\", softmax(f))\n",
    "\n",
    "        logp = pm.math.log((exp_lpd_point * w).sum(axis=1))\n",
    "\n",
    "        pm.Potential(\"logp\", pm.math.sum(logp))\n",
    "\n",
    "        f_test = pm.Deterministic(\n",
    "            \"f_test\",\n",
    "            pm.math.concatenate(\n",
    "                [\n",
    "                    pm.math.stack(\n",
    "                        [pm.math.matrix_dot(X_test, beta[k]) for k in range(K - 1)],\n",
    "                        axis=1,\n",
    "                    ),\n",
    "                    aesara.tensor.zeros((N_test, 1)),\n",
    "                ],\n",
    "                axis=1,\n",
    "            ),\n",
    "        )\n",
    "\n",
    "    return model"
   ]
  },
  {
   "cell_type": "code",
   "execution_count": 17,
   "metadata": {},
   "outputs": [
    {
     "name": "stderr",
     "output_type": "stream",
     "text": [
      "Auto-assigning NUTS sampler...\n",
      "Initializing NUTS using jitter+adapt_diag...\n",
      "Multiprocess sampling (4 chains in 4 jobs)\n",
      "NUTS: [beta_con, tau, mu, sigma]\n"
     ]
    },
    {
     "data": {
      "text/html": [
       "\n",
       "    <div>\n",
       "        <style>\n",
       "            /* Turns off some styling */\n",
       "            progress {\n",
       "                /* gets rid of default border in Firefox and Opera. */\n",
       "                border: none;\n",
       "                /* Needs to be in here for Safari polyfill so background images work as expected. */\n",
       "                background-size: auto;\n",
       "            }\n",
       "            .progress-bar-interrupted, .progress-bar-interrupted::-webkit-progress-bar {\n",
       "                background: #F44336;\n",
       "            }\n",
       "        </style>\n",
       "      <progress value='8000' class='' max='8000' style='width:300px; height:20px; vertical-align: middle;'></progress>\n",
       "      100.00% [8000/8000 00:17<00:00 Sampling 4 chains, 0 divergences]\n",
       "    </div>\n",
       "    "
      ],
      "text/plain": [
       "<IPython.core.display.HTML object>"
      ]
     },
     "metadata": {},
     "output_type": "display_data"
    },
    {
     "name": "stderr",
     "output_type": "stream",
     "text": [
      "Sampling 4 chains for 1_000 tune and 1_000 draw iterations (4_000 + 4_000 draws total) took 18 seconds.\n"
     ]
    }
   ],
   "source": [
    "model = stacking(\n",
    "    X=X_stacking_train,\n",
    "    N=X_stacking_train.shape[0],\n",
    "    d=X_stacking_train.shape[1],\n",
    "    d_discrete=4,\n",
    "    X_test=X_stacking_test,\n",
    "    N_test=X_stacking_test.shape[0],\n",
    "    lpd_point=lpd_point,\n",
    "    K=lpd_point.shape[1],\n",
    "    tau_mu=1.0,\n",
    "    tau_sigma=0.5,\n",
    ")\n",
    "with model:\n",
    "    idata = pm.sample(draws=1000, tune=1000, return_inferencedata=True, target_accept=0.9)"
   ]
  },
  {
   "cell_type": "code",
   "execution_count": 18,
   "metadata": {},
   "outputs": [],
   "source": [
    "w_test = scipy.special.softmax(idata.posterior.f_test.stack(sample=(\"chain\", \"draw\")), axis=1).mean(\n",
    "    dim=\"sample\"\n",
    ")"
   ]
  },
  {
   "cell_type": "markdown",
   "metadata": {},
   "source": [
    "## 8. Make predictions"
   ]
  },
  {
   "cell_type": "code",
   "execution_count": 19,
   "metadata": {},
   "outputs": [],
   "source": [
    "train_preds = []\n",
    "for k in range(K):\n",
    "    train_pred = scipy.special.expit(\n",
    "        np.matmul(\n",
    "            train_x_list[k], fit_list[k].posterior.beta.stack(samples=(\"chain\", \"draw\")).values\n",
    "        )\n",
    "    )\n",
    "    train_preds.append(train_pred.mean(axis=1))\n",
    "train_preds = np.vstack(train_preds).T"
   ]
  },
  {
   "cell_type": "code",
   "execution_count": 20,
   "metadata": {},
   "outputs": [],
   "source": [
    "preds = []\n",
    "for k in range(K):\n",
    "    post_pred = scipy.special.expit(\n",
    "        np.matmul(\n",
    "            train_x_test_list[k], fit_list[k].posterior.beta.stack(samples=(\"chain\", \"draw\")).values\n",
    "        )\n",
    "    )\n",
    "    preds.append(post_pred.mean(axis=1))\n",
    "preds = np.vstack(preds).T"
   ]
  },
  {
   "cell_type": "code",
   "execution_count": 21,
   "metadata": {},
   "outputs": [],
   "source": [
    "pooled_predictions = (w_test * preds).sum(axis=1)"
   ]
  },
  {
   "cell_type": "code",
   "execution_count": 22,
   "metadata": {},
   "outputs": [
    {
     "data": {
      "text/plain": [
       "(1020,)"
      ]
     },
     "execution_count": 22,
     "metadata": {},
     "output_type": "execute_result"
    }
   ],
   "source": [
    "pooled_predictions.shape"
   ]
  },
  {
   "cell_type": "markdown",
   "metadata": {},
   "source": [
    "## 9. Predict on test set"
   ]
  },
  {
   "cell_type": "markdown",
   "metadata": {},
   "source": [
    "## use hierarchical stacking"
   ]
  },
  {
   "cell_type": "code",
   "execution_count": 23,
   "metadata": {},
   "outputs": [
    {
     "data": {
      "text/plain": [
       "-0.6481014338818963"
      ]
     },
     "execution_count": 23,
     "metadata": {},
     "output_type": "execute_result"
    }
   ],
   "source": [
    "stats.bernoulli(p=pooled_predictions).logpmf(y_test).mean()"
   ]
  },
  {
   "cell_type": "markdown",
   "metadata": {},
   "source": [
    "## using model with best lpd (model selection)"
   ]
  },
  {
   "cell_type": "code",
   "execution_count": 24,
   "metadata": {},
   "outputs": [
    {
     "data": {
      "text/plain": [
       "-0.6514381304301404"
      ]
     },
     "execution_count": 24,
     "metadata": {},
     "output_type": "execute_result"
    }
   ],
   "source": [
    "stats.bernoulli(p=preds[:, lpd_point.sum(axis=0).argmax()]).logpmf(y_test).mean()"
   ]
  },
  {
   "cell_type": "markdown",
   "metadata": {},
   "source": [
    "## weight according to LOO score"
   ]
  },
  {
   "cell_type": "code",
   "execution_count": 25,
   "metadata": {},
   "outputs": [
    {
     "data": {
      "text/plain": [
       "-0.650505494921021"
      ]
     },
     "execution_count": 25,
     "metadata": {},
     "output_type": "execute_result"
    }
   ],
   "source": [
    "stats.bernoulli(p=(scipy.special.softmax(lpd_point.sum(axis=0)) * preds).sum(axis=1)).logpmf(\n",
    "    y_test\n",
    ").mean()"
   ]
  },
  {
   "cell_type": "code",
   "execution_count": null,
   "metadata": {},
   "outputs": [],
   "source": []
  }
 ],
 "metadata": {
  "kernelspec": {
   "display_name": "pymc3-dev-py38",
   "language": "python",
   "name": "pymc3-dev-py38"
  },
  "language_info": {
   "codemirror_mode": {
    "name": "ipython",
    "version": 3
   },
   "file_extension": ".py",
   "mimetype": "text/x-python",
   "name": "python",
   "nbconvert_exporter": "python",
   "pygments_lexer": "ipython3",
   "version": "3.8.10"
  }
 },
 "nbformat": 4,
 "nbformat_minor": 4
}
