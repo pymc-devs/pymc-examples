{
 "cells": [
  {
   "cell_type": "markdown",
   "metadata": {
    "ExecuteTime": {
     "end_time": "2018-06-18T15:27:28.707896Z",
     "start_time": "2018-06-18T15:27:28.702766Z"
    }
   },
   "source": [
    "# Compound Steps in Sampling\n",
    "This notebook explains how the compound steps work in `pymc.sample` function when sampling multiple random variables. We are going to answer the following questions associated with compound steps:\n",
    "\n",
    "- How do compound steps work?\n",
    "- What happens when PyMC assigns step methods by default?\n",
    "- How to specify the step methods? What is the order to apply the step methods at each iteration? Is there a way to specify the order of the step methods? \n",
    "- What are the issues with mixing discrete and continuous samplers, especially with HMC/NUTS?\n",
    "- What happens to sample statistics that occur in multiple step methods?"
   ]
  },
  {
   "cell_type": "code",
   "execution_count": 1,
   "metadata": {
    "ExecuteTime": {
     "end_time": "2018-07-28T21:53:54.050085Z",
     "start_time": "2018-07-28T21:53:52.045480Z"
    },
    "execution": {
     "iopub.execute_input": "2022-01-09T19:27:05.186598Z",
     "iopub.status.busy": "2022-01-09T19:27:05.185597Z",
     "iopub.status.idle": "2022-01-09T19:27:09.141640Z",
     "shell.execute_reply": "2022-01-09T19:27:09.140637Z"
    }
   },
   "outputs": [],
   "source": [
    "import aesara\n",
    "import arviz as az\n",
    "import numpy as np\n",
    "import pymc as pm\n",
    "import xarray"
   ]
  },
  {
   "cell_type": "code",
   "execution_count": 2,
   "metadata": {
    "execution": {
     "iopub.execute_input": "2022-01-09T19:27:09.147639Z",
     "iopub.status.busy": "2022-01-09T19:27:09.146639Z",
     "iopub.status.idle": "2022-01-09T19:27:09.156640Z",
     "shell.execute_reply": "2022-01-09T19:27:09.156640Z"
    }
   },
   "outputs": [],
   "source": [
    "az.style.use(\"arviz-darkgrid\")"
   ]
  },
  {
   "cell_type": "markdown",
   "metadata": {},
   "source": [
    "## Compound steps"
   ]
  },
  {
   "cell_type": "markdown",
   "metadata": {},
   "source": [
    "When sampling a model with multiple free random variables, compound steps are needed in the `pm.sample` function. When compound steps are involved, the function takes a list of `step` to generate a list of `methods` for different random variables. For example in the following code:\n",
    "```python\n",
    "with pm.Model() as m:\n",
    "    rv1 = ... # random variable 1 (continuous)\n",
    "    rv2 = ... # random variable 2 (continuous)\n",
    "    rv3 = ... # random variable 3 (categorical)\n",
    "    #...\n",
    "    step1 = pm.Metropolis([rv1, rv2])\n",
    "    step2 = pm.CategoricalGibbsMetropolis([rv3])\n",
    "    trace = pm.sample(..., step=[step1, step2])\n",
    "```\n",
    "The compound step now contains a list of `methods`. At each sampling step, it iterates over these methods, taking a `point` as input. In each step a new `point` is proposed as an output, if rejected by the Metropolis-Hastings criteria the original input `point` sticks around as the output."
   ]
  },
  {
   "cell_type": "markdown",
   "metadata": {},
   "source": [
    "## Compound steps by default\n",
    "To conduct Markov chain Monte Carlo (MCMC) sampling to generate posterior samples in PyMC, we specify a step method object that corresponds to a particular MCMC algorithm, such as Metropolis, Slice sampling, or the No-U-Turn Sampler (NUTS). PyMC’s step_methods can be assigned manually, or assigned automatically by PyMC. Auto-assignment is based on the attributes of each variable in the model. In general:\n",
    "\n",
    "- Binary variables will be assigned to BinaryMetropolis\n",
    "- Discrete variables will be assigned to Metropolis\n",
    "- Continuous variables will be assigned to NUTS\n",
    "\n",
    "When we call `pm.sample(return_inferencedata=False)`, `PyMC` assigns the best step method to each of the free random variables. Take the following example"
   ]
  },
  {
   "cell_type": "code",
   "execution_count": 3,
   "metadata": {
    "ExecuteTime": {
     "end_time": "2018-07-28T21:54:23.727052Z",
     "start_time": "2018-07-28T21:53:56.768369Z"
    },
    "execution": {
     "iopub.execute_input": "2022-01-09T19:27:09.164638Z",
     "iopub.status.busy": "2022-01-09T19:27:09.163641Z",
     "iopub.status.idle": "2022-01-09T19:28:11.250420Z",
     "shell.execute_reply": "2022-01-09T19:28:11.248424Z"
    }
   },
   "outputs": [
    {
     "name": "stderr",
     "output_type": "stream",
     "text": [
      "Multiprocess sampling (4 chains in 4 jobs)\n",
      "CompoundStep\n",
      ">NUTS: [p]\n",
      ">BinaryGibbsMetropolis: [ni]\n"
     ]
    },
    {
     "data": {
      "text/html": [
       "\n",
       "    <div>\n",
       "        <style>\n",
       "            /* Turns off some styling */\n",
       "            progress {\n",
       "                /* gets rid of default border in Firefox and Opera. */\n",
       "                border: none;\n",
       "                /* Needs to be in here for Safari polyfill so background images work as expected. */\n",
       "                background-size: auto;\n",
       "            }\n",
       "            .progress-bar-interrupted, .progress-bar-interrupted::-webkit-progress-bar {\n",
       "                background: #F44336;\n",
       "            }\n",
       "        </style>\n",
       "      <progress value='44000' class='' max='44000' style='width:300px; height:20px; vertical-align: middle;'></progress>\n",
       "      100.00% [44000/44000 00:21<00:00 Sampling 4 chains, 0 divergences]\n",
       "    </div>\n",
       "    "
      ],
      "text/plain": [
       "<IPython.core.display.HTML object>"
      ]
     },
     "metadata": {},
     "output_type": "display_data"
    },
    {
     "name": "stderr",
     "output_type": "stream",
     "text": [
      "Sampling 4 chains for 1_000 tune and 10_000 draw iterations (4_000 + 40_000 draws total) took 43 seconds.\n"
     ]
    }
   ],
   "source": [
    "n_ = aesara.shared(np.asarray([10, 15]))\n",
    "with pm.Model() as m:\n",
    "    p = pm.Beta(\"p\", 1.0, 1.0)\n",
    "    ni = pm.Bernoulli(\"ni\", 0.5)\n",
    "    k = pm.Binomial(\"k\", p=p, n=n_[ni], observed=4)\n",
    "    trace = pm.sample(10000)"
   ]
  },
  {
   "cell_type": "markdown",
   "metadata": {},
   "source": [
    "There are two free parameters in the model we would like to sample from, a continuous variable `p_logodds__` and a binary variable `ni`."
   ]
  },
  {
   "cell_type": "code",
   "execution_count": 4,
   "metadata": {
    "ExecuteTime": {
     "end_time": "2018-07-28T21:56:05.311321Z",
     "start_time": "2018-07-28T21:56:05.302743Z"
    },
    "execution": {
     "iopub.execute_input": "2022-01-09T19:28:11.257430Z",
     "iopub.status.busy": "2022-01-09T19:28:11.255422Z",
     "iopub.status.idle": "2022-01-09T19:28:11.263424Z",
     "shell.execute_reply": "2022-01-09T19:28:11.265424Z"
    }
   },
   "outputs": [
    {
     "data": {
      "text/plain": [
       "[p, ni]"
      ]
     },
     "execution_count": 4,
     "metadata": {},
     "output_type": "execute_result"
    }
   ],
   "source": [
    "m.free_RVs"
   ]
  },
  {
   "cell_type": "markdown",
   "metadata": {},
   "source": [
    "When we call `pm.sample(return_inferencedata=False)`, `PyMC` assigns the best step method to each of them. For example, `NUTS` was assigned to `p_logodds__` and `BinaryGibbsMetropolis` was assigned to `ni`."
   ]
  },
  {
   "cell_type": "markdown",
   "metadata": {},
   "source": [
    "## Specify compound steps\n",
    "Auto-assignment can be overridden for any subset of variables by specifying them manually prior to sampling:"
   ]
  },
  {
   "cell_type": "code",
   "execution_count": 5,
   "metadata": {
    "execution": {
     "iopub.execute_input": "2022-01-09T19:28:11.276422Z",
     "iopub.status.busy": "2022-01-09T19:28:11.275418Z",
     "iopub.status.idle": "2022-01-09T19:28:59.314718Z",
     "shell.execute_reply": "2022-01-09T19:28:59.315718Z"
    }
   },
   "outputs": [
    {
     "name": "stderr",
     "output_type": "stream",
     "text": [
      "Multiprocess sampling (4 chains in 4 jobs)\n",
      "CompoundStep\n",
      ">Metropolis: [p]\n",
      ">BinaryMetropolis: [ni]\n"
     ]
    },
    {
     "data": {
      "text/html": [
       "\n",
       "    <div>\n",
       "        <style>\n",
       "            /* Turns off some styling */\n",
       "            progress {\n",
       "                /* gets rid of default border in Firefox and Opera. */\n",
       "                border: none;\n",
       "                /* Needs to be in here for Safari polyfill so background images work as expected. */\n",
       "                background-size: auto;\n",
       "            }\n",
       "            .progress-bar-interrupted, .progress-bar-interrupted::-webkit-progress-bar {\n",
       "                background: #F44336;\n",
       "            }\n",
       "        </style>\n",
       "      <progress value='44000' class='' max='44000' style='width:300px; height:20px; vertical-align: middle;'></progress>\n",
       "      100.00% [44000/44000 00:18<00:00 Sampling 4 chains, 0 divergences]\n",
       "    </div>\n",
       "    "
      ],
      "text/plain": [
       "<IPython.core.display.HTML object>"
      ]
     },
     "metadata": {},
     "output_type": "display_data"
    },
    {
     "name": "stderr",
     "output_type": "stream",
     "text": [
      "Sampling 4 chains for 1_000 tune and 10_000 draw iterations (4_000 + 40_000 draws total) took 38 seconds.\n",
      "The number of effective samples is smaller than 25% for some parameters.\n"
     ]
    }
   ],
   "source": [
    "with m:\n",
    "    step1 = pm.Metropolis([p])\n",
    "    step2 = pm.BinaryMetropolis([ni])\n",
    "    trace = pm.sample(\n",
    "        10000,\n",
    "        step=[step1, step2],\n",
    "        idata_kwargs={\n",
    "            \"dims\": {\"accept\": [\"step\"]},\n",
    "            \"coords\": {\"step\": [\"Metropolis\", \"BinaryMetropolis\"]},\n",
    "        },\n",
    "    )"
   ]
  },
  {
   "cell_type": "code",
   "execution_count": 6,
   "metadata": {
    "ExecuteTime": {
     "end_time": "2018-07-28T21:56:09.259368Z",
     "start_time": "2018-07-28T21:56:09.253057Z"
    },
    "execution": {
     "iopub.execute_input": "2022-01-09T19:28:59.325720Z",
     "iopub.status.busy": "2022-01-09T19:28:59.324718Z",
     "iopub.status.idle": "2022-01-09T19:28:59.346719Z",
     "shell.execute_reply": "2022-01-09T19:28:59.346719Z"
    }
   },
   "outputs": [
    {
     "name": "stderr",
     "output_type": "stream",
     "text": [
      "e:\\source\\repos\\pymc3-v4\\pymc\\model.py:976: FutureWarning: `Model.test_point` has been deprecated. Use `Model.recompute_initial_point(seed=None)`.\n",
      "  warnings.warn(\n"
     ]
    },
    {
     "data": {
      "text/plain": [
       "{'p_logodds__': array(0.), 'ni': array(1, dtype=int64)}"
      ]
     },
     "execution_count": 6,
     "metadata": {},
     "output_type": "execute_result"
    }
   ],
   "source": [
    "point = m.test_point\n",
    "point"
   ]
  },
  {
   "cell_type": "markdown",
   "metadata": {},
   "source": [
    "Then pass the `point` to the first step method `pm.Metropolis` for random variable `p`."
   ]
  },
  {
   "cell_type": "code",
   "execution_count": 7,
   "metadata": {
    "ExecuteTime": {
     "end_time": "2018-07-28T21:56:10.554828Z",
     "start_time": "2018-07-28T21:56:10.547243Z"
    },
    "execution": {
     "iopub.execute_input": "2022-01-09T19:28:59.352718Z",
     "iopub.status.busy": "2022-01-09T19:28:59.351718Z",
     "iopub.status.idle": "2022-01-09T19:28:59.362720Z",
     "shell.execute_reply": "2022-01-09T19:28:59.363721Z"
    }
   },
   "outputs": [
    {
     "data": {
      "text/plain": [
       "({'p_logodds__': array(0.52418058), 'ni': array(1, dtype=int64)},\n",
       " [{'tune': True,\n",
       "   'scaling': array([1.]),\n",
       "   'accept': 0.08964089546197954,\n",
       "   'accepted': True}])"
      ]
     },
     "execution_count": 7,
     "metadata": {},
     "output_type": "execute_result"
    }
   ],
   "source": [
    "point, state = step1.step(point=point)\n",
    "point, state"
   ]
  },
  {
   "cell_type": "markdown",
   "metadata": {},
   "source": [
    "As you can see, the value of  `ni` does not change, but `p_logodds__` is updated.\n",
    "\n",
    "And similarly, you can pass the updated `point` to `step2` and get a sample for `ni`:"
   ]
  },
  {
   "cell_type": "code",
   "execution_count": 8,
   "metadata": {
    "ExecuteTime": {
     "end_time": "2018-07-28T21:56:11.698858Z",
     "start_time": "2018-07-28T21:56:11.691170Z"
    },
    "execution": {
     "iopub.execute_input": "2022-01-09T19:28:59.370235Z",
     "iopub.status.busy": "2022-01-09T19:28:59.369236Z",
     "iopub.status.idle": "2022-01-09T19:28:59.378237Z",
     "shell.execute_reply": "2022-01-09T19:28:59.378237Z"
    }
   },
   "outputs": [
    {
     "data": {
      "text/plain": [
       "({'p_logodds__': array(0.52418058), 'ni': array(0, dtype=int64)},\n",
       " [{'tune': True, 'accept': 21.632194762798157, 'p_jump': 0.5}])"
      ]
     },
     "execution_count": 8,
     "metadata": {},
     "output_type": "execute_result"
    }
   ],
   "source": [
    "point = step2.step(point=point)\n",
    "point"
   ]
  },
  {
   "cell_type": "markdown",
   "metadata": {},
   "source": [
    "Compound step works exactly like this by iterating all the steps within the list. In effect, it is a metropolis hastings within gibbs sampling. \n",
    "\n",
    "Moreover, `pm.CompoundStep` is called internally by `pm.sample(return_inferencedata=False)`. We can make them explicit as below:"
   ]
  },
  {
   "cell_type": "code",
   "execution_count": 9,
   "metadata": {
    "ExecuteTime": {
     "end_time": "2018-07-28T21:56:12.982233Z",
     "start_time": "2018-07-28T21:56:12.976999Z"
    },
    "execution": {
     "iopub.execute_input": "2022-01-09T19:28:59.389237Z",
     "iopub.status.busy": "2022-01-09T19:28:59.388236Z",
     "iopub.status.idle": "2022-01-09T19:29:41.129759Z",
     "shell.execute_reply": "2022-01-09T19:29:41.129759Z"
    }
   },
   "outputs": [
    {
     "name": "stderr",
     "output_type": "stream",
     "text": [
      "Multiprocess sampling (4 chains in 4 jobs)\n",
      "CompoundStep\n",
      ">Metropolis: [p]\n",
      ">BinaryMetropolis: [ni]\n"
     ]
    },
    {
     "data": {
      "text/html": [
       "\n",
       "    <div>\n",
       "        <style>\n",
       "            /* Turns off some styling */\n",
       "            progress {\n",
       "                /* gets rid of default border in Firefox and Opera. */\n",
       "                border: none;\n",
       "                /* Needs to be in here for Safari polyfill so background images work as expected. */\n",
       "                background-size: auto;\n",
       "            }\n",
       "            .progress-bar-interrupted, .progress-bar-interrupted::-webkit-progress-bar {\n",
       "                background: #F44336;\n",
       "            }\n",
       "        </style>\n",
       "      <progress value='44000' class='' max='44000' style='width:300px; height:20px; vertical-align: middle;'></progress>\n",
       "      100.00% [44000/44000 00:17<00:00 Sampling 4 chains, 0 divergences]\n",
       "    </div>\n",
       "    "
      ],
      "text/plain": [
       "<IPython.core.display.HTML object>"
      ]
     },
     "metadata": {},
     "output_type": "display_data"
    },
    {
     "name": "stderr",
     "output_type": "stream",
     "text": [
      "Sampling 4 chains for 1_000 tune and 10_000 draw iterations (4_000 + 40_000 draws total) took 38 seconds.\n",
      "The number of effective samples is smaller than 25% for some parameters.\n"
     ]
    },
    {
     "data": {
      "text/plain": [
       "[<pymc.step_methods.metropolis.Metropolis at 0x215573b6cd0>,\n",
       " <pymc.step_methods.metropolis.BinaryMetropolis at 0x21557af7e20>]"
      ]
     },
     "execution_count": 9,
     "metadata": {},
     "output_type": "execute_result"
    }
   ],
   "source": [
    "with m:\n",
    "    comp_step1 = pm.CompoundStep([step1, step2])\n",
    "    trace1 = pm.sample(10000, comp_step1)\n",
    "comp_step1.methods"
   ]
  },
  {
   "cell_type": "code",
   "execution_count": 10,
   "metadata": {
    "execution": {
     "iopub.execute_input": "2022-01-09T19:29:41.134757Z",
     "iopub.status.busy": "2022-01-09T19:29:41.133758Z",
     "iopub.status.idle": "2022-01-09T19:29:41.146763Z",
     "shell.execute_reply": "2022-01-09T19:29:41.147762Z"
    }
   },
   "outputs": [
    {
     "data": {
      "text/plain": [
       "['p_jump', 'scaling', 'accepted', 'accept']"
      ]
     },
     "execution_count": 10,
     "metadata": {},
     "output_type": "execute_result"
    }
   ],
   "source": [
    "# These are the Sample Stats for Compound Step based sampling\n",
    "list(trace1.sample_stats.data_vars)"
   ]
  },
  {
   "cell_type": "markdown",
   "metadata": {},
   "source": [
    "Note: In compound step method, a sample stats variable maybe present in both step methods, like `accept` in every chain."
   ]
  },
  {
   "cell_type": "code",
   "execution_count": 11,
   "metadata": {
    "execution": {
     "iopub.execute_input": "2022-01-09T19:29:41.153764Z",
     "iopub.status.busy": "2022-01-09T19:29:41.152759Z",
     "iopub.status.idle": "2022-01-09T19:29:41.159756Z",
     "shell.execute_reply": "2022-01-09T19:29:41.160760Z"
    }
   },
   "outputs": [
    {
     "data": {
      "text/plain": [
       "array([[5.05880713e-02, 1.00000000e+00],\n",
       "       [1.00656794e+00, 8.23345217e-01],\n",
       "       [6.44911199e-03, 1.00000000e+00],\n",
       "       ...,\n",
       "       [1.32225607e-06, 1.00000000e+00],\n",
       "       [7.07386719e-02, 1.00000000e+00],\n",
       "       [4.94538644e-02, 1.00000000e+00]])"
      ]
     },
     "execution_count": 11,
     "metadata": {},
     "output_type": "execute_result"
    }
   ],
   "source": [
    "trace1.sample_stats[\"accept\"].sel(chain=1).values"
   ]
  },
  {
   "cell_type": "markdown",
   "metadata": {},
   "source": [
    "## Order of step methods"
   ]
  },
  {
   "cell_type": "markdown",
   "metadata": {},
   "source": [
    "When in the default setting, the parameter update order follows the same order of the random variables, and it is assigned automatically. But if you specify the steps, you can change the order of the methods in the list:"
   ]
  },
  {
   "cell_type": "code",
   "execution_count": 12,
   "metadata": {
    "ExecuteTime": {
     "end_time": "2018-07-28T21:56:14.969080Z",
     "start_time": "2018-07-28T21:56:14.963094Z"
    },
    "execution": {
     "iopub.execute_input": "2022-01-09T19:29:41.170757Z",
     "iopub.status.busy": "2022-01-09T19:29:41.169755Z",
     "iopub.status.idle": "2022-01-09T19:30:24.132625Z",
     "shell.execute_reply": "2022-01-09T19:30:24.133626Z"
    }
   },
   "outputs": [
    {
     "name": "stderr",
     "output_type": "stream",
     "text": [
      "Multiprocess sampling (4 chains in 4 jobs)\n",
      "CompoundStep\n",
      ">BinaryMetropolis: [ni]\n",
      ">Metropolis: [p]\n"
     ]
    },
    {
     "data": {
      "text/html": [
       "\n",
       "    <div>\n",
       "        <style>\n",
       "            /* Turns off some styling */\n",
       "            progress {\n",
       "                /* gets rid of default border in Firefox and Opera. */\n",
       "                border: none;\n",
       "                /* Needs to be in here for Safari polyfill so background images work as expected. */\n",
       "                background-size: auto;\n",
       "            }\n",
       "            .progress-bar-interrupted, .progress-bar-interrupted::-webkit-progress-bar {\n",
       "                background: #F44336;\n",
       "            }\n",
       "        </style>\n",
       "      <progress value='44000' class='' max='44000' style='width:300px; height:20px; vertical-align: middle;'></progress>\n",
       "      100.00% [44000/44000 00:19<00:00 Sampling 4 chains, 0 divergences]\n",
       "    </div>\n",
       "    "
      ],
      "text/plain": [
       "<IPython.core.display.HTML object>"
      ]
     },
     "metadata": {},
     "output_type": "display_data"
    },
    {
     "name": "stderr",
     "output_type": "stream",
     "text": [
      "Sampling 4 chains for 1_000 tune and 10_000 draw iterations (4_000 + 40_000 draws total) took 39 seconds.\n",
      "The number of effective samples is smaller than 25% for some parameters.\n"
     ]
    },
    {
     "data": {
      "text/plain": [
       "[<pymc.step_methods.metropolis.BinaryMetropolis at 0x21557af7e20>,\n",
       " <pymc.step_methods.metropolis.Metropolis at 0x215573b6cd0>]"
      ]
     },
     "execution_count": 12,
     "metadata": {},
     "output_type": "execute_result"
    }
   ],
   "source": [
    "with m:\n",
    "    comp_step2 = pm.CompoundStep([step2, step1])\n",
    "    trace2 = pm.sample(\n",
    "        10000,\n",
    "        comp_step2,\n",
    "    )\n",
    "comp_step2.methods"
   ]
  },
  {
   "cell_type": "markdown",
   "metadata": {},
   "source": [
    "In the sampling process, it always follows the same step order in each sample in the Gibbs-like fashion. More precisely, at each update, it iterates over the list of `methods` where the accept/reject is based on comparing the acceptance rate with $p \\sim \\text{Uniform}(0, 1)$ (by checking whether $\\log p < \\log p_{\\text {updated}} - \\log p_{\\text {current}}$)."
   ]
  },
  {
   "cell_type": "markdown",
   "metadata": {},
   "source": [
    "Each step method gets its own `accept`, notice how the plots are reversed in when step order is reverted."
   ]
  },
  {
   "cell_type": "code",
   "execution_count": 13,
   "metadata": {
    "execution": {
     "iopub.execute_input": "2022-01-09T19:30:24.138626Z",
     "iopub.status.busy": "2022-01-09T19:30:24.137625Z",
     "iopub.status.idle": "2022-01-09T19:30:24.451625Z",
     "shell.execute_reply": "2022-01-09T19:30:24.451625Z"
    }
   },
   "outputs": [
    {
     "data": {
      "image/png": "[encoded data removed]",
      "text/plain": [
       "<Figure size 1656x552 with 2 Axes>"
      ]
     },
     "metadata": {},
     "output_type": "display_data"
    }
   ],
   "source": [
    "az.plot_density(\n",
    "    trace1,\n",
    "    group=\"sample_stats\",\n",
    "    var_names=\"accept\",\n",
    "    point_estimate=\"mean\",\n",
    ");"
   ]
  },
  {
   "cell_type": "code",
   "execution_count": 14,
   "metadata": {
    "execution": {
     "iopub.execute_input": "2022-01-09T19:30:24.497625Z",
     "iopub.status.busy": "2022-01-09T19:30:24.466625Z",
     "iopub.status.idle": "2022-01-09T19:30:24.706631Z",
     "shell.execute_reply": "2022-01-09T19:30:24.705632Z"
    }
   },
   "outputs": [
    {
     "data": {
      "image/png": "[encoded data removed]",
      "text/plain": [
       "<Figure size 1656x552 with 2 Axes>"
      ]
     },
     "metadata": {},
     "output_type": "display_data"
    }
   ],
   "source": [
    "az.plot_density(\n",
    "    trace2,\n",
    "    group=\"sample_stats\",\n",
    "    var_names=\"accept\",\n",
    "    point_estimate=\"mean\",\n",
    ");"
   ]
  },
  {
   "cell_type": "markdown",
   "metadata": {},
   "source": [
    "## Issues with mixing discrete and continuous sampling"
   ]
  },
  {
   "cell_type": "markdown",
   "metadata": {},
   "source": [
    "A recurrent issue/concern is the validity of mixing discrete and continuous sampling, especially mixing other samplers with NUTS. While in the book [Bayesian Data Analysis 3rd edition](http://www.stat.columbia.edu/~gelman/book/) Chapter 12.4, there is a small paragraph on \"Combining Hamiltonian Monte Carlo with Gibbs sampling\", which suggests that this could be a valid way to do, the Stan developers are always skeptical about how practical it is. (Here are more discussions about this issue [1](http://discourse.mc-stan.org/t/mcmc-sampling-does-not-work-when-execute/1918/47), [2](http://discourse.mc-stan.org/t/constraining-latent-factor-model-baysian-probabalisic-matrix-factorization-to-remove-multimodality/2152/21)). \n",
    "\n",
    "The concern with mixing discrete and continuous sampling is that the change in discrete parameters will affect the continuous distribution's geometry so that the adaptation (i.e., the tuned mass matrix and step size) may be inappropriate for the Hamiltonian Monte Carlo sampling. HMC/NUTS is hypersensitive to its tuning parameters (mass matrix and step size). Another issue is that we also don't know how many iterations we have to run to get a decent sample when the discrete parameters change. Though it hasn't been fully evaluated, it seems that if the discrete parameter is in low dimensions (e.g., 2-class mixture models, outlier detection with explicit discrete labeling), the mixing of discrete sampling with HMC/NUTS works OK. However, it is much less efficient than marginalizing out the discrete parameters. And sometimes it can be observed that the Markov chains get stuck quite often. In order to evaluate this more properly, one can use a simulation-based method to look at the posterior coverage and establish the computational correctness, as explained in [Cook, Gelman, and Rubin 2006](https://amstat.tandfonline.com/doi/abs/10.1198/106186006x136976)."
   ]
  },
  {
   "cell_type": "markdown",
   "metadata": {},
   "source": [
    "Updated by: Meenal Jhajharia"
   ]
  },
  {
   "cell_type": "code",
   "execution_count": 15,
   "metadata": {
    "execution": {
     "iopub.execute_input": "2022-01-09T19:30:24.714631Z",
     "iopub.status.busy": "2022-01-09T19:30:24.712630Z",
     "iopub.status.idle": "2022-01-09T19:30:24.766626Z",
     "shell.execute_reply": "2022-01-09T19:30:24.767626Z"
    }
   },
   "outputs": [
    {
     "name": "stdout",
     "output_type": "stream",
     "text": [
      "Last updated: Sun Jan 09 2022\n",
      "\n",
      "Python implementation: CPython\n",
      "Python version       : 3.8.10\n",
      "IPython version      : 7.30.1\n",
      "\n",
      "pymc  : 4.0.0b1\n",
      "aesara: 2.3.2\n",
      "arviz : 0.11.4\n",
      "xarray: 0.18.2\n",
      "numpy : 1.21.1\n",
      "\n",
      "Watermark: 2.3.0\n",
      "\n"
     ]
    }
   ],
   "source": [
    "%load_ext watermark\n",
    "%watermark -n -u -v -iv -w"
   ]
  }
 ],
 "metadata": {
  "kernelspec": {
   "display_name": "Python 3 (ipykernel)",
   "language": "python",
   "name": "python3"
  },
  "language_info": {
   "codemirror_mode": {
    "name": "ipython",
    "version": 3
   },
   "file_extension": ".py",
   "mimetype": "text/x-python",
   "name": "python",
   "nbconvert_exporter": "python",
   "pygments_lexer": "ipython3",
   "version": "3.8.10"
  },
  "latex_envs": {
   "LaTeX_envs_menu_present": true,
   "autoclose": false,
   "autocomplete": true,
   "bibliofile": "biblio.bib",
   "cite_by": "apalike",
   "current_citInitial": 1,
   "eqLabelWithNumbers": true,
   "eqNumInitial": 1,
   "hotkeys": {
    "equation": "Ctrl-E",
    "itemize": "Ctrl-I"
   },
   "labels_anchors": false,
   "latex_user_defs": false,
   "report_style_numbering": false,
   "user_envs_cfg": false
  },
  "toc": {
   "nav_menu": {},
   "number_sections": false,
   "sideBar": true,
   "skip_h1_title": false,
   "title_cell": "Table of Contents",
   "title_sidebar": "Contents",
   "toc_cell": false,
   "toc_position": {},
   "toc_section_display": true,
   "toc_window_display": true
  }
 },
 "nbformat": 4,
 "nbformat_minor": 4
}
