{
 "cells": [
  {
   "cell_type": "markdown",
   "metadata": {
    "id": "nwglFsshedmq"
   },
   "source": [
    "(GLM-ordinal-features.ipynb)=\n",
    "# GLM-ordinal-features\n",
    "\n",
    ":::{post} Oct 27, 2024\n",
    ":tags: ordinal-features, ordinal-regression, glm, bayesian-workflow, r-datasets\n",
    ":category: beginner, reference\n",
    ":author: Jonathan Sedar\n",
    ":::"
   ]
  },
  {
   "cell_type": "markdown",
   "metadata": {
    "id": "R_cn0vgIJaf9"
   },
   "source": [
    "## Ordinal Exogenous Feature: Worked Example with Bayesian Workflow\n",
    "\n",
    "Here we use an **ordinal exogenous predictor feature** within a model:\n",
    "\n",
    "```\n",
    "y ~ x + e\n",
    "y: Numeric\n",
    "x: Ordinal Category\n",
    "```\n",
    "\n",
    "... this is in contrast to estimating an **ordinal endogenous target feature**,\n",
    "which we show in another notebook\n",
    "\n",
    "\n",
    "**Disclaimer:**\n",
    "+ This Notebook is a worked example only, it's not intended to be an academic reference\n",
    "+ The theory and math may be incorrect, incorrectly notated, or incorrectly used\n",
    "+ The code may contain errors, inefficiencies, legacy methods, and the text may have typos\n",
    "+ Use at your own risk!\n",
    "\n",
    "## Contents\n",
    "\n",
    "+ [Discussion](#Discussion)\n",
    "\n",
    "+ [Setup](#Setup)\n",
    "\n",
    "+ [0. Curate Dataset](#0.-Curate-Dataset)\n",
    "\n",
    "+ [1. Model A: The Wrong Way - Simple Linear Coefficients](#1.-Model-A:-The-Wrong-Way---Simple-Linear-Coefficients)\n",
    "\n",
    "+ [2. Model B: A Better Way - Dirichlet Hyperprior Allocator](#2.-Model-B:-A-Better-Way---Dirichlet-Hyperprior-Allocator)\n",
    "\n",
    "---\n",
    "\n",
    "---"
   ]
  },
  {
   "cell_type": "markdown",
   "metadata": {
    "id": "MW3UCyzRJaf-"
   },
   "source": [
    "# Discussion"
   ]
  },
  {
   "cell_type": "markdown",
   "metadata": {
    "id": "w8amu0EQJaf_"
   },
   "source": [
    "## Problem Statement\n",
    "\n",
    "Human action and economics is all about expressing our ordinal preferences between limited options in the real-world.\n",
    "\n",
    "We often encounter real-world situations and datasets where a predictor feature is an ordinal category recording a\n",
    "preference or summarizing a metric value, and is particularly common in insurance and health. For example:\n",
    "\n",
    "+ As a totally subjective opinion which can be different between observations (e.g. `[\"bad\", \"medium\", \"good\", \"better\",\n",
    "  \"way better\", \"best\", \"actually the best\"]`)  - these are difficult to work with and a symptom of poor data design\n",
    "+ On a subjective but standardized scale (e.g. `[\"strongly disagree\", \"disagree\", \"agree\", \"strongly agree\"]`) \n",
    "  this is the approach of the familar [Likert scale](https://en.wikipedia.org/wiki/Likert_scale)\n",
    "+ As a summary binning of a real objective value on a metric scale (e.g. binning ages into age-groups \n",
    "  `[\"<30\", \"30 to 60\", \"60+\"]`), or a subjective value that's been mapped to a metric scale (e.g. medical health\n",
    "  self-scoring `[\"0-10%\", ..., \"90-100%\"]`) - these are typically a misuse of the metric because the data has been\n",
    "  compressed (losing information), and the reason for the binning and the choices of bin-edges are usually not known\n",
    "\n",
    "In all these cases the critical issue is that the categorical values and their ordinal rank doesn't necessarily relate\n",
    "linearly to the target variable. For example in a 4-value Likert scale (shown above) the relative effect of \n",
    "`\"strongly agree\"` (rank `4`) is probably not `\"agree\"` (rank 3) plus 1: `3+1 != 4`. \n",
    "\n",
    "Another way to put it is the metric distance between ordinal categories is not known and can be unequal. For example in\n",
    "that 4-value Likert scale (shown above) the difference between `\"disagree\" vs \"agree\"` is probably not the same as \n",
    "between `\"agree\" vs \"strongly agree\"`. \n",
    "\n",
    "These properties can unfortunately encourage modellers to incorporate ordinal features as either a categorical (with\n",
    "infinite degrees of freedom - so we lose ordering / rank information), or as a numeric coefficient (which ignores the \n",
    "unequal spacing, non-linear response). Both are poor choices and have subtly negative effects on the model performance.\n",
    "\n",
    "A final nuance is that we might not see the occurence of all valid categorial ordinal levels in the training dataset. \n",
    "For example we might know a range is measured `[\"c0\", \"c1\", \"c2\", \"c3\"]` but only see `[\"c0\", \"c1\", \"c3\"]`. This is a \n",
    "missing data problem which could further encourage the misuse of a numeric coefficient to average or \"interpolate\" a\n",
    "value. What we should do is incorporate our knowledge of the data domain into the model structure to autoimpute a\n",
    "coefficient value. This is actually the case in this dataset here (see Section 0)! \n",
    "\n",
    "\n",
    "## Data & Models Demonstrated\n",
    "\n",
    "Our problem statement is that when faced with such ordinal features we want to:\n",
    "\n",
    "1. **Infer** a series of prior allocators that transform the ordinal categories into a linear (polynomial) scale\n",
    "2. **Predict** the endogenous feature as usual, having captured the information from the ordinals\n",
    "    \n",
    "    \n",
    "This notebook takes the opportunity to:\n",
    "\n",
    "+ Demonstrate a general method using a constrained Dirichlet prior, based on {cite:p}`burkner2018` and demonstrated in a \n",
    "  pymc-specific example by Austin Rochford {cite:p}`rochford2018`\n",
    "+ Improve upon both those methods by structurally correcting for a missing level value in an ordinal feature\n",
    "+ Demonstrate a reasonably complete Bayesian workflow {cite:p}`gelman2020bayesian` including data curation and grabbing\n",
    "  data from an RDataset \n",
    "\n",
    "This notebook is a partner to another notebook (TBD) where we estimate an **ordinal endogenous target feature**."
   ]
  },
  {
   "cell_type": "markdown",
   "metadata": {
    "id": "CemVRXjtJaf_"
   },
   "source": [
    "---\n",
    "\n",
    "---"
   ]
  },
  {
   "cell_type": "markdown",
   "metadata": {
    "id": "32SMEqWMJaf_"
   },
   "source": [
    "# Setup"
   ]
  },
  {
   "cell_type": "markdown",
   "metadata": {
    "id": "4YE-JcFC9I8Q"
   },
   "source": [
    ":::{include} ../extra_installs.md\n",
    ":::"
   ]
  },
  {
   "cell_type": "code",
   "execution_count": 1,
   "metadata": {
    "id": "CQixNaaKJ8fH"
   },
   "outputs": [],
   "source": [
    "# uncomment to install in a Google Colab environment\n",
    "# !pip install pyreadr watermark"
   ]
  },
  {
   "cell_type": "code",
   "execution_count": 2,
   "metadata": {
    "id": "KHonk2PdJagA",
    "jupyter": {
     "outputs_hidden": false
    }
   },
   "outputs": [],
   "source": [
    "from copy import deepcopy\n",
    "\n",
    "import arviz as az\n",
    "import matplotlib.pyplot as plt\n",
    "import numpy as np\n",
    "import pandas as pd\n",
    "import pymc as pm\n",
    "import pyreadr\n",
    "import pytensor.tensor as pt\n",
    "\n",
    "from matplotlib import gridspec\n",
    "from pymc.testing import assert_no_rvs\n",
    "\n",
    "import warnings  # isort:skip # suppress seaborn, it's far too chatty\n",
    "\n",
    "warnings.simplefilter(action=\"ignore\", category=FutureWarning)  # isort:skip\n",
    "import seaborn as sns"
   ]
  },
  {
   "cell_type": "code",
   "execution_count": 3,
   "metadata": {
    "id": "1bkE8AVFJagA"
   },
   "outputs": [],
   "source": [
    "%matplotlib inline\n",
    "%config InlineBackend.figure_format = 'retina'\n",
    "\n",
    "sns.set_theme(\n",
    "    style=\"darkgrid\",\n",
    "    palette=\"muted\",\n",
    "    context=\"notebook\",\n",
    "    rc={\"figure.dpi\": 72, \"savefig.dpi\": 144, \"figure.figsize\": (12, 4)},\n",
    ")\n",
    "\n",
    "# set target_accept quite high to minimise divergences in mdlb\n",
    "SAMPLE_KWS = dict(\n",
    "    progressbar=True,\n",
    "    draws=500,\n",
    "    tune=2000,\n",
    "    chains=4,\n",
    "    idata_kwargs=dict(log_likelihood=True),\n",
    ")\n",
    "\n",
    "USE_LOCAL_DATASET = False"
   ]
  },
  {
   "cell_type": "markdown",
   "metadata": {
    "id": "YemOGTYcJagA"
   },
   "source": [
    "---\n",
    "\n",
    "---"
   ]
  },
  {
   "cell_type": "markdown",
   "metadata": {
    "id": "APsFdavWJagA"
   },
   "source": [
    "# 0. Curate Dataset"
   ]
  },
  {
   "cell_type": "markdown",
   "metadata": {},
   "source": [
    "We use the same health dataset as in {cite:p}`burkner2018`, named `ICFCoreSetCWP.RData`, available in an R package \n",
    "[ordPens](https://github.com/cran/ordPens)\n",
    "\n",
    "Per the Bürkner paper (Section 4: Case Study) this dataset is from a study ** of Chronic Widespread Pain(CWP) wherein\n",
    "420 patients were self-surveyed on 67 health features (each a subjective ordinal category) and also assigned a \n",
    "differently generated (and also subjective) measure of physical health. In the dataset these 67 features are named e.g.\\\n",
    "`b1602`, `b102`, ... `d450`, `d455`, ... `s770` etc, and the target feature is named `phcs`.\n",
    "\n",
    "Per the Bürkner paper we will subselect 2 features `d450`, `d455` (which measure an impairment of patient\n",
    "walking ability on a scale `[0 to 4]` [no problem to complete problem]) and use them to predict `phcs`.\n",
    "\n",
    "Quite interestingly, for feature `d450`, the highest ordinal level value `4` is not seen in the dataset, so we have a \n",
    "missing data problem which could further encourage the misuse of a numeric coefficient to average or \"interpolate\" a\n",
    "value. What we should do is incorporate our knowledge of the data domain into the model structure to auto-impute a\n",
    "coefficient value. This means that our model can make predictions on new data where a `d450=4` value might be seen.\n",
    "\n",
    "** _Just for completness (but not needed for this notebook) that study is reported in \n",
    "Gertheiss, J., Hogger, S., Oberhauser, C., & Tutz, G. (2011). Selection of ordinally\n",
    "784 scaled independent variables with applications to international classification of functioning\n",
    "785 core sets. Journal of the Royal Statistical Society: Series C (Applied Statistics), 60 (3),\n",
    "786 377–395._\n",
    "\n",
    "NOTE some boilerplate steps are included but ~~struck through~~ with and explanatory comment \n",
    "e.g. \"Not needed in this simple example\". This is to preserve the logical workflow which is \n",
    "more generally useful"
   ]
  },
  {
   "cell_type": "markdown",
   "metadata": {
    "id": "fiQFFNqhJagB"
   },
   "source": [
    "## 0.1 Extract"
   ]
  },
  {
   "cell_type": "markdown",
   "metadata": {
    "id": "pwNFAyKzJagB"
   },
   "source": [
    "Annoyingly but not suprisingly for an R project, despite being a small, simple table, the dataset is only available in \n",
    "an obscure R binary format, and tarred, so we'll download, unpack and store locally as a normal CSV file.\n",
    "This uses the rather helpful [`pyreadr`](https://github.com/ofajardo/pyreadr) package."
   ]
  },
  {
   "cell_type": "code",
   "execution_count": 4,
   "metadata": {
    "id": "-hJ0BqsHJagB"
   },
   "outputs": [],
   "source": [
    "if USE_LOCAL_DATASET:\n",
    "    dfr = pd.read_csv(\"icf_core_set_cwp.csv\", index_col=\"rownames\")\n",
    "else:\n",
    "    import os\n",
    "    import tarfile\n",
    "    import urllib.request\n",
    "\n",
    "    url = \"https://cran.r-project.org/src/contrib/ordPens_1.1.0.tar.gz\"\n",
    "    filehandle, _ = urllib.request.urlretrieve(url)\n",
    "    rbytes = tarfile.open(filehandle).extractfile(member=\"ordPens/data/ICFCoreSetCWP.RData\").read()\n",
    "    fn = \"ICFCoreSetCWP.RData\"\n",
    "    with open(fn, \"wb\") as f:\n",
    "        f.write(rbytes)\n",
    "    dfr = pyreadr.read_r(fn)[\"ICFCoreSetCWP\"]\n",
    "    os.remove(fn)\n",
    "    dfr.to_csv(\"icf_core_set_cwp.csv\")"
   ]
  },
  {
   "cell_type": "code",
   "execution_count": null,
   "metadata": {
    "colab": {
     "base_uri": "https://localhost:8080/",
     "height": 691
    },
    "id": "HbZvu2rDJagB",
    "outputId": "d8487bb5-acbe-4cfa-f5a1-5f7d9f42f377"
   },
   "outputs": [],
   "source": [
    "print(dfr.shape)\n",
    "display(pd.concat((dfr.describe(include=\"all\").T, dfr.isnull().sum(), dfr.dtypes), axis=1))\n",
    "display(dfr.head())"
   ]
  },
  {
   "cell_type": "markdown",
   "metadata": {
    "id": "MOVXxEJPJagB"
   },
   "source": [
    "**Observe:**\n",
    "\n",
    "+ Looks okay - if this was a proper project we'd want to know what those cryptic column headings actually mean\n",
    "+ For this purpose we'll only use a couple of the features [`d450`, `d455`] and will press ahead"
   ]
  },
  {
   "cell_type": "markdown",
   "metadata": {
    "id": "M7oFbrrsJagB"
   },
   "source": [
    "## 0.2 Clean"
   ]
  },
  {
   "cell_type": "code",
   "execution_count": null,
   "metadata": {
    "colab": {
     "base_uri": "https://localhost:8080/",
     "height": 364
    },
    "id": "5kFxNzDQJagB",
    "outputId": "74ffd824-5a3c-442b-8968-4638f575de39"
   },
   "outputs": [],
   "source": [
    "fts_austin = [\"d450\", \"d455\", \"phcs\"]\n",
    "df = dfr[fts_austin].copy()\n",
    "display(pd.concat((df.describe(include=\"all\").T, df.isnull().sum(), df.dtypes), axis=1))\n",
    "df.head()"
   ]
  },
  {
   "cell_type": "markdown",
   "metadata": {
    "id": "GhWmbmkPJagB"
   },
   "source": [
    "### ~~0.2.1 Clean Observations~~"
   ]
  },
  {
   "cell_type": "markdown",
   "metadata": {
    "id": "g6-FYfnTJagB"
   },
   "source": [
    "Not needed in this simple example"
   ]
  },
  {
   "cell_type": "markdown",
   "metadata": {
    "id": "v0lm92QsJagB"
   },
   "source": [
    "### 0.2.2 Clean Features"
   ]
  },
  {
   "cell_type": "markdown",
   "metadata": {
    "id": "YDccQXALJagB"
   },
   "source": [
    "#### ~~0.2.2.1 Rename Features~~"
   ]
  },
  {
   "cell_type": "markdown",
   "metadata": {
    "id": "DM_lzCesJagB"
   },
   "source": [
    "Nothing really needed, will rename the index when we force dtype and set index"
   ]
  },
  {
   "cell_type": "markdown",
   "metadata": {
    "id": "9zAlkU82JagB"
   },
   "source": [
    "### ~~0.2.2.2 Correct Features~~"
   ]
  },
  {
   "cell_type": "markdown",
   "metadata": {},
   "source": [
    "Not needed in this simple example"
   ]
  },
  {
   "cell_type": "markdown",
   "metadata": {
    "id": "DxzUSnI4JagC"
   },
   "source": [
    "### 0.2.2.3 Force Datatypes"
   ]
  },
  {
   "cell_type": "markdown",
   "metadata": {
    "id": "-arZiqyMJagC"
   },
   "source": [
    "##### Force `d450` to string representation and ordered categorical dtype (supplied as an int which is unhelpful)"
   ]
  },
  {
   "cell_type": "code",
   "execution_count": null,
   "metadata": {
    "colab": {
     "base_uri": "https://localhost:8080/"
    },
    "id": "dfIcUcOEJagC",
    "outputId": "10fe2f37-4f50-41a5-f8bb-fb40bb1f647a"
   },
   "outputs": [],
   "source": [
    "ft = \"d450\"\n",
    "idx = df[ft].notnull()\n",
    "df.loc[idx, ft] = df.loc[idx, ft].apply(lambda x: f\"c{x}\")\n",
    "df[ft].unique()"
   ]
  },
  {
   "cell_type": "code",
   "execution_count": null,
   "metadata": {
    "colab": {
     "base_uri": "https://localhost:8080/"
    },
    "id": "Hk-DR6akJagC",
    "outputId": "bb70e394-2623-470a-8621-efacdb107b72"
   },
   "outputs": [],
   "source": [
    "lvls = [\"c0\", \"c1\", \"c2\", \"c3\"]\n",
    "df[ft] = pd.Categorical(df[ft].values, categories=lvls, ordered=True)\n",
    "df[ft].cat.categories"
   ]
  },
  {
   "cell_type": "markdown",
   "metadata": {
    "id": "JZAtKDQMJagC"
   },
   "source": [
    "##### Force `d455` to string representation and ordered categorical dtype (supplied as an int which is unhelpful)"
   ]
  },
  {
   "cell_type": "code",
   "execution_count": null,
   "metadata": {
    "colab": {
     "base_uri": "https://localhost:8080/"
    },
    "id": "wzNpQLS9JagC",
    "outputId": "2da81148-a046-4c95-c314-5d80d88b408f"
   },
   "outputs": [],
   "source": [
    "ft = \"d455\"\n",
    "idx = df[ft].notnull()\n",
    "df.loc[idx, ft] = df.loc[idx, ft].apply(lambda x: f\"c{x}\")\n",
    "df[ft].unique()"
   ]
  },
  {
   "cell_type": "code",
   "execution_count": null,
   "metadata": {
    "colab": {
     "base_uri": "https://localhost:8080/"
    },
    "id": "Yiwey6naJagC",
    "outputId": "7ccd7545-9cf4-48f2-ded8-34383d40bd3e"
   },
   "outputs": [],
   "source": [
    "lvls = [\"c0\", \"c1\", \"c2\", \"c3\", \"c4\"]\n",
    "df[ft] = pd.Categorical(df[ft].values, categories=lvls, ordered=True)\n",
    "df[ft].cat.categories"
   ]
  },
  {
   "cell_type": "markdown",
   "metadata": {
    "id": "I1yJMuuIJagC"
   },
   "source": [
    "### 0.2.2.4 Create and set indexes"
   ]
  },
  {
   "cell_type": "code",
   "execution_count": 11,
   "metadata": {
    "id": "SpWZQVjKJagC"
   },
   "outputs": [],
   "source": [
    "df0 = df.reset_index()\n",
    "df0[\"oid\"] = df0[\"rownames\"].apply(lambda n: f\"o{str(n).zfill(3)}\")\n",
    "df = df0.drop(\"rownames\", axis=1).set_index(\"oid\").sort_index()\n",
    "assert df.index.is_unique"
   ]
  },
  {
   "cell_type": "markdown",
   "metadata": {
    "id": "p_8ozyA2JagC"
   },
   "source": [
    "## 0.3 Very limited quick EDA"
   ]
  },
  {
   "cell_type": "code",
   "execution_count": null,
   "metadata": {
    "colab": {
     "base_uri": "https://localhost:8080/",
     "height": 382
    },
    "id": "o81OeFEKJagC",
    "outputId": "955dc115-301d-49e1-a56e-f9549293a6fe"
   },
   "outputs": [],
   "source": [
    "print(df.shape)\n",
    "display(pd.concat((df.describe(include=\"all\").T, df.isnull().sum(), df.dtypes), axis=1))\n",
    "display(df.head())"
   ]
  },
  {
   "cell_type": "markdown",
   "metadata": {
    "id": "k7wl-XBoJagD"
   },
   "source": [
    "### 0.3.1 Univariate target `phcs`"
   ]
  },
  {
   "cell_type": "code",
   "execution_count": null,
   "metadata": {
    "colab": {
     "base_uri": "https://localhost:8080/",
     "height": 186
    },
    "id": "FYfSlaV1JagD",
    "outputId": "80c8b2a4-f9c8-45d6-fa7c-c953c9d8ea5d"
   },
   "outputs": [],
   "source": [
    "fts = [\"phcs\"]\n",
    "v_kws = dict(data=df, cut=0)\n",
    "cs = sns.color_palette(n_colors=len(fts))\n",
    "f, axs = plt.subplots(len(fts), 1, figsize=(12, 1 + 1.4 * len(fts)), squeeze=False)\n",
    "for i, ft in enumerate(fts):\n",
    "    ax = sns.violinplot(x=ft, **v_kws, ax=axs[0][i], color=cs[i])\n",
    "    _ = ax.set_title(ft)\n",
    "_ = f.suptitle(\"Univariate numerics\")\n",
    "_ = f.tight_layout()"
   ]
  },
  {
   "cell_type": "markdown",
   "metadata": {
    "id": "haVg8sLoLUpG"
   },
   "source": [
    "**Observe:**\n",
    "\n",
    "+ `phcs` is a subjective scored measure of physical healt, see {cite:p}`burkner2018` for details\n",
    "+ Seems well-behaved, unimodal, smooth"
   ]
  },
  {
   "cell_type": "markdown",
   "metadata": {
    "id": "p43qjcvJJagH"
   },
   "source": [
    "### 0.3.2 Target `phcs` vs `['d450', 'd455']`"
   ]
  },
  {
   "cell_type": "code",
   "execution_count": null,
   "metadata": {
    "colab": {
     "base_uri": "https://localhost:8080/",
     "height": 441
    },
    "id": "H-cc0MBLJagH",
    "outputId": "d2336185-7f78-41b0-d676-16327d6f8b43"
   },
   "outputs": [],
   "source": [
    "def plot_numeric_vs_cat(df, ftnum=\"phcs\", ftcat=\"d450\") -> plt.figure:\n",
    "    f = plt.figure(figsize=(12, 3))\n",
    "    gs = gridspec.GridSpec(1, 2, width_ratios=[4, 1], figure=f)\n",
    "    ax0 = f.add_subplot(gs[0])\n",
    "    ax1 = f.add_subplot(gs[1], sharey=ax0)\n",
    "    _ = ax0.set(title=f\"Distribution of `{ftnum}` wihin each `{ftcat}` category\")\n",
    "    _ = ax1.set(title=f\"Count obs per `{ftcat}` category\", ylabel=False)\n",
    "\n",
    "    kws_box = dict(\n",
    "        orient=\"h\",\n",
    "        showmeans=True,\n",
    "        whis=(3, 97),\n",
    "        meanprops=dict(markerfacecolor=\"w\", markeredgecolor=\"#333333\", marker=\"d\", markersize=12),\n",
    "    )\n",
    "\n",
    "    _ = sns.boxplot(x=ftnum, y=ftcat, hue=ftcat, data=df, **kws_box, ax=ax0)\n",
    "    _ = sns.countplot(y=ftcat, hue=ftcat, data=df, ax=ax1)\n",
    "    _ = ax0.invert_yaxis()\n",
    "    _ = ax1.yaxis.label.set_visible(False)\n",
    "    _ = plt.setp(ax1.get_yticklabels(), visible=False)\n",
    "    _ = f.suptitle(f\"Summary stats for {len(df)} obs in dataset\")\n",
    "    _ = f.tight_layout()\n",
    "\n",
    "\n",
    "f = plot_numeric_vs_cat(df, ftnum=\"phcs\", ftcat=\"d450\")\n",
    "f = plot_numeric_vs_cat(df, ftnum=\"phcs\", ftcat=\"d455\")"
   ]
  },
  {
   "cell_type": "markdown",
   "metadata": {
    "id": "NFP5H1oeJagH"
   },
   "source": [
    "**Observe:**\n",
    "\n",
    "`phcs vs d450`:\n",
    "+ `c0` wider and higher: possibly a catch-all category because heavily observed too\n",
    "+ `c3` fewer counts\n",
    "+ `c4` is not observed: it's missing from the data despite being valid in the data domain\n",
    "\n",
    "`phcs vs d455`:\n",
    "+ `c1` and `c2` look very similar\n",
    "+ `c4` fewer counts"
   ]
  },
  {
   "cell_type": "markdown",
   "metadata": {
    "id": "1e8KEDMmJagH"
   },
   "source": [
    "## 0.4 Transform dataset to `dfx` for model input"
   ]
  },
  {
   "cell_type": "markdown",
   "metadata": {
    "id": "v5ZQFkmhJagH"
   },
   "source": [
    "**IMPORTANT NOTE**\n",
    "\n",
    "+ Reminder that Bayesian inferential methods **do not need** a `test` dataset (nor k-fold cross validation)\n",
    "  to fit parameters. We also do not need a `holdout` (out-of-sample) dataset to evaluate model performance,\n",
    "  because we can use in-sample PPC, LOO-PIT and ELPD evaluations\n",
    "+ So we use the entire dataset `df` as our model input\n",
    "+ Depending on the real-world model implementation we might:\n",
    "  + Separate out a `holdout` set (even though we dont need it) to eyeball the predictive outputs, but here we have a summarized dataset, so this isn't possible nor suitable\n",
    "  + Create a `forecast` set to demonstrate how we would use the model and it's predictive outputs in Production.\n",
    "\n",
    "**NOTE:**\n",
    "\n",
    "+ This is an abbreviated / simplified transformation process which still allows\n",
    "  for the potential to add more features in future"
   ]
  },
  {
   "cell_type": "markdown",
   "metadata": {
    "id": "4aWXz6j_JagH"
   },
   "source": [
    "Map ordinal categorical to an ordinal numeric (int) based on its preexisting categorical order"
   ]
  },
  {
   "cell_type": "code",
   "execution_count": 15,
   "metadata": {
    "id": "8C5fJCB_JagH"
   },
   "outputs": [],
   "source": [
    "df[\"d450_idx\"] = df[\"d450\"].cat.codes.astype(int)\n",
    "df[\"d450_num\"] = df[\"d450_idx\"].copy()\n",
    "\n",
    "df[\"d455_idx\"] = df[\"d455\"].cat.codes.astype(int)\n",
    "df[\"d455_num\"] = df[\"d455_idx\"].copy()"
   ]
  },
  {
   "cell_type": "markdown",
   "metadata": {
    "id": "fQrHcXvfJagH"
   },
   "source": [
    "Transform (zscore and scale) numerics"
   ]
  },
  {
   "cell_type": "code",
   "execution_count": 16,
   "metadata": {
    "id": "LcENp7I3JagH"
   },
   "outputs": [],
   "source": [
    "fts_num = [\"d450_num\", \"d455_num\"]\n",
    "fts_non_num = [\"d450_idx\", \"d455_idx\"]\n",
    "fts_y = [\"phcs\"]"
   ]
  },
  {
   "cell_type": "code",
   "execution_count": null,
   "metadata": {
    "colab": {
     "base_uri": "https://localhost:8080/",
     "height": 238
    },
    "id": "IJrcR2AkJagH",
    "outputId": "2aa8d64b-dbfd-46f4-e3d2-a428f6f4884c"
   },
   "outputs": [],
   "source": [
    "MNS = np.nanmean(df[fts_num], axis=0)\n",
    "SDEVS = np.nanstd(df[fts_num], axis=0)\n",
    "dfx_num = (df[fts_num] - MNS) / SDEVS\n",
    "\n",
    "icpt = pd.Series(np.ones(len(df)), name=\"intercept\", index=dfx_num.index)\n",
    "\n",
    "# concat including y_idx which will be used as observed\n",
    "dfx = pd.concat((df[fts_y], icpt, df[fts_non_num], dfx_num), axis=1)\n",
    "dfx.sample(5, random_state=42)"
   ]
  },
  {
   "cell_type": "markdown",
   "metadata": {
    "id": "BytWql8rJagH"
   },
   "source": [
    "## 0.5 Create `forecast` set and convert to `dffx` for model input"
   ]
  },
  {
   "cell_type": "markdown",
   "metadata": {
    "id": "hdJJvqc0JagH"
   },
   "source": [
    "**NOTE:** We depart from the datasets used in {cite:p}`rochford2018` and {cite:p}`burkner2018` to make sure our \n",
    "`forecast` dataset contains all valid levels of `d450` and `d455`. Specifically, the observed dataset does not contain \n",
    "the domain-valid `d450 = 4`, so we will make sure that our forecast set does include it."
   ]
  },
  {
   "cell_type": "code",
   "execution_count": null,
   "metadata": {
    "colab": {
     "base_uri": "https://localhost:8080/",
     "height": 238
    },
    "id": "_cs_cls9JagI",
    "outputId": "9cc9cb72-52e0-4c7f-9bb0-06e17d4c4a39"
   },
   "outputs": [],
   "source": [
    "LVLS_D450_D455 = [\"c0\", \"c1\", \"c2\", \"c3\", \"c4\"]\n",
    "dff = pd.merge(\n",
    "    pd.Series(LVLS_D450_D455, name=\"d450\"), pd.Series(LVLS_D450_D455, name=\"d455\"), how=\"cross\"\n",
    ")\n",
    "dff[\"d450\"] = pd.Categorical(dff[\"d450\"].values, categories=LVLS_D450_D455, ordered=True)\n",
    "dff[\"d455\"] = pd.Categorical(dff[\"d455\"].values, categories=LVLS_D450_D455, ordered=True)\n",
    "dff[\"phcs\"] = 0.0\n",
    "dff[\"oid\"] = [f\"o{str(n).zfill(3)}\" for n in range(len(dff))]\n",
    "dff.set_index(\"oid\", inplace=True)\n",
    "dff.head()"
   ]
  },
  {
   "cell_type": "markdown",
   "metadata": {
    "id": "W2cYxoGuJagI"
   },
   "source": [
    "Convert to `dffx` for model input"
   ]
  },
  {
   "cell_type": "code",
   "execution_count": null,
   "metadata": {
    "colab": {
     "base_uri": "https://localhost:8080/",
     "height": 238
    },
    "id": "DBretpaKJagI",
    "outputId": "62e65d97-17c3-43bc-e291-7621a477df89"
   },
   "outputs": [],
   "source": [
    "dff[\"d450_idx\"] = dff[\"d450\"].cat.codes.astype(int)\n",
    "dff[\"d455_idx\"] = dff[\"d455\"].cat.codes.astype(int)\n",
    "dff[\"d450_num\"] = dff[\"d450_idx\"].copy()\n",
    "dff[\"d455_num\"] = dff[\"d455_idx\"].copy()\n",
    "\n",
    "dffx_num = (dff[fts_num] - MNS) / SDEVS\n",
    "icptf = pd.Series(np.ones(len(dff)), name=\"intercept\", index=dffx_num.index)\n",
    "\n",
    "# # concat including y_idx which will be used as observed\n",
    "dffx = pd.concat((dff[fts_y], icptf, dff[fts_non_num], dffx_num), axis=1)\n",
    "dffx.sample(5, random_state=42)"
   ]
  },
  {
   "cell_type": "markdown",
   "metadata": {
    "id": "_yElRoLOJagI"
   },
   "source": [
    "---\n",
    "\n",
    "---"
   ]
  },
  {
   "cell_type": "markdown",
   "metadata": {
    "id": "N2cUJGMIJagI"
   },
   "source": [
    "# 1. Model A: The Wrong Way - Simple Linear Coefficients"
   ]
  },
  {
   "cell_type": "markdown",
   "metadata": {
    "id": "lGfgwVD1JagI"
   },
   "source": [
    "This is a simple linear model where we acknowledge that the categorical features are ordered, but ignore that the\n",
    "impact of the factor-values on the coefficient might not be equally-spaced, and instead just assume equal spacing:\n",
    "\n",
    "$$\n",
    "\\begin{align}\n",
    "\\sigma_{\\beta} &\\sim \\text{InverseGamma}(11, 10)  \\\\\n",
    "\\beta &\\sim \\text{Normal}(0, \\sigma_{\\beta}, \\text{shape}=j)  \\\\\n",
    "\\\\\n",
    "\\text{lm} &= \\beta^{T}\\mathbb{x}_{i,j}  \\\\\n",
    "\\epsilon &\\sim \\text{InverseGamma}(11, 10)  \\\\\n",
    "\\hat{y_{i}} &\\sim \\text{Normal}(\\mu=\\text{lm}, \\epsilon)  \\\\\n",
    "\\end{align}\n",
    "$$\n",
    "\n",
    "where:\n",
    "+ Observations $i$ contain numeric features $j$, and $\\hat{y_{i}}$ is our estimate, here of `phcs`\n",
    "+ The linear sub-model $\\beta^{T}\\mathbb{x}_{ij}$ lets us regress onto those features\n",
    "+ Notably:\n",
    "    + $\\mathbb{x}_{i,d450}$ is treated as a numeric feature\n",
    "    + $\\mathbb{x}_{i,d455}$ is treated as a numeric feature"
   ]
  },
  {
   "cell_type": "markdown",
   "metadata": {
    "id": "4NTdcod5JagI"
   },
   "source": [
    "## 1.1 Build Model Object"
   ]
  },
  {
   "cell_type": "code",
   "execution_count": 20,
   "metadata": {
    "id": "WgA3vejIJagI"
   },
   "outputs": [],
   "source": [
    "ft_y = \"phcs\"\n",
    "fts_x = [\"intercept\", \"d450_num\", \"d455_num\"]\n",
    "\n",
    "COORDS = dict(oid=dfx.index.values, y_nm=ft_y, x_nm=fts_x)"
   ]
  },
  {
   "cell_type": "code",
   "execution_count": 21,
   "metadata": {
    "colab": {
     "base_uri": "https://localhost:8080/",
     "height": 35
    },
    "id": "aejLD20fJagI",
    "outputId": "52fea489-cf9c-4dbd-bfa7-ab39d5513bfa"
   },
   "outputs": [],
   "source": [
    "with pm.Model(coords=COORDS) as mdla:\n",
    "    # 0. create (Mutable)Data containers for obs (Y, X)\n",
    "    y = pm.Data(\"y\", dfx[ft_y].values, dims=\"oid\")  # (i, )\n",
    "    x = pm.Data(\"x\", dfx[fts_x].values, dims=(\"oid\", \"x_nm\"))  # (i, x)\n",
    "\n",
    "    # 1. define priors for numeric exogs\n",
    "    b_s = pm.InverseGamma(\"beta_sigma\", alpha=11, beta=10)  # (1, )\n",
    "    b = pm.Normal(\"beta\", mu=0, sigma=b_s, dims=\"x_nm\")  # (x, )\n",
    "\n",
    "    # 2. define likelihood\n",
    "    epsilon = pm.InverseGamma(\"epsilon\", alpha=11, beta=10)\n",
    "    _ = pm.Normal(\"phcs_hat\", mu=pt.dot(x, b.T), sigma=epsilon, observed=y, dims=\"oid\")\n",
    "\n",
    "RVS_PPC = [\"phcs_hat\"]\n",
    "RVS_SIMPLE_COMMON = [\"beta_sigma\", \"beta\", \"epsilon\"]"
   ]
  },
  {
   "cell_type": "markdown",
   "metadata": {},
   "source": [
    "##### Verify the built model structure matches our intent, and validate the parameterization"
   ]
  },
  {
   "cell_type": "code",
   "execution_count": null,
   "metadata": {
    "colab": {
     "base_uri": "https://localhost:8080/",
     "height": 720
    },
    "id": "sxvwwMBPJagI",
    "outputId": "7f26512f-5051-404a-ee5d-63810ba08850"
   },
   "outputs": [],
   "source": [
    "display(pm.model_to_graphviz(mdla, formatting=\"plain\"))\n",
    "display(dict(unobserved=mdla.unobserved_RVs, observed=mdla.observed_RVs))\n",
    "assert_no_rvs(mdla.logp())\n",
    "mdla.debug(fn=\"logp\", verbose=True)\n",
    "mdla.debug(fn=\"random\", verbose=True)"
   ]
  },
  {
   "cell_type": "markdown",
   "metadata": {
    "id": "TcfwZvsQJagI"
   },
   "source": [
    "## 1.2 Sample Prior Predictive, View Diagnostics"
   ]
  },
  {
   "cell_type": "code",
   "execution_count": null,
   "metadata": {
    "id": "tQi_IDRuJagI"
   },
   "outputs": [],
   "source": [
    "with mdla:\n",
    "    ida = pm.sample_prior_predictive(\n",
    "        var_names=RVS_PPC + RVS_SIMPLE_COMMON,\n",
    "        samples=2000,\n",
    "        return_inferencedata=True,\n",
    "        random_seed=42,\n",
    "    )"
   ]
  },
  {
   "cell_type": "markdown",
   "metadata": {
    "id": "DSnsELyLJagI"
   },
   "source": [
    "### 1.2.1 In-Sample Prior PPC (Retrodictive Check)"
   ]
  },
  {
   "cell_type": "code",
   "execution_count": null,
   "metadata": {
    "colab": {
     "base_uri": "https://localhost:8080/",
     "height": 255
    },
    "id": "a6YDSKYMJagI",
    "outputId": "9c0b5535-743d-46ca-97ac-42f2b0b8866c"
   },
   "outputs": [],
   "source": [
    "def plot_ppc_retrodictive(idata, group=\"prior\", mdlname=\"mdla\", ynm=\"y\") -> plt.figure:\n",
    "    \"\"\"Convenience plot PPC retrodictive KDE\"\"\"\n",
    "    f, axs = plt.subplots(1, 1, figsize=(12, 3))\n",
    "    _ = az.plot_ppc(idata, group=group, kind=\"kde\", var_names=RVS_PPC, ax=axs, observed=True)\n",
    "    _ = f.suptitle(f\"In-sample {group.title()} PPC Retrodictive KDE on `{ynm}` - `{mdlname}`\")\n",
    "    return f\n",
    "\n",
    "\n",
    "f = plot_ppc_retrodictive(ida, \"prior\", \"mdla\", \"phcs\")"
   ]
  },
  {
   "cell_type": "markdown",
   "metadata": {
    "id": "Mz8ftR_VJagI"
   },
   "source": [
    "**Observe:**\n",
    "\n",
    "+ Values are wrong as expected, but range is reasonable"
   ]
  },
  {
   "cell_type": "markdown",
   "metadata": {
    "id": "hRlR2bPDJagI"
   },
   "source": [
    "### 1.2.2 Quick look at selected priors"
   ]
  },
  {
   "cell_type": "code",
   "execution_count": null,
   "metadata": {
    "colab": {
     "base_uri": "https://localhost:8080/",
     "height": 173
    },
    "id": "FN8eOipFJagI",
    "outputId": "700d6da8-e867-43f5-db71-ffd0956d825e"
   },
   "outputs": [],
   "source": [
    "def plot_posterior(\n",
    "    idata,\n",
    "    group=\"prior\",\n",
    "    rvs=RVS_SIMPLE_COMMON,\n",
    "    coords=None,\n",
    "    mdlname=\"mdla\",\n",
    "    n=1,\n",
    "    nrows=1,\n",
    ") -> plt.figure:\n",
    "    \"\"\"Convenience plot posterior (or prior) KDE\"\"\"\n",
    "    m = int(np.ceil(n / nrows))\n",
    "    f, axs = plt.subplots(nrows, m, figsize=(2.4 * m, 0.8 + nrows * 1.4))\n",
    "    _ = az.plot_posterior(idata, group=group, ax=axs, var_names=rvs, coords=coords)\n",
    "    _ = f.suptitle(f\"{group.title()} distributions for rvs {rvs} - `{mdlname}\")\n",
    "    _ = f.tight_layout()\n",
    "    return f\n",
    "\n",
    "\n",
    "f = plot_posterior(ida, \"prior\", rvs=RVS_SIMPLE_COMMON, mdlname=\"mdla\", n=1 + 3 + 1, nrows=1)"
   ]
  },
  {
   "cell_type": "markdown",
   "metadata": {
    "id": "Rx_YsUCwJagJ"
   },
   "source": [
    "**Observe:**\n",
    "\n",
    "+ `beta_sigma`, `beta: (levels)`, `epsilon` all have reasonable prior ranges as specified"
   ]
  },
  {
   "cell_type": "markdown",
   "metadata": {
    "id": "PMUtbh_aJagJ"
   },
   "source": [
    "## 1.3 Sample Posterior, View Diagnostics"
   ]
  },
  {
   "cell_type": "markdown",
   "metadata": {
    "id": "TmiH-SbMJagJ"
   },
   "source": [
    "### 1.3.1 Sample Posterior and PPC"
   ]
  },
  {
   "cell_type": "code",
   "execution_count": null,
   "metadata": {
    "colab": {
     "base_uri": "https://localhost:8080/",
     "height": 100,
     "referenced_widgets": [
      "06cc3d00728540e5b575070062775484",
      "0a4168d5e6624e969ad00bedd2857e3a",
      "24f3c3466b984e90871abe6010a00a2b",
      "a013b3649b4f4cffac7cba760e293ce9",
      "75baebed1bf74beca21c1286c418236b",
      "7b9eaf22b36d4d24b61b1e776f0c3048",
      "525e4c51751f461889ce090e0a6d8942",
      "a9b2452905344c76b4d5eaf98f62cbac",
      "2663c7804b6c4d47a9f0c7f5120f0258",
      "28295446a86f427792864bfb5e310ba6"
     ]
    },
    "id": "NDZ1i4wwJagJ",
    "outputId": "d6c45daa-aae2-41b6-cc49-fe3cd82d8d10"
   },
   "outputs": [],
   "source": [
    "with mdla:\n",
    "    ida.extend(pm.sample(**SAMPLE_KWS), join=\"right\")\n",
    "    ida.extend(\n",
    "        pm.sample_posterior_predictive(trace=ida.posterior, var_names=RVS_PPC),\n",
    "        join=\"right\",\n",
    "    )"
   ]
  },
  {
   "cell_type": "markdown",
   "metadata": {
    "id": "UuMXkGdkJagJ"
   },
   "source": [
    "### 1.3.2 Traces"
   ]
  },
  {
   "cell_type": "code",
   "execution_count": null,
   "metadata": {
    "colab": {
     "base_uri": "https://localhost:8080/",
     "height": 619
    },
    "id": "m6lCwXTjJagJ",
    "outputId": "9980067e-fe78-47e2-f486-6e0854f14e23"
   },
   "outputs": [],
   "source": [
    "def plot_traces_and_display_summary(idata, rvs, coords=None, mdlname=\"mdla\") -> plt.figure:\n",
    "    \"\"\"Convenience to plot traces and display summary table for rvs\"\"\"\n",
    "    _ = az.plot_trace(idata, var_names=rvs, coords=coords, figsize=(12, 1.4 * len(rvs)))\n",
    "    f = plt.gcf()\n",
    "    _ = f.suptitle(f\"Posterior traces of {rvs} - `{mdlname}`\")\n",
    "    _ = f.tight_layout()\n",
    "    _ = az.plot_energy(idata, fill_alpha=(0.8, 0.6), fill_color=(\"C0\", \"C8\"), figsize=(12, 1.6))\n",
    "    display(az.summary(idata, var_names=rvs))\n",
    "    return f\n",
    "\n",
    "\n",
    "f = plot_traces_and_display_summary(ida, rvs=RVS_SIMPLE_COMMON, mdlname=\"mdla\")"
   ]
  },
  {
   "cell_type": "markdown",
   "metadata": {
    "id": "nm1bL8HqJagJ"
   },
   "source": [
    "**Observe:**\n",
    "\n",
    "+ Samples well-mixed and well-behaved\n",
    "  + `ess_bulk` is good, `r_hat` is good\n",
    "+ Marginal energy | energy transition looks reasonable\n",
    "  + `E-BFMI > 0.3` so [apparently reasonable](https://python.arviz.org/en/stable/api/generated/arviz.bfmi.html#arviz.bfmi)"
   ]
  },
  {
   "cell_type": "markdown",
   "metadata": {
    "id": "P5oMtpRUJagJ"
   },
   "source": [
    "### 1.3.3 In-Sample Posterior PPC (Retrodictive Check)"
   ]
  },
  {
   "cell_type": "code",
   "execution_count": null,
   "metadata": {
    "colab": {
     "base_uri": "https://localhost:8080/",
     "height": 255
    },
    "id": "4XRuM0y6JagJ",
    "outputId": "4b1370cc-865a-462d-850e-801d38cbf460"
   },
   "outputs": [],
   "source": [
    "f = plot_ppc_retrodictive(ida, \"posterior\", \"mdla\", \"phcs\")"
   ]
  },
  {
   "cell_type": "markdown",
   "metadata": {
    "id": "ip_usejdJagJ"
   },
   "source": [
    "**Observe:**\n",
    "\n",
    "+ In-sample PPC `phcs_hat` tracks the observed `phcs` moderately well: slightly overdispersed, perhaps a likelihood\n",
    "  with fatter tails would be more appropriate (e.g. StudentT)"
   ]
  },
  {
   "cell_type": "markdown",
   "metadata": {
    "id": "k91trZaJJagJ"
   },
   "source": [
    "### 1.3.4 In-Sample PPC LOO-PIT"
   ]
  },
  {
   "cell_type": "code",
   "execution_count": null,
   "metadata": {
    "colab": {
     "base_uri": "https://localhost:8080/",
     "height": 187
    },
    "id": "4-MDBU4fJagJ",
    "outputId": "14deb0a9-e51d-44e2-91f7-acbf7e1faca0"
   },
   "outputs": [],
   "source": [
    "def plot_loo_pit(idata, mdlname=\"mdla\", y=\"phcs_hat\", y_hat=\"phcs_hat\"):\n",
    "    \"\"\"Convenience plot LOO-PIT KDE and ECDF\"\"\"\n",
    "    f, axs = plt.subplots(1, 2, figsize=(12, 2.4))\n",
    "    _ = az.plot_loo_pit(idata, y=y, y_hat=y_hat, ax=axs[0])\n",
    "    _ = az.plot_loo_pit(idata, y=y, y_hat=y_hat, ax=axs[1], ecdf=True)\n",
    "    _ = axs[0].set_title(f\"Predicted `{y_hat}` LOO-PIT\")\n",
    "    _ = axs[1].set_title(f\"Predicted `{y_hat}` LOO-PIT cumulative\")\n",
    "    _ = f.suptitle(f\"In-sample LOO-PIT `{mdlname}`\")\n",
    "    _ = f.tight_layout()\n",
    "    return f\n",
    "\n",
    "\n",
    "f = plot_loo_pit(ida, \"mdla\")"
   ]
  },
  {
   "cell_type": "markdown",
   "metadata": {
    "id": "doYARdL9JagJ"
   },
   "source": [
    "**Observe:**\n",
    "\n",
    "+ `LOO-PIT` looks good, again slightly overdispersed but acceptable for use"
   ]
  },
  {
   "cell_type": "markdown",
   "metadata": {
    "id": "OB14RVBUJagJ"
   },
   "source": [
    "### ~~1.3.5 Compare Log-Likelihood vs Other Models~~"
   ]
  },
  {
   "cell_type": "code",
   "execution_count": 30,
   "metadata": {
    "id": "ZMXs0ZeMJagJ"
   },
   "outputs": [],
   "source": [
    "# Nothing to compare yet"
   ]
  },
  {
   "cell_type": "markdown",
   "metadata": {
    "id": "Px1R5oZeJagJ"
   },
   "source": [
    "## 1.4 Evaluate Posterior Parameters"
   ]
  },
  {
   "cell_type": "markdown",
   "metadata": {
    "id": "hUjhq92mJagJ"
   },
   "source": [
    "### 1.4.1 Univariate"
   ]
  },
  {
   "cell_type": "markdown",
   "metadata": {
    "id": "uHnzMgRyJagJ"
   },
   "source": [
    "Lots of parameters, let's take our time"
   ]
  },
  {
   "cell_type": "code",
   "execution_count": null,
   "metadata": {
    "colab": {
     "base_uri": "https://localhost:8080/",
     "height": 173
    },
    "id": "1bJK1kGrJagK",
    "outputId": "c5aa010c-cc07-4f3a-ff4b-42a7324801cd"
   },
   "outputs": [],
   "source": [
    "f = plot_posterior(ida, \"posterior\", rvs=RVS_SIMPLE_COMMON, mdlname=\"mdla\", n=5, nrows=1)"
   ]
  },
  {
   "cell_type": "markdown",
   "metadata": {
    "id": "YAvUagbDJagK"
   },
   "source": [
    "**Observe:**\n",
    "\n",
    "+ `beta_sigma`: `E ~ 10` indicates need for high variance in locations of `beta`s\n",
    "+ `beta: intercept`: `E ~ 32` confirms the bulk of the variance in `beta`s locations is simply due to the intercept\n",
    "    offset required to get the zscored values into range of `phcs`, no problem\n",
    "+ `beta: d450_num`: `E ~ -3` negative, HDI94 does not span 0, substantial effect, smooth central distribution:\n",
    "  + Higher values of `d450_num` create a reduction in `phcs_hat`\n",
    "+ `beta: d455_num`: `E ~ -2` negative, HDI94 does not span 0, substantial effect, smooth central distribution\n",
    "  + Higher values of `d455_num` create a smaller reduction in `phcs_hat`\n",
    "+ `epsilon`: `E ~ 7` indicates quite a lot of variance still in the data, not yet handled by a modelled feature"
   ]
  },
  {
   "cell_type": "markdown",
   "metadata": {
    "id": "J46NaedMJagK"
   },
   "source": [
    "## 1.5 Create PPC Forecast on simplified `forecast` set"
   ]
  },
  {
   "cell_type": "markdown",
   "metadata": {
    "id": "yrrzYjmhJagK"
   },
   "source": [
    "Just for completeness, just compare to Figure 3 in the Bürkner paper and Rochford's\n",
    "blogpost. Those plots summarize to a mean though, which seems unneccesary - let's\n",
    "improve it a little with full sample posteriors"
   ]
  },
  {
   "cell_type": "markdown",
   "metadata": {
    "id": "X4XB1eiwJagK"
   },
   "source": [
    "##### Replace dataset with `dffx` and rebuild"
   ]
  },
  {
   "cell_type": "code",
   "execution_count": null,
   "metadata": {
    "colab": {
     "base_uri": "https://localhost:8080/",
     "height": 720
    },
    "id": "x3YSDHhyJagK",
    "outputId": "649c2ff0-09a1-4006-f7a5-4ae0500b3a42"
   },
   "outputs": [],
   "source": [
    "COORDS_F = deepcopy(COORDS)\n",
    "COORDS_F[\"oid\"] = dffx.index.values\n",
    "mdla.set_data(\"y\", dffx[ft_y].values, coords=COORDS_F)\n",
    "mdla.set_data(\"x\", dffx[fts_x].values, coords=COORDS_F)\n",
    "\n",
    "display(pm.model_to_graphviz(mdla, formatting=\"plain\"))\n",
    "assert_no_rvs(mdla.logp())\n",
    "mdla.debug(fn=\"logp\", verbose=True)\n",
    "mdla.debug(fn=\"random\", verbose=True)"
   ]
  },
  {
   "cell_type": "code",
   "execution_count": null,
   "metadata": {
    "colab": {
     "base_uri": "https://localhost:8080/",
     "height": 34,
     "referenced_widgets": [
      "0a60c8d42b27478a9c684057d6fa9e15",
      "12afca8696704967a11afcda55c9999b"
     ]
    },
    "id": "1o8-uBpvJagK",
    "outputId": "96e6e8a6-e45c-46a2-f2f3-d45bd40544b0"
   },
   "outputs": [],
   "source": [
    "with mdla:\n",
    "    ida_ppc = pm.sample_posterior_predictive(\n",
    "        trace=ida.posterior, var_names=RVS_PPC, predictions=True\n",
    "    )"
   ]
  },
  {
   "cell_type": "markdown",
   "metadata": {
    "id": "mYQP_-3lJagK"
   },
   "source": [
    "### 1.5.2 View Predictions"
   ]
  },
  {
   "cell_type": "code",
   "execution_count": null,
   "metadata": {
    "colab": {
     "base_uri": "https://localhost:8080/",
     "height": 440
    },
    "id": "cPDzQbRhJagK",
    "outputId": "2956df0c-3794-4430-9bbe-27d315c7eafd"
   },
   "outputs": [],
   "source": [
    "def plot_predicted_phcshat_d450_d455(idata, mdlname) -> plt.Figure:\n",
    "    \"\"\"Convenience to plot predicted phcs_hat vs d450 and d455\"\"\"\n",
    "    phcs_hat = (\n",
    "        az.extract(idata, group=\"predictions\", var_names=[\"phcs_hat\"])\n",
    "        .to_dataframe()\n",
    "        .drop([\"chain\", \"draw\"], axis=1)\n",
    "    )\n",
    "    dfppc = pd.merge(\n",
    "        phcs_hat.reset_index(),\n",
    "        dff[[\"d450\", \"d455\"]].reset_index(),\n",
    "        how=\"left\",\n",
    "        on=\"oid\",\n",
    "    )\n",
    "\n",
    "    kws = dict(\n",
    "        y=\"phcs_hat\",\n",
    "        data=dfppc,\n",
    "        linestyles=\":\",\n",
    "        estimator=\"mean\",\n",
    "        errorbar=(\"pi\", 94),\n",
    "        dodge=0.2,\n",
    "    )\n",
    "\n",
    "    f, axs = plt.subplots(1, 2, figsize=(12, 6), sharey=True)\n",
    "    _ = sns.pointplot(x=\"d450\", hue=\"d455\", **kws, ax=axs[0], palette=\"plasma_r\")\n",
    "    _ = sns.pointplot(x=\"d455\", hue=\"d450\", **kws, ax=axs[1], palette=\"viridis_r\")\n",
    "    _ = [axs[i].set_title(t) for i, t in enumerate([\"d450 x d455\", \"d455 x d450\"])]\n",
    "    _ = f.suptitle(\n",
    "        \"Domain specific plot of posterior predicted `phcs_hat`\"\n",
    "        + f\" vs `d450` and `d455` - `{mdlname}`\"\n",
    "    )\n",
    "    _ = f.tight_layout()\n",
    "\n",
    "\n",
    "plot_predicted_phcshat_d450_d455(idata=ida_ppc, mdlname=\"mdla\")"
   ]
  },
  {
   "cell_type": "markdown",
   "metadata": {
    "id": "fwOSEYPWJagK"
   },
   "source": [
    "**Observe:**\n",
    "\n",
    "+ Compare this to the final plots in {cite:p}`rochford2018` and Figure 12 in {cite:p}`burkner2018`\n",
    "+ We see the linear responses and equal spacings of `d450` and of `d455` when treated as numeric values\n",
    "+ We also see that `mdla` technically can make predictions for `d450=c4` which is not seen in the data. However, this\n",
    "  prediction is a purely linear extrapolation and although helpful in a sense, could be completely and misleadingly\n",
    "  wrong in this model specification\n",
    "+ Note here we plot the full posteriors on each datapoint (rather than summarise to a mean) which emphasises\n",
    "  the large amount of variance still in the data & model"
   ]
  },
  {
   "cell_type": "markdown",
   "metadata": {
    "id": "Ajjap-FZJagK"
   },
   "source": [
    "---\n",
    "\n",
    "---"
   ]
  },
  {
   "cell_type": "markdown",
   "metadata": {
    "id": "JB7H8-u4JagK"
   },
   "source": [
    "# 2. Model B: A Better Way - Dirichlet Hyperprior Allocator"
   ]
  },
  {
   "cell_type": "markdown",
   "metadata": {
    "id": "bhFPL8KhJagK"
   },
   "source": [
    "This is an improved linear model where we acknowledge that the categorical features are ordinal _and_ allow the ordinal\n",
    "values to have a non-equal spacing, For example, it might well be that `A > B > C`, but the spacing is not metric:\n",
    "instead `A >>> B > C`. We achieve this using a Dirichlet hyperprior to allocate hetrogenously spaced sections of a\n",
    "linear ceofficient:\n",
    "\n",
    "$$\n",
    "\\begin{align}\n",
    "\\sigma_{\\beta} &\\sim \\text{InverseGamma}(11, 10)  \\\\\n",
    "\\beta &\\sim \\text{Normal}(0, \\sigma_{\\beta}, \\text{shape}=j)  \\\\\n",
    "\\\\\n",
    "\\beta_{d450} &\\sim \\text{Normal}(0, \\sigma_{\\beta})  \\\\\n",
    "\\chi_{d450} &\\sim \\text{Dirichlet}(1, \\text{shape}=k_{d450})  \\\\\n",
    "\\nu_{d450} &\\sim \\beta_{d450} * \\sum_{i=0}^{i=k_{d450}}\\chi_{d450} \\\\\n",
    "\\\\\n",
    "\\beta_{d455} &\\sim \\text{Normal}(0, \\sigma_{\\beta})  \\\\\n",
    "\\chi_{d455} &\\sim \\text{Dirichlet}(1, \\text{shape}=k_{d455})  \\\\\n",
    "\\nu_{d455} &\\sim \\beta_{d455} * \\sum_{i=0}^{i=k_{d455}}\\chi_{d455} \\\\\n",
    "\\\\\n",
    "lm &= \\beta^{T}\\mathbb{x}_{i,j} + \\nu_{d450}[x_{i,d450}] + \\nu_{d455}[x_{i,d455}]\\\\\n",
    "\\epsilon &\\sim \\text{InverseGamma}(11, 10)  \\\\\n",
    "\\hat{y_{i}} &\\sim \\text{Normal}(\\mu=lm, \\epsilon)  \\\\\n",
    "\\end{align}\n",
    "$$\n",
    "\n",
    "where:\n",
    "+ Observations $i$ contain numeric features $j$ and ordinal categorical features $k$ (here `d450, d455`) which each \n",
    "  have factor value levels $k_{d450}, k_{d455}$ and note per Section 0, these are both in range `[0 - 4]` as recorded \n",
    "  by notebook variable `LVLS_D450_D455`\n",
    "+ $\\hat{y_{i}}$ is our estimate, here of `phcs`\n",
    "+ The linear sub-model $lm = \\beta^{T}\\mathbb{x}_{i,j} + \\nu_{d450}[x_{i,d450}] + \\nu_{d455}[x_{i,d455}]$ lets us\n",
    "  regress onto those features\n",
    "+ Notably:\n",
    "    + $\\mathbb{x}_{i,d450}$ is treated as an ordinal feature and used to index $\\nu_{d450}[x_{i,d450}]$\n",
    "    + $\\mathbb{x}_{i,d455}$ is treated as an ordinal feature and used to index $\\nu_{d455}[x_{i,d455}]$\n",
    "+ NOTE: The above spec is not particuarly optimised / vectorised / DRY to aid explanation"
   ]
  },
  {
   "cell_type": "markdown",
   "metadata": {
    "id": "F47aQhT2JagK"
   },
   "source": [
    "## 2.1 Build Model Object"
   ]
  },
  {
   "cell_type": "code",
   "execution_count": 35,
   "metadata": {
    "id": "DWlbRSj_JagK"
   },
   "outputs": [],
   "source": [
    "ft_y = \"phcs\"\n",
    "fts_x = [\"intercept\"]\n",
    "# NOTE fts_ord = ['d450_idx', 'd455_idx']\n",
    "\n",
    "COORDS = dict(\n",
    "    oid=dfx.index.values,\n",
    "    y_nm=ft_y,\n",
    "    x_nm=fts_x,\n",
    "    d450_nm=LVLS_D450_D455,  # not list(df[d450].cat.categories) because c4 missing\n",
    "    d455_nm=list(df[\"d455\"].cat.categories),\n",
    ")"
   ]
  },
  {
   "cell_type": "code",
   "execution_count": 36,
   "metadata": {
    "colab": {
     "base_uri": "https://localhost:8080/",
     "height": 196
    },
    "id": "ZyP0P29AJagK",
    "outputId": "2f5e3717-7549-43d0-a334-7875b3871dcd"
   },
   "outputs": [],
   "source": [
    "with pm.Model(coords=COORDS) as mdlb:\n",
    "    # NOTE: Spec not particuarly optimised / vectorised / DRY to aid explanation\n",
    "\n",
    "    # 0. create (Mutable)Data containers for obs (Y, X)\n",
    "    y = pm.Data(\"y\", dfx[ft_y].values, dims=\"oid\")  # (i, )\n",
    "    x = pm.Data(\"x\", dfx[fts_x].values, dims=(\"oid\", \"x_nm\"))  # (i, x)\n",
    "    idx_d450 = pm.Data(\"idx_d450\", dfx[\"d450_idx\"].values, dims=\"oid\")  # (i, )\n",
    "    idx_d455 = pm.Data(\"idx_d455\", dfx[\"d455_idx\"].values, dims=\"oid\")  # (i, )\n",
    "\n",
    "    # 1. define priors for numeric exogs\n",
    "    b_s = pm.InverseGamma(\"beta_sigma\", alpha=11, beta=10)  # (1, )\n",
    "    b = pm.Normal(\"beta\", mu=0, sigma=b_s, dims=\"x_nm\")  # (x, )\n",
    "\n",
    "    # 2. define nu\n",
    "    def _get_nu(nm, dim):\n",
    "        \"\"\"Partition continous prior into ordinal chunks\"\"\"\n",
    "        b0 = pm.Normal(f\"beta_{nm}\", mu=0, sigma=b_s)  # (1, )\n",
    "        c0 = pm.Dirichlet(f\"chi_{nm}\", a=np.ones(len(COORDS[dim])), dims=dim)  # (lvls, )\n",
    "        return pm.Deterministic(f\"nu_{nm}\", b0 * c0.cumsum(), dims=dim)  # (lvls, )\n",
    "\n",
    "    nu_d450 = _get_nu(\"d450\", \"d450_nm\")\n",
    "    nu_d455 = _get_nu(\"d455\", \"d455_nm\")\n",
    "\n",
    "    # 3. define likelihood\n",
    "    epsilon = pm.InverseGamma(\"epsilon\", alpha=11, beta=10)\n",
    "    _ = pm.Normal(\n",
    "        \"phcs_hat\",\n",
    "        mu=pt.dot(x, b.T) + nu_d450[idx_d450] + nu_d455[idx_d455],\n",
    "        sigma=epsilon,\n",
    "        observed=y,\n",
    "        dims=\"oid\",\n",
    "    )\n",
    "\n",
    "rvs_simple = RVS_SIMPLE_COMMON + [\"beta_d450\", \"beta_d455\"]\n",
    "rvs_d450 = [\"chi_d450\", \"nu_d450\"]\n",
    "rvs_d455 = [\"chi_d455\", \"nu_d455\"]"
   ]
  },
  {
   "cell_type": "markdown",
   "metadata": {},
   "source": [
    "##### Verify the built model structure matches our intent, and validate the parameterization"
   ]
  },
  {
   "cell_type": "code",
   "execution_count": null,
   "metadata": {
    "colab": {
     "base_uri": "https://localhost:8080/",
     "height": 877
    },
    "id": "GlUShTelJagK",
    "outputId": "049b9d63-b975-4dec-e42b-3a4e07372c5b"
   },
   "outputs": [],
   "source": [
    "display(pm.model_to_graphviz(mdlb, formatting=\"plain\"))\n",
    "display(dict(unobserved=mdlb.unobserved_RVs, observed=mdlb.observed_RVs))\n",
    "assert_no_rvs(mdlb.logp())\n",
    "mdlb.debug(fn=\"logp\", verbose=True)\n",
    "mdlb.debug(fn=\"random\", verbose=True)"
   ]
  },
  {
   "cell_type": "markdown",
   "metadata": {
    "id": "ESP0PWjUJagL"
   },
   "source": [
    "## 2.2 Sample Prior Predictive, View Diagnostics"
   ]
  },
  {
   "cell_type": "code",
   "execution_count": null,
   "metadata": {
    "id": "Om4K71WcJagL"
   },
   "outputs": [],
   "source": [
    "with mdlb:\n",
    "    idb = pm.sample_prior_predictive(\n",
    "        var_names=RVS_PPC + rvs_simple + rvs_d450 + rvs_d455,\n",
    "        samples=2000,\n",
    "        return_inferencedata=True,\n",
    "        random_seed=42,\n",
    "    )"
   ]
  },
  {
   "cell_type": "markdown",
   "metadata": {
    "id": "ly-Wghq9JagL"
   },
   "source": [
    "### 2.2.1 In-Sample Prior PPC (Retrodictive Check)"
   ]
  },
  {
   "cell_type": "code",
   "execution_count": null,
   "metadata": {
    "colab": {
     "base_uri": "https://localhost:8080/",
     "height": 255
    },
    "id": "0YpdzHXLJagL",
    "outputId": "3b769a22-07d0-4a3b-dac9-cb2f16c645cd"
   },
   "outputs": [],
   "source": [
    "f = plot_ppc_retrodictive(idb, \"prior\", \"mdlb\", \"phcs\")"
   ]
  },
  {
   "cell_type": "markdown",
   "metadata": {
    "id": "w_sXdKypJagL"
   },
   "source": [
    "**Observe:**\n",
    "\n",
    "+ Values are wrong as expected, but range is reasonable"
   ]
  },
  {
   "cell_type": "markdown",
   "metadata": {
    "id": "8PIphhhVJagL"
   },
   "source": [
    "### 2.2.2 Quick look at selected priors"
   ]
  },
  {
   "cell_type": "code",
   "execution_count": null,
   "metadata": {
    "colab": {
     "base_uri": "https://localhost:8080/",
     "height": 683
    },
    "id": "QnsGBp2-JagL",
    "outputId": "be8acc83-5c8b-4b0f-8eac-1b8aec23c0f2"
   },
   "outputs": [],
   "source": [
    "f = plot_posterior(idb, \"prior\", rvs=rvs_simple, mdlname=\"mdlb\", n=5, nrows=1)\n",
    "f = plot_posterior(idb, \"prior\", rvs=rvs_d450, mdlname=\"mdlb\", n=5 * 2, nrows=2)\n",
    "f = plot_posterior(idb, \"prior\", rvs=rvs_d455, mdlname=\"mdlb\", n=5 * 2, nrows=2)"
   ]
  },
  {
   "cell_type": "markdown",
   "metadata": {
    "id": "AOKrjKQgJagL"
   },
   "source": [
    "**Observe:**\n",
    "\n",
    "+ Several new parameters!\n",
    "+ `beta_sigma`, `beta: (levels)`, `epsilon`: all have reasonable prior ranges as specified\n",
    "+ `*_d450`:\n",
    "  + `chi_*`: obey the simplex constraint of the Dirichlet and span the range\n",
    "  + `nu_*`: all reasonable as specified, note the ordering already present in the prior\n",
    "+ `*_d455`:\n",
    "  + `chi_*`: obey the simplex constraint of the Dirichlet and span the range\n",
    "  + `nu_*`: all reasonable as specified, note the ordering already present in the prior"
   ]
  },
  {
   "cell_type": "markdown",
   "metadata": {
    "id": "EYSLAdHvJagL"
   },
   "source": [
    "## 2.3 Sample Posterior, View Diagnostics"
   ]
  },
  {
   "cell_type": "markdown",
   "metadata": {
    "id": "VAB-af9QJagL"
   },
   "source": [
    "### 2.3.1 Sample Posterior and PPC"
   ]
  },
  {
   "cell_type": "code",
   "execution_count": null,
   "metadata": {
    "colab": {
     "base_uri": "https://localhost:8080/",
     "height": 117,
     "referenced_widgets": [
      "0d589c6414744b46b26ab53684a46a6c",
      "186760fa868747e0a725b0ebfc236c60",
      "a1015cbb012a43c48d86a5bdf03fa0dc",
      "c01d887394474462a3cfc601ea40dc13",
      "7ff6e1d26b3a4c40bf34d7cafd84f51d",
      "1fabd430cd72478780ac4b10b1bef4ec",
      "e4addbe432cd42ce92f694e7517d0a6c",
      "e0ec99304ad442a881d0522376972bc1",
      "8756d6e881344e099dcb7b2f737e3958",
      "c209b8e19bed4966a4aa3445babac4da"
     ]
    },
    "id": "uMoTtZA-JagL",
    "outputId": "97c84404-6427-4bf4-ccb5-eb0057097c69"
   },
   "outputs": [],
   "source": [
    "SAMPLE_KWS[\"target_accept\"] = 0.9  # raise to mitigate some minor divergences\n",
    "with mdlb:\n",
    "    idb.extend(pm.sample(**SAMPLE_KWS), join=\"right\")\n",
    "    idb.extend(\n",
    "        pm.sample_posterior_predictive(trace=idb.posterior, var_names=RVS_PPC),\n",
    "        join=\"right\",\n",
    "    )"
   ]
  },
  {
   "cell_type": "markdown",
   "metadata": {
    "id": "4sl9cFicJagL"
   },
   "source": [
    "### 2.3.2 Traces"
   ]
  },
  {
   "cell_type": "code",
   "execution_count": null,
   "metadata": {
    "colab": {
     "base_uri": "https://localhost:8080/",
     "height": 1000
    },
    "id": "CWgQdiUoJagL",
    "outputId": "933701f3-4e28-4383-b21d-9d6c6e9288e7"
   },
   "outputs": [],
   "source": [
    "f = plot_traces_and_display_summary(idb, rvs=rvs_simple + rvs_d450 + rvs_d455, mdlname=\"mdlb\")"
   ]
  },
  {
   "cell_type": "markdown",
   "metadata": {
    "id": "q-1uU-m6JagL"
   },
   "source": [
    "**Observe:**\n",
    "\n",
    "+ Samples well-mixed and well-behaved, but note we raised `target_accept=0.9` to mitigate / avoid divergences seen at `0.8`\n",
    "  + `ess_bulk` a little low, `r_hat` is okay\n",
    "+ Marginal energy | energy transition looks reasonable\n",
    "  + `E-BFMI > 0.3` so [apparently reasonable](https://python.arviz.org/en/stable/api/generated/arviz.bfmi.html#arviz.bfmi)"
   ]
  },
  {
   "cell_type": "markdown",
   "metadata": {
    "id": "0Eha32LhJagL"
   },
   "source": [
    "### 2.3.3 In-Sample Posterior PPC (Retrodictive Check)"
   ]
  },
  {
   "cell_type": "code",
   "execution_count": null,
   "metadata": {
    "colab": {
     "base_uri": "https://localhost:8080/",
     "height": 255
    },
    "id": "0RgDbOKyJagL",
    "outputId": "3950cd3e-a882-456f-f25a-047f13890e4f"
   },
   "outputs": [],
   "source": [
    "f = plot_ppc_retrodictive(idb, \"posterior\", \"mdlb\", \"phcs\")"
   ]
  },
  {
   "cell_type": "markdown",
   "metadata": {
    "id": "mAHvrR8tJagL"
   },
   "source": [
    "**Observe:**\n",
    "\n",
    "+ In-sample PPC `phcs_hat` tracks the observed `phcs` moderately well: slightly overdispersed, perhaps a likelihood\n",
    "  with fatter tails would be more appropriate (e.g. StudentT)"
   ]
  },
  {
   "cell_type": "markdown",
   "metadata": {
    "id": "jB3nKvyrJagL"
   },
   "source": [
    "### 2.3.4 In-Sample PPC LOO-PIT"
   ]
  },
  {
   "cell_type": "code",
   "execution_count": null,
   "metadata": {
    "colab": {
     "base_uri": "https://localhost:8080/",
     "height": 187
    },
    "id": "gzVgnVAqJagL",
    "outputId": "bf747f62-d0cb-41a3-f55d-ab03e6a42c3a"
   },
   "outputs": [],
   "source": [
    "f = plot_loo_pit(idb, \"mdlb\")"
   ]
  },
  {
   "cell_type": "markdown",
   "metadata": {
    "id": "WM2VArBVJagL"
   },
   "source": [
    "**Observe:**\n",
    "\n",
    "+ `LOO-PIT` looks good, again slightly overdispersed but acceptable for use"
   ]
  },
  {
   "cell_type": "markdown",
   "metadata": {
    "id": "c0P-PWIwJagM"
   },
   "source": [
    "### 2.3.5 Compare Log-Likelihood vs Other Models"
   ]
  },
  {
   "cell_type": "code",
   "execution_count": null,
   "metadata": {
    "colab": {
     "base_uri": "https://localhost:8080/",
     "height": 324
    },
    "id": "mwiaR6CcJagM",
    "outputId": "53c87454-13b0-40be-b4cf-08764dab5e80"
   },
   "outputs": [],
   "source": [
    "def plot_compare_log_likelihood(idata_dict={}, y_hat=\"phcs_hat\") -> plt.figure:\n",
    "    \"\"\"Convenience to plot comparison for a dict of idatas\"\"\"\n",
    "    dfcomp = az.compare(idata_dict, var_name=y_hat, ic=\"loo\", method=\"stacking\", scale=\"log\")\n",
    "    f, axs = plt.subplots(1, 1, figsize=(12, 2.4 + 0.3 * len(idata_dict)))\n",
    "    _ = az.plot_compare(dfcomp, ax=axs, title=False, textsize=10, legend=False)\n",
    "    _ = f.suptitle(\n",
    "        \"Model Performance Comparison: ELPD via In-Sample LOO-PIT \"\n",
    "        + \" vs \".join(list(idata_dict.keys()))\n",
    "        + \"\\n(higher & narrower is better)\"\n",
    "    )\n",
    "    _ = f.tight_layout()\n",
    "    display(dfcomp)\n",
    "    return f\n",
    "\n",
    "\n",
    "f = plot_compare_log_likelihood(idata_dict={\"mdla\": ida, \"mdlb\": idb})"
   ]
  },
  {
   "cell_type": "markdown",
   "metadata": {
    "id": "VYS6htX1JagM"
   },
   "source": [
    "**Observe:**\n",
    "\n",
    "+ Our new ordinal-respecting `mdlb` appears to be the winner, taking nearly all the weight and a higher `elpd_loo`"
   ]
  },
  {
   "cell_type": "markdown",
   "metadata": {
    "id": "EogKjrVwJagM"
   },
   "source": [
    "## 2.4 Evaluate Posterior Parameters"
   ]
  },
  {
   "cell_type": "markdown",
   "metadata": {
    "id": "W8KfHwERJagM"
   },
   "source": [
    "### 2.4.1 Univariate"
   ]
  },
  {
   "cell_type": "markdown",
   "metadata": {
    "id": "AV6XgCapJagM"
   },
   "source": [
    "Lots of parameters, let's take our time"
   ]
  },
  {
   "cell_type": "code",
   "execution_count": null,
   "metadata": {
    "colab": {
     "base_uri": "https://localhost:8080/",
     "height": 173
    },
    "id": "Wh8MPtTLJagM",
    "outputId": "5614b32c-41ec-4fae-d0f0-d5119c05c415"
   },
   "outputs": [],
   "source": [
    "f = plot_posterior(idb, \"posterior\", rvs=rvs_simple, mdlname=\"mdlb\", n=5, nrows=1)"
   ]
  },
  {
   "cell_type": "markdown",
   "metadata": {
    "id": "qh9nt0IhJagM"
   },
   "source": [
    "**Observe:**\n",
    "\n",
    "+ `beta_sigma`: `E ~ 12` indicates need for high variance in locations of `beta`s\n",
    "+ `beta: intercept`: `E ~ 41` confirms the bulk of the variance in `beta`s locations is simply due to the intercept\n",
    "    offset required to get the zscored values into range of `phcs`, no problem\n",
    "+ `epsilon`: `E ~ 7` indicates quite a lot of variance still in the data, not yet handled by a modelled feature\n",
    "+ `beta: d450`: `E ~ -12` negative, HDI94 does not span 0, substantial effect, smooth central distribution:\n",
    "  + Higher indexes of `d450_idx` create a reduction in `phcs_hat`\n",
    "+ `beta: d455`: `E ~ -7` negative, HDI94 does not span 0, substantial effect, smooth central distribution\n",
    "  + Higher indexes of `d455_idx` create a reduction in `phcs_hat`\n",
    "\n",
    "In general the bigger coefficient values here (vs `mdla`) suggest more disrimination between the values in the data and\n",
    "better performance"
   ]
  },
  {
   "cell_type": "code",
   "execution_count": null,
   "metadata": {
    "colab": {
     "base_uri": "https://localhost:8080/",
     "height": 272
    },
    "id": "WdqLVls4JagM",
    "outputId": "14ab8ce0-8e52-4b85-ae23-23605ba1db87"
   },
   "outputs": [],
   "source": [
    "f = plot_posterior(idb, \"posterior\", rvs=rvs_d450, mdlname=\"mdlb\", n=5 * 2, nrows=2)"
   ]
  },
  {
   "cell_type": "markdown",
   "metadata": {
    "id": "ia14e6n-JagM"
   },
   "source": [
    "**Observe:**\n",
    "\n",
    "Interesting pattern:\n",
    "+ `chi_d450`: Non-linear response throughout the range\n",
    "+ `nu_d450`: The non-linear effect `beta * chi.csum()` is clear, in particular `c0` is far from the trend of `c1, c2, c3`\n",
    "\n",
    "Note in particular that the posterior distribution of `chi_d450 = c4` is almost exactly the \n",
    "same value as for its prior, because it hasn't been evidenced in the dataset. The constraint of the Dirichlet has in\n",
    "turn scaled the values for `chi_d450 = c0 to c3`, the scale of `beta_450`, and downstream effects on `nu_d450 = c4`.\n",
    "\n",
    "For comparison you can try the inferior alternative by setting `COORDS['d450_nm']=list(df[d450].cat.categories)` in the\n",
    "model spec in Section 2.1 and re-running and seeing what happens"
   ]
  },
  {
   "cell_type": "code",
   "execution_count": null,
   "metadata": {
    "colab": {
     "base_uri": "https://localhost:8080/",
     "height": 272
    },
    "id": "QCDyC6gAJagM",
    "outputId": "8a2d7aef-8afe-42ba-ce7e-a321455f26eb"
   },
   "outputs": [],
   "source": [
    "f = plot_posterior(idb, \"posterior\", rvs=rvs_d455, mdlname=\"mdlb\", n=5 * 2, nrows=2)"
   ]
  },
  {
   "cell_type": "markdown",
   "metadata": {
    "id": "fCdxIZ7XJagM"
   },
   "source": [
    "**Observe:**\n",
    "\n",
    "Interesting pattern:\n",
    "+ `chi_d455`: Non-linear response throughout the range\n",
    "+ `nu_d455`: The non-linear effect `beta * chi.csum()` is clear, in particular `c2` is almost the same as `c1`\n",
    "\n",
    "> Let's see those levels forestplotted to make even more clear"
   ]
  },
  {
   "cell_type": "markdown",
   "metadata": {
    "id": "yoicNMViJagM"
   },
   "source": [
    "##### Monotonic priors forestplot"
   ]
  },
  {
   "cell_type": "code",
   "execution_count": null,
   "metadata": {
    "colab": {
     "base_uri": "https://localhost:8080/",
     "height": 357
    },
    "id": "tx3ma1oRJagM",
    "outputId": "9be55708-399c-4f71-9ecf-443e916c2395"
   },
   "outputs": [],
   "source": [
    "def plot_posterior_forest(idata, group=\"posterior\", rv=\"beta\", mdlname=\"mdla\"):\n",
    "    \"\"\"Convenience forestplot posterior (or prior) KDE\"\"\"\n",
    "    f, axs = plt.subplots(1, 1, figsize=(12, 2.4))\n",
    "    _ = az.plot_forest(idata[group], var_names=[rv], ax=axs, combined=True)\n",
    "    _ = f.suptitle(f\"Forestplot of {group.title()} level values for `{rv}` - `{mdlname}`\")\n",
    "    _ = f.tight_layout()\n",
    "    return f\n",
    "\n",
    "\n",
    "f = plot_posterior_forest(idb, \"posterior\", \"nu_d450\", \"mdlb\")\n",
    "f = plot_posterior_forest(idb, \"posterior\", \"nu_d455\", \"mdlb\")"
   ]
  },
  {
   "cell_type": "markdown",
   "metadata": {
    "id": "Rv1UUVf2JagM"
   },
   "source": [
    "**Observe:**\n",
    "\n",
    "Here we see the same patterns in more detail, in particular:\n",
    "+ `nu_d450`: \n",
    "  + `c0` is an outlier with disproportionately less impact than `c1, c2, c3`\n",
    "  + `c4` has been auto-imputed and takes the prior value which has very wide variance around a linear extrapolation\n",
    "+ `nu_d455`: `c1, c2` overlap strongly and so have very similar impact to one another"
   ]
  },
  {
   "cell_type": "markdown",
   "metadata": {
    "id": "iBabtpXpJagM"
   },
   "source": [
    "## 2.5 Create PPC Forecast on simplified `forecast` set"
   ]
  },
  {
   "cell_type": "markdown",
   "metadata": {
    "id": "Y81MC7nlJagM"
   },
   "source": [
    "Just for completeness, just compare to Figure 3 in the Bürkner paper and Rochford's\n",
    "blogpost.\n",
    "\n",
    "Those plots summarize to a mean though, which seems unneccesary - let's improve it a little."
   ]
  },
  {
   "cell_type": "markdown",
   "metadata": {
    "id": "b09YNkSkJagM"
   },
   "source": [
    "### 2.5.1 Replace dataset with `dffx`, rebuild, and sample PPC"
   ]
  },
  {
   "cell_type": "code",
   "execution_count": null,
   "metadata": {
    "colab": {
     "base_uri": "https://localhost:8080/",
     "height": 877
    },
    "id": "Z-0pSJVPJagM",
    "outputId": "61c38a1c-8e54-4fcb-aa59-2d9e3c8cd2cc"
   },
   "outputs": [],
   "source": [
    "COORDS_F = deepcopy(COORDS)\n",
    "COORDS_F[\"oid\"] = dffx.index.values\n",
    "mdlb.set_data(\"y\", dffx[ft_y].values, coords=COORDS_F)\n",
    "mdlb.set_data(\"x\", dffx[fts_x].values, coords=COORDS_F)\n",
    "mdlb.set_data(\"idx_d450\", dffx[\"d450_idx\"].values, coords=COORDS_F)\n",
    "mdlb.set_data(\"idx_d455\", dffx[\"d455_idx\"].values, coords=COORDS_F)\n",
    "\n",
    "display(pm.model_to_graphviz(mdlb, formatting=\"plain\"))\n",
    "assert_no_rvs(mdlb.logp())\n",
    "mdlb.debug(fn=\"logp\", verbose=True)\n",
    "mdlb.debug(fn=\"random\", verbose=True)"
   ]
  },
  {
   "cell_type": "code",
   "execution_count": null,
   "metadata": {
    "colab": {
     "base_uri": "https://localhost:8080/",
     "height": 34,
     "referenced_widgets": [
      "5bdb3b1ed6c045f38ac7267a07d6dcd7",
      "17a29d68378e4306af111358bd850e5e"
     ]
    },
    "id": "Ilbo7p8pJagM",
    "outputId": "ddb942f9-46c6-4ce6-dccd-72924598acb8"
   },
   "outputs": [],
   "source": [
    "with mdlb:\n",
    "    idb_ppc = pm.sample_posterior_predictive(\n",
    "        trace=idb.posterior, var_names=RVS_PPC, predictions=True\n",
    "    )"
   ]
  },
  {
   "cell_type": "markdown",
   "metadata": {
    "id": "FLwaOHm6JagN"
   },
   "source": [
    "### 2.5.2 View Predictions"
   ]
  },
  {
   "cell_type": "code",
   "execution_count": null,
   "metadata": {
    "colab": {
     "base_uri": "https://localhost:8080/",
     "height": 440
    },
    "id": "nErBbUVaJagN",
    "outputId": "bff0b44b-8beb-40d3-bf0f-55ea05f5de98"
   },
   "outputs": [],
   "source": [
    "plot_predicted_phcshat_d450_d455(idata=idb_ppc, mdlname=\"mdlb\")"
   ]
  },
  {
   "cell_type": "markdown",
   "metadata": {
    "id": "_6qGc41tJagN"
   },
   "source": [
    "**Observe:**\n",
    "\n",
    "+ Compare this to the final plots in {cite:p}`rochford2018` and Figure 12 in {cite:p}`burkner2018`\n",
    "+ We see the non-linear responses and non-equal spacings of `d450` and of `d455` when treated as ordinal categories\n",
    "+ In particular, note the behaviours we already saw in the posterior plots\n",
    "  + LHS plot `d450`: all points for `c0` are all higher than the plot in Section 1.5.2 (also note the overlap of `d455: c1, c2` levels in the shaded points)\n",
    "  + RHS plot `d455`: all points for `c1, c2` overlap strongly (also note `d455 c0` outlying)\n",
    "+ We also see that `mdlb` can make predictions for `d450=c4` which is not seen in the data\n",
    "+ Note here we plot the full posteriors on each datapoint (rather than summarise to a mean) which emphasises\n",
    "  the large amount of variance still in the data & model"
   ]
  },
  {
   "cell_type": "markdown",
   "metadata": {
    "id": "dioW8jMIJagN"
   },
   "source": [
    "---\n",
    "\n",
    "---"
   ]
  },
  {
   "cell_type": "markdown",
   "metadata": {
    "id": "OK4z3NA49I8c"
   },
   "source": [
    "# Errata\n",
    "\n",
    "## Authors\n",
    "\n",
    "+ Created by [Jonathan Sedar](https://github.com/jonsedar) in Oct 2024\n",
    "\n",
    "## Reference\n",
    "\n",
    ":::{bibliography}\n",
    ":filter: docname in docnames\n",
    ":::"
   ]
  },
  {
   "cell_type": "markdown",
   "metadata": {
    "id": "KBx5js66JagN"
   },
   "source": [
    "## Watermark"
   ]
  },
  {
   "cell_type": "code",
   "execution_count": null,
   "metadata": {
    "colab": {
     "base_uri": "https://localhost:8080/"
    },
    "id": "_JhXV8qjJagN",
    "outputId": "b5b3518f-b295-42cc-a525-d8f6767270b2"
   },
   "outputs": [],
   "source": [
    "# tested running on Google Colab 2024-10-28\n",
    "%load_ext watermark\n",
    "%watermark -n -u -v -iv -w"
   ]
  },
  {
   "cell_type": "markdown",
   "metadata": {
    "id": "VXNIouB29I8c"
   },
   "source": [
    ":::{include} ../page_footer.md\n",
    ":::"
   ]
  }
 ],
 "metadata": {
  "anaconda-cloud": {},
  "colab": {
   "provenance": []
  },
  "kernelspec": {
   "display_name": "Python 3 (ipykernel)",
   "language": "python",
   "name": "python3"
  },
  "language_info": {
   "codemirror_mode": {
    "name": "ipython",
    "version": 3
   },
   "file_extension": ".py",
   "mimetype": "text/x-python",
   "name": "python",
   "nbconvert_exporter": "python",
   "pygments_lexer": "ipython3",
   "version": "3.11.9"
  },
  "widgets": {
   "application/vnd.jupyter.widget-state+json": {
    "06cc3d00728540e5b575070062775484": {
     "model_module": "@jupyter-widgets/output",
     "model_module_version": "1.0.0",
     "model_name": "OutputModel",
     "state": {
      "_dom_classes": [],
      "_model_module": "@jupyter-widgets/output",
      "_model_module_version": "1.0.0",
      "_model_name": "OutputModel",
      "_view_count": null,
      "_view_module": "@jupyter-widgets/output",
      "_view_module_version": "1.0.0",
      "_view_name": "OutputView",
      "layout": "IPY_MODEL_0a4168d5e6624e969ad00bedd2857e3a",
      "msg_id": "",
      "outputs": [
       {
        "data": {
         "text/html": "<pre style=\"white-space:pre;overflow-x:auto;line-height:normal;font-family:Menlo,'DejaVu Sans Mono',consolas,'Courier New',monospace\">Sampling chain 0, 0 divergences <span style=\"color: #008000; text-decoration-color: #008000\">━━━━━━━━━━━━━━━━━━━━━━━━━━━━━━━━━━━━━━━━</span> <span style=\"color: #800080; text-decoration-color: #800080\">100%</span> <span style=\"color: #008080; text-decoration-color: #008080\">0:00:00</span> / <span style=\"color: #808000; text-decoration-color: #808000\">0:00:06</span>\n</pre>\n",
         "text/plain": "Sampling chain 0, 0 divergences \u001b[32m━━━━━━━━━━━━━━━━━━━━━━━━━━━━━━━━━━━━━━━━\u001b[0m \u001b[35m100%\u001b[0m \u001b[36m0:00:00\u001b[0m / \u001b[33m0:00:06\u001b[0m\n"
        },
        "metadata": {},
        "output_type": "display_data"
       }
      ]
     }
    },
    "0a4168d5e6624e969ad00bedd2857e3a": {
     "model_module": "@jupyter-widgets/base",
     "model_module_version": "1.2.0",
     "model_name": "LayoutModel",
     "state": {
      "_model_module": "@jupyter-widgets/base",
      "_model_module_version": "1.2.0",
      "_model_name": "LayoutModel",
      "_view_count": null,
      "_view_module": "@jupyter-widgets/base",
      "_view_module_version": "1.2.0",
      "_view_name": "LayoutView",
      "align_content": null,
      "align_items": null,
      "align_self": null,
      "border": null,
      "bottom": null,
      "display": null,
      "flex": null,
      "flex_flow": null,
      "grid_area": null,
      "grid_auto_columns": null,
      "grid_auto_flow": null,
      "grid_auto_rows": null,
      "grid_column": null,
      "grid_gap": null,
      "grid_row": null,
      "grid_template_areas": null,
      "grid_template_columns": null,
      "grid_template_rows": null,
      "height": null,
      "justify_content": null,
      "justify_items": null,
      "left": null,
      "margin": null,
      "max_height": null,
      "max_width": null,
      "min_height": null,
      "min_width": null,
      "object_fit": null,
      "object_position": null,
      "order": null,
      "overflow": null,
      "overflow_x": null,
      "overflow_y": null,
      "padding": null,
      "right": null,
      "top": null,
      "visibility": null,
      "width": null
     }
    },
    "0a60c8d42b27478a9c684057d6fa9e15": {
     "model_module": "@jupyter-widgets/output",
     "model_module_version": "1.0.0",
     "model_name": "OutputModel",
     "state": {
      "_dom_classes": [],
      "_model_module": "@jupyter-widgets/output",
      "_model_module_version": "1.0.0",
      "_model_name": "OutputModel",
      "_view_count": null,
      "_view_module": "@jupyter-widgets/output",
      "_view_module_version": "1.0.0",
      "_view_name": "OutputView",
      "layout": "IPY_MODEL_12afca8696704967a11afcda55c9999b",
      "msg_id": "",
      "outputs": [
       {
        "data": {
         "text/html": "<pre style=\"white-space:pre;overflow-x:auto;line-height:normal;font-family:Menlo,'DejaVu Sans Mono',consolas,'Courier New',monospace\">Sampling ... <span style=\"color: #008000; text-decoration-color: #008000\">━━━━━━━━━━━━━━━━━━━━━━━━━━━━━━━━━━━━━━━━</span> <span style=\"color: #800080; text-decoration-color: #800080\">100%</span> <span style=\"color: #008080; text-decoration-color: #008080\">0:00:00</span> / <span style=\"color: #808000; text-decoration-color: #808000\">0:00:00</span>\n</pre>\n",
         "text/plain": "Sampling ... \u001b[32m━━━━━━━━━━━━━━━━━━━━━━━━━━━━━━━━━━━━━━━━\u001b[0m \u001b[35m100%\u001b[0m \u001b[36m0:00:00\u001b[0m / \u001b[33m0:00:00\u001b[0m\n"
        },
        "metadata": {},
        "output_type": "display_data"
       }
      ]
     }
    },
    "0d589c6414744b46b26ab53684a46a6c": {
     "model_module": "@jupyter-widgets/output",
     "model_module_version": "1.0.0",
     "model_name": "OutputModel",
     "state": {
      "_dom_classes": [],
      "_model_module": "@jupyter-widgets/output",
      "_model_module_version": "1.0.0",
      "_model_name": "OutputModel",
      "_view_count": null,
      "_view_module": "@jupyter-widgets/output",
      "_view_module_version": "1.0.0",
      "_view_name": "OutputView",
      "layout": "IPY_MODEL_186760fa868747e0a725b0ebfc236c60",
      "msg_id": "",
      "outputs": [
       {
        "data": {
         "text/html": "<pre style=\"white-space:pre;overflow-x:auto;line-height:normal;font-family:Menlo,'DejaVu Sans Mono',consolas,'Courier New',monospace\">Sampling chain 0, 0 divergences <span style=\"color: #008000; text-decoration-color: #008000\">━━━━━━━━━━━━━━━━━━━━━━━━━━━━━━━━━━━━━━━━</span> <span style=\"color: #800080; text-decoration-color: #800080\">100%</span> <span style=\"color: #008080; text-decoration-color: #008080\">0:00:00</span> / <span style=\"color: #808000; text-decoration-color: #808000\">0:01:25</span>\n</pre>\n",
         "text/plain": "Sampling chain 0, 0 divergences \u001b[32m━━━━━━━━━━━━━━━━━━━━━━━━━━━━━━━━━━━━━━━━\u001b[0m \u001b[35m100%\u001b[0m \u001b[36m0:00:00\u001b[0m / \u001b[33m0:01:25\u001b[0m\n"
        },
        "metadata": {},
        "output_type": "display_data"
       }
      ]
     }
    },
    "12afca8696704967a11afcda55c9999b": {
     "model_module": "@jupyter-widgets/base",
     "model_module_version": "1.2.0",
     "model_name": "LayoutModel",
     "state": {
      "_model_module": "@jupyter-widgets/base",
      "_model_module_version": "1.2.0",
      "_model_name": "LayoutModel",
      "_view_count": null,
      "_view_module": "@jupyter-widgets/base",
      "_view_module_version": "1.2.0",
      "_view_name": "LayoutView",
      "align_content": null,
      "align_items": null,
      "align_self": null,
      "border": null,
      "bottom": null,
      "display": null,
      "flex": null,
      "flex_flow": null,
      "grid_area": null,
      "grid_auto_columns": null,
      "grid_auto_flow": null,
      "grid_auto_rows": null,
      "grid_column": null,
      "grid_gap": null,
      "grid_row": null,
      "grid_template_areas": null,
      "grid_template_columns": null,
      "grid_template_rows": null,
      "height": null,
      "justify_content": null,
      "justify_items": null,
      "left": null,
      "margin": null,
      "max_height": null,
      "max_width": null,
      "min_height": null,
      "min_width": null,
      "object_fit": null,
      "object_position": null,
      "order": null,
      "overflow": null,
      "overflow_x": null,
      "overflow_y": null,
      "padding": null,
      "right": null,
      "top": null,
      "visibility": null,
      "width": null
     }
    },
    "17a29d68378e4306af111358bd850e5e": {
     "model_module": "@jupyter-widgets/base",
     "model_module_version": "1.2.0",
     "model_name": "LayoutModel",
     "state": {
      "_model_module": "@jupyter-widgets/base",
      "_model_module_version": "1.2.0",
      "_model_name": "LayoutModel",
      "_view_count": null,
      "_view_module": "@jupyter-widgets/base",
      "_view_module_version": "1.2.0",
      "_view_name": "LayoutView",
      "align_content": null,
      "align_items": null,
      "align_self": null,
      "border": null,
      "bottom": null,
      "display": null,
      "flex": null,
      "flex_flow": null,
      "grid_area": null,
      "grid_auto_columns": null,
      "grid_auto_flow": null,
      "grid_auto_rows": null,
      "grid_column": null,
      "grid_gap": null,
      "grid_row": null,
      "grid_template_areas": null,
      "grid_template_columns": null,
      "grid_template_rows": null,
      "height": null,
      "justify_content": null,
      "justify_items": null,
      "left": null,
      "margin": null,
      "max_height": null,
      "max_width": null,
      "min_height": null,
      "min_width": null,
      "object_fit": null,
      "object_position": null,
      "order": null,
      "overflow": null,
      "overflow_x": null,
      "overflow_y": null,
      "padding": null,
      "right": null,
      "top": null,
      "visibility": null,
      "width": null
     }
    },
    "186760fa868747e0a725b0ebfc236c60": {
     "model_module": "@jupyter-widgets/base",
     "model_module_version": "1.2.0",
     "model_name": "LayoutModel",
     "state": {
      "_model_module": "@jupyter-widgets/base",
      "_model_module_version": "1.2.0",
      "_model_name": "LayoutModel",
      "_view_count": null,
      "_view_module": "@jupyter-widgets/base",
      "_view_module_version": "1.2.0",
      "_view_name": "LayoutView",
      "align_content": null,
      "align_items": null,
      "align_self": null,
      "border": null,
      "bottom": null,
      "display": null,
      "flex": null,
      "flex_flow": null,
      "grid_area": null,
      "grid_auto_columns": null,
      "grid_auto_flow": null,
      "grid_auto_rows": null,
      "grid_column": null,
      "grid_gap": null,
      "grid_row": null,
      "grid_template_areas": null,
      "grid_template_columns": null,
      "grid_template_rows": null,
      "height": null,
      "justify_content": null,
      "justify_items": null,
      "left": null,
      "margin": null,
      "max_height": null,
      "max_width": null,
      "min_height": null,
      "min_width": null,
      "object_fit": null,
      "object_position": null,
      "order": null,
      "overflow": null,
      "overflow_x": null,
      "overflow_y": null,
      "padding": null,
      "right": null,
      "top": null,
      "visibility": null,
      "width": null
     }
    },
    "1fabd430cd72478780ac4b10b1bef4ec": {
     "model_module": "@jupyter-widgets/base",
     "model_module_version": "1.2.0",
     "model_name": "LayoutModel",
     "state": {
      "_model_module": "@jupyter-widgets/base",
      "_model_module_version": "1.2.0",
      "_model_name": "LayoutModel",
      "_view_count": null,
      "_view_module": "@jupyter-widgets/base",
      "_view_module_version": "1.2.0",
      "_view_name": "LayoutView",
      "align_content": null,
      "align_items": null,
      "align_self": null,
      "border": null,
      "bottom": null,
      "display": null,
      "flex": null,
      "flex_flow": null,
      "grid_area": null,
      "grid_auto_columns": null,
      "grid_auto_flow": null,
      "grid_auto_rows": null,
      "grid_column": null,
      "grid_gap": null,
      "grid_row": null,
      "grid_template_areas": null,
      "grid_template_columns": null,
      "grid_template_rows": null,
      "height": null,
      "justify_content": null,
      "justify_items": null,
      "left": null,
      "margin": null,
      "max_height": null,
      "max_width": null,
      "min_height": null,
      "min_width": null,
      "object_fit": null,
      "object_position": null,
      "order": null,
      "overflow": null,
      "overflow_x": null,
      "overflow_y": null,
      "padding": null,
      "right": null,
      "top": null,
      "visibility": null,
      "width": null
     }
    },
    "24f3c3466b984e90871abe6010a00a2b": {
     "model_module": "@jupyter-widgets/output",
     "model_module_version": "1.0.0",
     "model_name": "OutputModel",
     "state": {
      "_dom_classes": [],
      "_model_module": "@jupyter-widgets/output",
      "_model_module_version": "1.0.0",
      "_model_name": "OutputModel",
      "_view_count": null,
      "_view_module": "@jupyter-widgets/output",
      "_view_module_version": "1.0.0",
      "_view_name": "OutputView",
      "layout": "IPY_MODEL_a013b3649b4f4cffac7cba760e293ce9",
      "msg_id": "",
      "outputs": [
       {
        "data": {
         "text/html": "<pre style=\"white-space:pre;overflow-x:auto;line-height:normal;font-family:Menlo,'DejaVu Sans Mono',consolas,'Courier New',monospace\">Sampling chain 1, 0 divergences <span style=\"color: #008000; text-decoration-color: #008000\">━━━━━━━━━━━━━━━━━━━━━━━━━━━━━━━━━━━━━━━━</span> <span style=\"color: #800080; text-decoration-color: #800080\">100%</span> <span style=\"color: #008080; text-decoration-color: #008080\">0:00:00</span> / <span style=\"color: #808000; text-decoration-color: #808000\">0:00:06</span>\n</pre>\n",
         "text/plain": "Sampling chain 1, 0 divergences \u001b[32m━━━━━━━━━━━━━━━━━━━━━━━━━━━━━━━━━━━━━━━━\u001b[0m \u001b[35m100%\u001b[0m \u001b[36m0:00:00\u001b[0m / \u001b[33m0:00:06\u001b[0m\n"
        },
        "metadata": {},
        "output_type": "display_data"
       }
      ]
     }
    },
    "2663c7804b6c4d47a9f0c7f5120f0258": {
     "model_module": "@jupyter-widgets/output",
     "model_module_version": "1.0.0",
     "model_name": "OutputModel",
     "state": {
      "_dom_classes": [],
      "_model_module": "@jupyter-widgets/output",
      "_model_module_version": "1.0.0",
      "_model_name": "OutputModel",
      "_view_count": null,
      "_view_module": "@jupyter-widgets/output",
      "_view_module_version": "1.0.0",
      "_view_name": "OutputView",
      "layout": "IPY_MODEL_28295446a86f427792864bfb5e310ba6",
      "msg_id": "",
      "outputs": [
       {
        "data": {
         "text/html": "<pre style=\"white-space:pre;overflow-x:auto;line-height:normal;font-family:Menlo,'DejaVu Sans Mono',consolas,'Courier New',monospace\">Sampling ... <span style=\"color: #008000; text-decoration-color: #008000\">━━━━━━━━━━━━━━━━━━━━━━━━━━━━━━━━━━━━━━━━</span> <span style=\"color: #800080; text-decoration-color: #800080\">100%</span> <span style=\"color: #008080; text-decoration-color: #008080\">0:00:00</span> / <span style=\"color: #808000; text-decoration-color: #808000\">0:00:00</span>\n</pre>\n",
         "text/plain": "Sampling ... \u001b[32m━━━━━━━━━━━━━━━━━━━━━━━━━━━━━━━━━━━━━━━━\u001b[0m \u001b[35m100%\u001b[0m \u001b[36m0:00:00\u001b[0m / \u001b[33m0:00:00\u001b[0m\n"
        },
        "metadata": {},
        "output_type": "display_data"
       }
      ]
     }
    },
    "28295446a86f427792864bfb5e310ba6": {
     "model_module": "@jupyter-widgets/base",
     "model_module_version": "1.2.0",
     "model_name": "LayoutModel",
     "state": {
      "_model_module": "@jupyter-widgets/base",
      "_model_module_version": "1.2.0",
      "_model_name": "LayoutModel",
      "_view_count": null,
      "_view_module": "@jupyter-widgets/base",
      "_view_module_version": "1.2.0",
      "_view_name": "LayoutView",
      "align_content": null,
      "align_items": null,
      "align_self": null,
      "border": null,
      "bottom": null,
      "display": null,
      "flex": null,
      "flex_flow": null,
      "grid_area": null,
      "grid_auto_columns": null,
      "grid_auto_flow": null,
      "grid_auto_rows": null,
      "grid_column": null,
      "grid_gap": null,
      "grid_row": null,
      "grid_template_areas": null,
      "grid_template_columns": null,
      "grid_template_rows": null,
      "height": null,
      "justify_content": null,
      "justify_items": null,
      "left": null,
      "margin": null,
      "max_height": null,
      "max_width": null,
      "min_height": null,
      "min_width": null,
      "object_fit": null,
      "object_position": null,
      "order": null,
      "overflow": null,
      "overflow_x": null,
      "overflow_y": null,
      "padding": null,
      "right": null,
      "top": null,
      "visibility": null,
      "width": null
     }
    },
    "525e4c51751f461889ce090e0a6d8942": {
     "model_module": "@jupyter-widgets/output",
     "model_module_version": "1.0.0",
     "model_name": "OutputModel",
     "state": {
      "_dom_classes": [],
      "_model_module": "@jupyter-widgets/output",
      "_model_module_version": "1.0.0",
      "_model_name": "OutputModel",
      "_view_count": null,
      "_view_module": "@jupyter-widgets/output",
      "_view_module_version": "1.0.0",
      "_view_name": "OutputView",
      "layout": "IPY_MODEL_a9b2452905344c76b4d5eaf98f62cbac",
      "msg_id": "",
      "outputs": [
       {
        "data": {
         "text/html": "<pre style=\"white-space:pre;overflow-x:auto;line-height:normal;font-family:Menlo,'DejaVu Sans Mono',consolas,'Courier New',monospace\">Sampling chain 3, 0 divergences <span style=\"color: #008000; text-decoration-color: #008000\">━━━━━━━━━━━━━━━━━━━━━━━━━━━━━━━━━━━━━━━━</span> <span style=\"color: #800080; text-decoration-color: #800080\">100%</span> <span style=\"color: #008080; text-decoration-color: #008080\">0:00:00</span> / <span style=\"color: #808000; text-decoration-color: #808000\">0:00:06</span>\n</pre>\n",
         "text/plain": "Sampling chain 3, 0 divergences \u001b[32m━━━━━━━━━━━━━━━━━━━━━━━━━━━━━━━━━━━━━━━━\u001b[0m \u001b[35m100%\u001b[0m \u001b[36m0:00:00\u001b[0m / \u001b[33m0:00:06\u001b[0m\n"
        },
        "metadata": {},
        "output_type": "display_data"
       }
      ]
     }
    },
    "5bdb3b1ed6c045f38ac7267a07d6dcd7": {
     "model_module": "@jupyter-widgets/output",
     "model_module_version": "1.0.0",
     "model_name": "OutputModel",
     "state": {
      "_dom_classes": [],
      "_model_module": "@jupyter-widgets/output",
      "_model_module_version": "1.0.0",
      "_model_name": "OutputModel",
      "_view_count": null,
      "_view_module": "@jupyter-widgets/output",
      "_view_module_version": "1.0.0",
      "_view_name": "OutputView",
      "layout": "IPY_MODEL_17a29d68378e4306af111358bd850e5e",
      "msg_id": "",
      "outputs": [
       {
        "data": {
         "text/html": "<pre style=\"white-space:pre;overflow-x:auto;line-height:normal;font-family:Menlo,'DejaVu Sans Mono',consolas,'Courier New',monospace\">Sampling ... <span style=\"color: #008000; text-decoration-color: #008000\">━━━━━━━━━━━━━━━━━━━━━━━━━━━━━━━━━━━━━━━━</span> <span style=\"color: #800080; text-decoration-color: #800080\">100%</span> <span style=\"color: #008080; text-decoration-color: #008080\">0:00:00</span> / <span style=\"color: #808000; text-decoration-color: #808000\">0:00:00</span>\n</pre>\n",
         "text/plain": "Sampling ... \u001b[32m━━━━━━━━━━━━━━━━━━━━━━━━━━━━━━━━━━━━━━━━\u001b[0m \u001b[35m100%\u001b[0m \u001b[36m0:00:00\u001b[0m / \u001b[33m0:00:00\u001b[0m\n"
        },
        "metadata": {},
        "output_type": "display_data"
       }
      ]
     }
    },
    "75baebed1bf74beca21c1286c418236b": {
     "model_module": "@jupyter-widgets/output",
     "model_module_version": "1.0.0",
     "model_name": "OutputModel",
     "state": {
      "_dom_classes": [],
      "_model_module": "@jupyter-widgets/output",
      "_model_module_version": "1.0.0",
      "_model_name": "OutputModel",
      "_view_count": null,
      "_view_module": "@jupyter-widgets/output",
      "_view_module_version": "1.0.0",
      "_view_name": "OutputView",
      "layout": "IPY_MODEL_7b9eaf22b36d4d24b61b1e776f0c3048",
      "msg_id": "",
      "outputs": [
       {
        "data": {
         "text/html": "<pre style=\"white-space:pre;overflow-x:auto;line-height:normal;font-family:Menlo,'DejaVu Sans Mono',consolas,'Courier New',monospace\">Sampling chain 2, 0 divergences <span style=\"color: #008000; text-decoration-color: #008000\">━━━━━━━━━━━━━━━━━━━━━━━━━━━━━━━━━━━━━━━━</span> <span style=\"color: #800080; text-decoration-color: #800080\">100%</span> <span style=\"color: #008080; text-decoration-color: #008080\">0:00:00</span> / <span style=\"color: #808000; text-decoration-color: #808000\">0:00:05</span>\n</pre>\n",
         "text/plain": "Sampling chain 2, 0 divergences \u001b[32m━━━━━━━━━━━━━━━━━━━━━━━━━━━━━━━━━━━━━━━━\u001b[0m \u001b[35m100%\u001b[0m \u001b[36m0:00:00\u001b[0m / \u001b[33m0:00:05\u001b[0m\n"
        },
        "metadata": {},
        "output_type": "display_data"
       }
      ]
     }
    },
    "7b9eaf22b36d4d24b61b1e776f0c3048": {
     "model_module": "@jupyter-widgets/base",
     "model_module_version": "1.2.0",
     "model_name": "LayoutModel",
     "state": {
      "_model_module": "@jupyter-widgets/base",
      "_model_module_version": "1.2.0",
      "_model_name": "LayoutModel",
      "_view_count": null,
      "_view_module": "@jupyter-widgets/base",
      "_view_module_version": "1.2.0",
      "_view_name": "LayoutView",
      "align_content": null,
      "align_items": null,
      "align_self": null,
      "border": null,
      "bottom": null,
      "display": null,
      "flex": null,
      "flex_flow": null,
      "grid_area": null,
      "grid_auto_columns": null,
      "grid_auto_flow": null,
      "grid_auto_rows": null,
      "grid_column": null,
      "grid_gap": null,
      "grid_row": null,
      "grid_template_areas": null,
      "grid_template_columns": null,
      "grid_template_rows": null,
      "height": null,
      "justify_content": null,
      "justify_items": null,
      "left": null,
      "margin": null,
      "max_height": null,
      "max_width": null,
      "min_height": null,
      "min_width": null,
      "object_fit": null,
      "object_position": null,
      "order": null,
      "overflow": null,
      "overflow_x": null,
      "overflow_y": null,
      "padding": null,
      "right": null,
      "top": null,
      "visibility": null,
      "width": null
     }
    },
    "7ff6e1d26b3a4c40bf34d7cafd84f51d": {
     "model_module": "@jupyter-widgets/output",
     "model_module_version": "1.0.0",
     "model_name": "OutputModel",
     "state": {
      "_dom_classes": [],
      "_model_module": "@jupyter-widgets/output",
      "_model_module_version": "1.0.0",
      "_model_name": "OutputModel",
      "_view_count": null,
      "_view_module": "@jupyter-widgets/output",
      "_view_module_version": "1.0.0",
      "_view_name": "OutputView",
      "layout": "IPY_MODEL_1fabd430cd72478780ac4b10b1bef4ec",
      "msg_id": "",
      "outputs": [
       {
        "data": {
         "text/html": "<pre style=\"white-space:pre;overflow-x:auto;line-height:normal;font-family:Menlo,'DejaVu Sans Mono',consolas,'Courier New',monospace\">Sampling chain 2, 1 divergences <span style=\"color: #008000; text-decoration-color: #008000\">━━━━━━━━━━━━━━━━━━━━━━━━━━━━━━━━━━━━━━━━</span> <span style=\"color: #800080; text-decoration-color: #800080\">100%</span> <span style=\"color: #008080; text-decoration-color: #008080\">0:00:00</span> / <span style=\"color: #808000; text-decoration-color: #808000\">0:01:16</span>\n</pre>\n",
         "text/plain": "Sampling chain 2, 1 divergences \u001b[32m━━━━━━━━━━━━━━━━━━━━━━━━━━━━━━━━━━━━━━━━\u001b[0m \u001b[35m100%\u001b[0m \u001b[36m0:00:00\u001b[0m / \u001b[33m0:01:16\u001b[0m\n"
        },
        "metadata": {},
        "output_type": "display_data"
       }
      ]
     }
    },
    "8756d6e881344e099dcb7b2f737e3958": {
     "model_module": "@jupyter-widgets/output",
     "model_module_version": "1.0.0",
     "model_name": "OutputModel",
     "state": {
      "_dom_classes": [],
      "_model_module": "@jupyter-widgets/output",
      "_model_module_version": "1.0.0",
      "_model_name": "OutputModel",
      "_view_count": null,
      "_view_module": "@jupyter-widgets/output",
      "_view_module_version": "1.0.0",
      "_view_name": "OutputView",
      "layout": "IPY_MODEL_c209b8e19bed4966a4aa3445babac4da",
      "msg_id": "",
      "outputs": [
       {
        "data": {
         "text/html": "<pre style=\"white-space:pre;overflow-x:auto;line-height:normal;font-family:Menlo,'DejaVu Sans Mono',consolas,'Courier New',monospace\">Sampling ... <span style=\"color: #008000; text-decoration-color: #008000\">━━━━━━━━━━━━━━━━━━━━━━━━━━━━━━━━━━━━━━━━</span> <span style=\"color: #800080; text-decoration-color: #800080\">100%</span> <span style=\"color: #008080; text-decoration-color: #008080\">0:00:00</span> / <span style=\"color: #808000; text-decoration-color: #808000\">0:00:00</span>\n</pre>\n",
         "text/plain": "Sampling ... \u001b[32m━━━━━━━━━━━━━━━━━━━━━━━━━━━━━━━━━━━━━━━━\u001b[0m \u001b[35m100%\u001b[0m \u001b[36m0:00:00\u001b[0m / \u001b[33m0:00:00\u001b[0m\n"
        },
        "metadata": {},
        "output_type": "display_data"
       }
      ]
     }
    },
    "a013b3649b4f4cffac7cba760e293ce9": {
     "model_module": "@jupyter-widgets/base",
     "model_module_version": "1.2.0",
     "model_name": "LayoutModel",
     "state": {
      "_model_module": "@jupyter-widgets/base",
      "_model_module_version": "1.2.0",
      "_model_name": "LayoutModel",
      "_view_count": null,
      "_view_module": "@jupyter-widgets/base",
      "_view_module_version": "1.2.0",
      "_view_name": "LayoutView",
      "align_content": null,
      "align_items": null,
      "align_self": null,
      "border": null,
      "bottom": null,
      "display": null,
      "flex": null,
      "flex_flow": null,
      "grid_area": null,
      "grid_auto_columns": null,
      "grid_auto_flow": null,
      "grid_auto_rows": null,
      "grid_column": null,
      "grid_gap": null,
      "grid_row": null,
      "grid_template_areas": null,
      "grid_template_columns": null,
      "grid_template_rows": null,
      "height": null,
      "justify_content": null,
      "justify_items": null,
      "left": null,
      "margin": null,
      "max_height": null,
      "max_width": null,
      "min_height": null,
      "min_width": null,
      "object_fit": null,
      "object_position": null,
      "order": null,
      "overflow": null,
      "overflow_x": null,
      "overflow_y": null,
      "padding": null,
      "right": null,
      "top": null,
      "visibility": null,
      "width": null
     }
    },
    "a1015cbb012a43c48d86a5bdf03fa0dc": {
     "model_module": "@jupyter-widgets/output",
     "model_module_version": "1.0.0",
     "model_name": "OutputModel",
     "state": {
      "_dom_classes": [],
      "_model_module": "@jupyter-widgets/output",
      "_model_module_version": "1.0.0",
      "_model_name": "OutputModel",
      "_view_count": null,
      "_view_module": "@jupyter-widgets/output",
      "_view_module_version": "1.0.0",
      "_view_name": "OutputView",
      "layout": "IPY_MODEL_c01d887394474462a3cfc601ea40dc13",
      "msg_id": "",
      "outputs": [
       {
        "data": {
         "text/html": "<pre style=\"white-space:pre;overflow-x:auto;line-height:normal;font-family:Menlo,'DejaVu Sans Mono',consolas,'Courier New',monospace\">Sampling chain 1, 0 divergences <span style=\"color: #008000; text-decoration-color: #008000\">━━━━━━━━━━━━━━━━━━━━━━━━━━━━━━━━━━━━━━━━</span> <span style=\"color: #800080; text-decoration-color: #800080\">100%</span> <span style=\"color: #008080; text-decoration-color: #008080\">0:00:00</span> / <span style=\"color: #808000; text-decoration-color: #808000\">0:01:19</span>\n</pre>\n",
         "text/plain": "Sampling chain 1, 0 divergences \u001b[32m━━━━━━━━━━━━━━━━━━━━━━━━━━━━━━━━━━━━━━━━\u001b[0m \u001b[35m100%\u001b[0m \u001b[36m0:00:00\u001b[0m / \u001b[33m0:01:19\u001b[0m\n"
        },
        "metadata": {},
        "output_type": "display_data"
       }
      ]
     }
    },
    "a9b2452905344c76b4d5eaf98f62cbac": {
     "model_module": "@jupyter-widgets/base",
     "model_module_version": "1.2.0",
     "model_name": "LayoutModel",
     "state": {
      "_model_module": "@jupyter-widgets/base",
      "_model_module_version": "1.2.0",
      "_model_name": "LayoutModel",
      "_view_count": null,
      "_view_module": "@jupyter-widgets/base",
      "_view_module_version": "1.2.0",
      "_view_name": "LayoutView",
      "align_content": null,
      "align_items": null,
      "align_self": null,
      "border": null,
      "bottom": null,
      "display": null,
      "flex": null,
      "flex_flow": null,
      "grid_area": null,
      "grid_auto_columns": null,
      "grid_auto_flow": null,
      "grid_auto_rows": null,
      "grid_column": null,
      "grid_gap": null,
      "grid_row": null,
      "grid_template_areas": null,
      "grid_template_columns": null,
      "grid_template_rows": null,
      "height": null,
      "justify_content": null,
      "justify_items": null,
      "left": null,
      "margin": null,
      "max_height": null,
      "max_width": null,
      "min_height": null,
      "min_width": null,
      "object_fit": null,
      "object_position": null,
      "order": null,
      "overflow": null,
      "overflow_x": null,
      "overflow_y": null,
      "padding": null,
      "right": null,
      "top": null,
      "visibility": null,
      "width": null
     }
    },
    "c01d887394474462a3cfc601ea40dc13": {
     "model_module": "@jupyter-widgets/base",
     "model_module_version": "1.2.0",
     "model_name": "LayoutModel",
     "state": {
      "_model_module": "@jupyter-widgets/base",
      "_model_module_version": "1.2.0",
      "_model_name": "LayoutModel",
      "_view_count": null,
      "_view_module": "@jupyter-widgets/base",
      "_view_module_version": "1.2.0",
      "_view_name": "LayoutView",
      "align_content": null,
      "align_items": null,
      "align_self": null,
      "border": null,
      "bottom": null,
      "display": null,
      "flex": null,
      "flex_flow": null,
      "grid_area": null,
      "grid_auto_columns": null,
      "grid_auto_flow": null,
      "grid_auto_rows": null,
      "grid_column": null,
      "grid_gap": null,
      "grid_row": null,
      "grid_template_areas": null,
      "grid_template_columns": null,
      "grid_template_rows": null,
      "height": null,
      "justify_content": null,
      "justify_items": null,
      "left": null,
      "margin": null,
      "max_height": null,
      "max_width": null,
      "min_height": null,
      "min_width": null,
      "object_fit": null,
      "object_position": null,
      "order": null,
      "overflow": null,
      "overflow_x": null,
      "overflow_y": null,
      "padding": null,
      "right": null,
      "top": null,
      "visibility": null,
      "width": null
     }
    },
    "c209b8e19bed4966a4aa3445babac4da": {
     "model_module": "@jupyter-widgets/base",
     "model_module_version": "1.2.0",
     "model_name": "LayoutModel",
     "state": {
      "_model_module": "@jupyter-widgets/base",
      "_model_module_version": "1.2.0",
      "_model_name": "LayoutModel",
      "_view_count": null,
      "_view_module": "@jupyter-widgets/base",
      "_view_module_version": "1.2.0",
      "_view_name": "LayoutView",
      "align_content": null,
      "align_items": null,
      "align_self": null,
      "border": null,
      "bottom": null,
      "display": null,
      "flex": null,
      "flex_flow": null,
      "grid_area": null,
      "grid_auto_columns": null,
      "grid_auto_flow": null,
      "grid_auto_rows": null,
      "grid_column": null,
      "grid_gap": null,
      "grid_row": null,
      "grid_template_areas": null,
      "grid_template_columns": null,
      "grid_template_rows": null,
      "height": null,
      "justify_content": null,
      "justify_items": null,
      "left": null,
      "margin": null,
      "max_height": null,
      "max_width": null,
      "min_height": null,
      "min_width": null,
      "object_fit": null,
      "object_position": null,
      "order": null,
      "overflow": null,
      "overflow_x": null,
      "overflow_y": null,
      "padding": null,
      "right": null,
      "top": null,
      "visibility": null,
      "width": null
     }
    },
    "e0ec99304ad442a881d0522376972bc1": {
     "model_module": "@jupyter-widgets/base",
     "model_module_version": "1.2.0",
     "model_name": "LayoutModel",
     "state": {
      "_model_module": "@jupyter-widgets/base",
      "_model_module_version": "1.2.0",
      "_model_name": "LayoutModel",
      "_view_count": null,
      "_view_module": "@jupyter-widgets/base",
      "_view_module_version": "1.2.0",
      "_view_name": "LayoutView",
      "align_content": null,
      "align_items": null,
      "align_self": null,
      "border": null,
      "bottom": null,
      "display": null,
      "flex": null,
      "flex_flow": null,
      "grid_area": null,
      "grid_auto_columns": null,
      "grid_auto_flow": null,
      "grid_auto_rows": null,
      "grid_column": null,
      "grid_gap": null,
      "grid_row": null,
      "grid_template_areas": null,
      "grid_template_columns": null,
      "grid_template_rows": null,
      "height": null,
      "justify_content": null,
      "justify_items": null,
      "left": null,
      "margin": null,
      "max_height": null,
      "max_width": null,
      "min_height": null,
      "min_width": null,
      "object_fit": null,
      "object_position": null,
      "order": null,
      "overflow": null,
      "overflow_x": null,
      "overflow_y": null,
      "padding": null,
      "right": null,
      "top": null,
      "visibility": null,
      "width": null
     }
    },
    "e4addbe432cd42ce92f694e7517d0a6c": {
     "model_module": "@jupyter-widgets/output",
     "model_module_version": "1.0.0",
     "model_name": "OutputModel",
     "state": {
      "_dom_classes": [],
      "_model_module": "@jupyter-widgets/output",
      "_model_module_version": "1.0.0",
      "_model_name": "OutputModel",
      "_view_count": null,
      "_view_module": "@jupyter-widgets/output",
      "_view_module_version": "1.0.0",
      "_view_name": "OutputView",
      "layout": "IPY_MODEL_e0ec99304ad442a881d0522376972bc1",
      "msg_id": "",
      "outputs": [
       {
        "data": {
         "text/html": "<pre style=\"white-space:pre;overflow-x:auto;line-height:normal;font-family:Menlo,'DejaVu Sans Mono',consolas,'Courier New',monospace\">Sampling chain 3, 0 divergences <span style=\"color: #008000; text-decoration-color: #008000\">━━━━━━━━━━━━━━━━━━━━━━━━━━━━━━━━━━━━━━━━</span> <span style=\"color: #800080; text-decoration-color: #800080\">100%</span> <span style=\"color: #008080; text-decoration-color: #008080\">0:00:00</span> / <span style=\"color: #808000; text-decoration-color: #808000\">0:01:14</span>\n</pre>\n",
         "text/plain": "Sampling chain 3, 0 divergences \u001b[32m━━━━━━━━━━━━━━━━━━━━━━━━━━━━━━━━━━━━━━━━\u001b[0m \u001b[35m100%\u001b[0m \u001b[36m0:00:00\u001b[0m / \u001b[33m0:01:14\u001b[0m\n"
        },
        "metadata": {},
        "output_type": "display_data"
       }
      ]
     }
    }
   }
  }
 },
 "nbformat": 4,
 "nbformat_minor": 0
}
